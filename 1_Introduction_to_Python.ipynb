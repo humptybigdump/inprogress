{
 "cells": [
  {
   "cell_type": "markdown",
   "metadata": {},
   "source": [
    "# <a id='toc1_'></a>[Introduction to Python](#toc0_)\n",
    "\n",
    "This notebook serves as an introduction to Python fundamentals. Due to time constraints, it does not capture everything in great detail. For a more comprehensive introduction, please refer to the material linked at the bottom."
   ]
  },
  {
   "cell_type": "markdown",
   "metadata": {},
   "source": [
    "**Table of contents**<a id='toc0_'></a>    \n",
    "- [Introduction to Python](#toc1_)    \n",
    "- [Jupyter notebooks](#toc2_)    \n",
    "- [Python Basics](#toc3_)    \n",
    "  - [Comments](#toc3_1_)    \n",
    "  - [Print to the Output window](#toc3_2_)    \n",
    "  - [Variables and Data Types](#toc3_3_)    \n",
    "  - [Operators](#toc3_4_)    \n",
    "    - [Logical Operators](#toc3_4_1_)    \n",
    "  - [More on lists](#toc3_5_)    \n",
    "  - [Referencing](#toc3_6_)    \n",
    "  - [Loops](#toc3_7_)    \n",
    "    - [Indentation in Python](#toc3_7_1_)    \n",
    "    - [Looping through lists](#toc3_7_2_)    \n",
    "  - [If-statements](#toc3_8_)    \n",
    "  - [Functions](#toc3_9_)    \n",
    "    - [Defining a Function](#toc3_9_1_)    \n",
    "  - [Scope](#toc3_10_)    \n",
    "  - [Classes](#toc3_11_)    \n",
    "  - [Modules](#toc3_12_)    \n",
    "    - [What is a Module?](#toc3_12_1_)    \n",
    "      - [Example:](#toc3_12_1_1_)    \n",
    "      - [How to Create a Module:](#toc3_12_1_2_)    \n",
    "      - [How to Use a Module:](#toc3_12_1_3_)    \n",
    "      - [How to Run a Module:](#toc3_12_1_4_)    \n",
    "    - [Reloading Modules](#toc3_12_2_)    \n",
    "    - [Running a Module](#toc3_12_3_)    \n",
    "- [Python Packages](#toc4_)    \n",
    "- [Remarks](#toc5_)    \n",
    "\n",
    "<!-- vscode-jupyter-toc-config\n",
    "\tnumbering=false\n",
    "\tanchor=true\n",
    "\tflat=false\n",
    "\tminLevel=1\n",
    "\tmaxLevel=6\n",
    "\t/vscode-jupyter-toc-config -->\n",
    "<!-- THIS CELL WILL BE REPLACED ON TOC UPDATE. DO NOT WRITE YOUR TEXT IN THIS CELL -->"
   ]
  },
  {
   "cell_type": "markdown",
   "metadata": {},
   "source": [
    "# <a id='toc2_'></a>[Jupyter notebooks](#toc0_)\n",
    "\n",
    "Jupyter notebooks (indicated by the extension `.ipynb`) allow us to combine code, text, and visualizations in a single document. You are currently working in a Jupyter notebook. It consists of cells. Each cell can be either a code cell (for Python code) or a markdown cell (for text and formatting). This cell is a markdown cell. Markdown is a simple way to format text. You can find a guide to markdown syntax [here](https://www.markdownguide.org/basic-syntax/).\n",
    "\n",
    "💡 *Tip:* Use Markdown cells to write notes, explain your code, or create nicely formatted reports."
   ]
  },
  {
   "cell_type": "markdown",
   "metadata": {},
   "source": [
    "This is a `markdown cell`. Mark the cell and\n",
    "\n",
    "* Press <kbd>Enter</kbd> to go to *edit mode*\n",
    "* Press <kbd>Esc</kbd> to go to *command mode*\n",
    "* Press <kbd>Ctrl+Enter</kbd> to *run* the cell\n",
    "* Press <kbd>Shift+Enter</kbd> to *run* the cell + advance\n",
    "\n",
    "\n",
    "We can make lists:\n",
    "1. **First** item\n",
    "2. *Second* item\n",
    "3. ~~Third~~ item\n",
    "\n",
    "We can also do LaTeX math, e.g. $\\alpha^2$ or\n",
    "\n",
    "$$\n",
    "X = \\int_0^{\\infty} \\frac{x}{x+1} dx\n",
    "$$\n"
   ]
  },
  {
   "cell_type": "code",
   "execution_count": null,
   "metadata": {},
   "outputs": [],
   "source": [
    "# this is (a comment in) a code cell\n",
    "# let us do some calculations\n",
    "a = 20\n",
    "b = 30\n",
    "\n",
    "c = a+b\n",
    "\n",
    "# let us print the results (shown below the cell)\n",
    "print(c)"
   ]
  },
  {
   "cell_type": "markdown",
   "metadata": {},
   "source": [
    "In Jupyter Notebooks, there are two modes: Edit mode and Command mode. \n",
    "In edit mode, you can type into the cell. In command mode, you can edit the notebook as a whole, but not type into individual cells.\n",
    "\n",
    "The following commands are useful in both modes:\n",
    "1. Run cell: `Ctrl+Enter`\n",
    "2. Run cell and advance: `Shift+Enter`\n",
    "3. Enter edit mode: `Enter`\n",
    "4. Exit edit mode: `Esc`\n",
    "\n",
    "In command mode (press `Esc`), you can use the following shortcuts:\n",
    "1. Press `A` to *create* new code cell *above*\n",
    "2. Press `B` to *create* new code cell *below* \n",
    "3. Press `M` to change to `markdown cell`\n",
    "4. Press `Y` to change to `code cell`\n",
    "5. Press `D+D` to *delete* cell\n",
    "\n",
    "\n",
    "**Useful shortcuts**: See this [guide](https://sites.google.com/view/numeconcph-introprog/guides/vscode).\n",
    "\n"
   ]
  },
  {
   "cell_type": "markdown",
   "metadata": {},
   "source": [
    "# <a id='toc3_'></a>[Python Basics](#toc0_)\n",
    "\n",
    "## <a id='toc3_1_'></a>[Comments](#toc0_)\n",
    "Comments are important to make your code more readable and understandable for others (or yourself in the future). Comments are ignored by the Python interpreter. \n",
    "\n",
    "For details see [PEP 8 Style Guide](https://peps.python.org/pep-0008/#comments).\n"
   ]
  },
  {
   "cell_type": "code",
   "execution_count": null,
   "metadata": {},
   "outputs": [],
   "source": [
    "# This is a single-line comment.\n",
    "\n",
    "# Avoid stating the obvious; comments should add value or context."
   ]
  },
  {
   "cell_type": "markdown",
   "metadata": {},
   "source": [
    "Although not technically a comment, one can also write docstrings. This is used to explain parts of the code and create documentation."
   ]
  },
  {
   "cell_type": "code",
   "execution_count": null,
   "metadata": {},
   "outputs": [],
   "source": [
    "\"\"\"\n",
    "Docstrings are usually written before a function with an explanation of what it does so that later it appears in the documentation. \n",
    "More details on what the following code does will follow later. For now, note how the docstring is used to explain the function.\n",
    "\"\"\"\n",
    "\n",
    "def greet(name):\n",
    "    \"\"\"\n",
    "    Greet a person with their name.\n",
    "\n",
    "    Parameters:\n",
    "    name (str): The name of the person to greet.\n",
    "\n",
    "    Returns:\n",
    "    str: A greeting message.\n",
    "    \"\"\"\n",
    "    return f\"Hello, {name}!\"\n",
    "\n",
    "print(greet(\"Alice\"))  # This will greet Alice\n",
    "print(greet.__doc__)  # This will print the docstring of the greet function"
   ]
  },
  {
   "cell_type": "markdown",
   "metadata": {},
   "source": [
    "## <a id='toc3_2_'></a>[Print to the Output window](#toc0_)\n",
    "\n",
    "There are several ways to show the output of a variable in Python. The most common ones are:\n",
    "* `print()`\n",
    "* `display()`\n",
    "\n",
    "`print()` is a built-in function in Python that outputs the specified message to the screen or other standard output device. It can take multiple arguments and will convert them to strings if necessary (i.e. into text). It is a simple way to display text or variables in the console. It is often used for quick debugging or displaying information. For example, you can use it to print a string, a number, or the result of an expression. \n",
    "\n",
    "`display()` provides a more advanced way to display objects in Jupyter notebooks. It is particularly useful for displaying rich media types, such as HTML, images, videos, and LaTeX equations. It can also be used to display data frames and other complex objects in a more visually appealing format. For example, you can use it to display a Pandas DataFrame or an image file."
   ]
  },
  {
   "cell_type": "markdown",
   "metadata": {},
   "source": [
    "There are multiple ways to print variables in strings. The most common ones are:\n",
    "* `f-string`\n",
    "* `str.format()`\n",
    "* `%` formatting\n",
    "* `,` separation"
   ]
  },
  {
   "cell_type": "code",
   "execution_count": null,
   "metadata": {},
   "outputs": [],
   "source": [
    "# Define a variable and assign a name to it\n",
    "my_name = \"Peter\"\n",
    "\n",
    "# f-string: Recommended for readability and simplicity\n",
    "# Place the variable directly inside curly braces within the string\n",
    "print(f\"Hi, my name is {my_name}!\")\n",
    "\n",
    "# .format() method: Works in older Python versions and is still quite readable\n",
    "# The {} acts as a placeholder, and .format() fills in the value\n",
    "print(\"Hi, my name is {}!\".format(my_name))\n",
    "\n",
    "# Old-style (C-style) formatting using %s (for strings)\n",
    "# This style is still valid but less common in modern Python code\n",
    "print(\"Hi, my name is %s!\" % my_name)  # %s indicates a string placeholder\n",
    "\n",
    "# String concatenation: Combine strings using +\n",
    "# Be careful — this only works with strings, not numbers or other types without conversion\n",
    "print(\"Hi, my name is \" + my_name + \"!\")\n"
   ]
  },
  {
   "cell_type": "markdown",
   "metadata": {},
   "source": [
    "## <a id='toc3_3_'></a>[Variables and Data Types](#toc0_)\n",
    "\n",
    "Python comes with a variety of built-in data types that allow you to store different types of data in variables. Types determine what you can do with a value.\n",
    "\n",
    "Following are some commonly used data types:\n",
    "\n",
    "1. Integer: positive or negative whole number, from negative infinity to infinity.\n",
    "2. Float: numbers with a decimal point.\n",
    "3. Boolean: `True` and `False`\n",
    "4. None: a single value `None`, used to indicate the absence of a value\n",
    "5. String: text \n"
   ]
  },
  {
   "cell_type": "code",
   "execution_count": null,
   "metadata": {},
   "outputs": [],
   "source": [
    "# Integer: a whole number without a decimal point\n",
    "a = 1\n",
    "print('a is a', type(a))  # prints the type of 'a', which is <class 'int'>\n",
    "print('a =', a)           \n",
    "\n",
    "# Float: a number with a decimal point\n",
    "b = 1.2\n",
    "print('b is a', type(b))  # prints the type of 'b', which is <class 'float'>\n",
    "print('b =', b)           \n",
    "\n",
    "# String: a sequence of characters enclosed in single or double quotes\n",
    "c = 'abc'\n",
    "print('c is a', type(c))  # prints the type of 'c', which is <class 'str'>\n",
    "print('c =', c)\n",
    "\n",
    "d = \"abc\"                 # same string, using double quotes instead of single\n",
    "print('d is a', type(d))\n",
    "print('d =', d)\n",
    "\n",
    "# Boolean: a logical value that is either True or False\n",
    "e = True\n",
    "print('e is a', type(e))  # prints the type of 'e', which is <class 'bool'>\n",
    "print('x =', e)"
   ]
  },
  {
   "cell_type": "markdown",
   "metadata": {},
   "source": [
    "Integer, float, boolean, None, and string are referred to as primitive data types as they hold a single value. On the other hand, data types like list, tuple, and dictionary, which can store multiple data items, are often termed as data structures or containers.\n",
    "\n",
    "6. List: an ordered collection of values of potentially different data types\n",
    "7. Tuple: an ordered collection of values which can not be modified after creation (immutable)\n",
    "8. Dictionary: unordered collection of items stored with a key and value."
   ]
  },
  {
   "cell_type": "code",
   "execution_count": null,
   "metadata": {},
   "outputs": [],
   "source": [
    "# List: an ordered, mutable (changeable) collection of items\n",
    "my_list = [1, 2, 'three', 4.0]\n",
    "print('my_list is a', type(my_list))   # prints the type, which is <class 'list'>\n",
    "print('my_list =', my_list)            \n",
    "print('my_list[0] =', my_list[0])      # accesses the first item in the list (indexing starts at 0)\n",
    "print('my_list[0] is a', type(my_list[0]))  \n",
    "\n",
    "# Tuple: an ordered, immutable (unchangeable) collection of items\n",
    "my_tuple = (1, 2, 'three', 4.0)\n",
    "print('my_tuple is a', type(my_tuple))  # prints the type, which is <class 'tuple'>\n",
    "print('my_tuple =', my_tuple)\n",
    "print('my_tuple[0] =', my_tuple[0])     # accesses the first item in the tuple\n",
    "\n",
    "# Dictionary: a collection of key-value pairs\n",
    "my_dict = {'one': 1, 'two': 2, 'three': 3}\n",
    "print('my_dict is a', type(my_dict))    # prints the type, which is <class 'dict'>\n",
    "print('my_dict =', my_dict)             \n",
    "print('my_dict[\\'one\\'] =', my_dict['one'])  # accesses the value associated with the key 'one'\n"
   ]
  },
  {
   "cell_type": "markdown",
   "metadata": {},
   "source": [
    "Types determine what you can do with a value. For example, you can add two numbers together, but you can't add a string and a number together without converting the string to a number first. You can also concatenate strings, but you can't concatenate a number and a string without conversion. \n"
   ]
  },
  {
   "cell_type": "code",
   "execution_count": null,
   "metadata": {},
   "outputs": [],
   "source": [
    "3 + 2       # valid\n",
    "\"3\" + \"2\"   # valid (string concatenation)\n",
    "3 + \"2\"     # error: unsupported operand types"
   ]
  },
  {
   "cell_type": "code",
   "execution_count": null,
   "metadata": {},
   "outputs": [],
   "source": [
    "# transform the string to an integer and then add\n",
    "3 + int(\"2\")     # valid after conversion"
   ]
  },
  {
   "cell_type": "markdown",
   "metadata": {},
   "source": [
    "Some more examples of type conversions:"
   ]
  },
  {
   "cell_type": "code",
   "execution_count": null,
   "metadata": {},
   "outputs": [],
   "source": [
    "# Converting integer to float\n",
    "num_int = 10\n",
    "num_float = float(num_int)\n",
    "print(num_float)  # Output: 10.0\n",
    "\n",
    "# Converting float to integer\n",
    "num_float = 10.5\n",
    "num_int = int(num_float)\n",
    "print(num_int)  # Output: 10\n",
    "\n",
    "# Converting integer to string\n",
    "num_int = 20\n",
    "num_str = str(num_int)\n",
    "print(num_str)  # Output: '20'\n",
    "\n",
    "# Converting string to integer\n",
    "num_str = '30'\n",
    "num_int = int(num_str)\n",
    "print(num_int)  # Output: 30\n",
    "\n",
    "# Converting list to tuple\n",
    "list_data = [1, 2, 3]\n",
    "tuple_data = tuple(list_data)\n",
    "print(tuple_data)  # Output: (1, 2, 3)\n",
    "\n",
    "# Converting tuple to list\n",
    "tuple_data = (4, 5, 6)\n",
    "list_data = list(tuple_data)\n",
    "print(list_data)  # Output: [4, 5, 6]"
   ]
  },
  {
   "cell_type": "markdown",
   "metadata": {},
   "source": [
    "## <a id='toc3_4_'></a>[Operators](#toc0_)\n",
    "\n",
    "Variables can be combined using **arithmetic operators** (e.g. +, -, /, **).<br>For numbers we have:"
   ]
  },
  {
   "cell_type": "code",
   "execution_count": null,
   "metadata": {},
   "outputs": [],
   "source": [
    "x = 3\n",
    "y = 2\n",
    "print(x+y)  # Adds x and y\n",
    "print(x-y)  # Subtracts y from x\n",
    "print(x/y)  # Divides x by y\n",
    "print(x*y)  # Multiplies x and y\n",
    "print(x**2) # Squares x\n",
    "print(x%y)  # Finds the remainder of x/y"
   ]
  },
  {
   "cell_type": "markdown",
   "metadata": {},
   "source": [
    "For strings we can use an overloaded '+' for concatenation:"
   ]
  },
  {
   "cell_type": "code",
   "execution_count": null,
   "metadata": {},
   "outputs": [],
   "source": [
    "x = 'abc'\n",
    "y = 'def'\n",
    "print(x+y)"
   ]
  },
  {
   "cell_type": "markdown",
   "metadata": {},
   "source": [
    "Also:"
   ]
  },
  {
   "cell_type": "code",
   "execution_count": null,
   "metadata": {},
   "outputs": [],
   "source": [
    "x = 'abc'\n",
    "y = 2\n",
    "print(x*y)"
   ]
  },
  {
   "cell_type": "markdown",
   "metadata": {},
   "source": [
    "Variables can be changed using **augmentation operators** (e.g. +=, -=, *=, /=)"
   ]
  },
  {
   "cell_type": "code",
   "execution_count": null,
   "metadata": {},
   "outputs": [],
   "source": [
    "x = 3 \n",
    "print('x =',x)\n",
    "\n",
    "x += 1 # same result as x = x+1\n",
    "print('x =',x)\n",
    "x *= 2 # same result as x = x*2\n",
    "print('x =',x)\n",
    "x /= 2 # same result as x = x/2\n",
    "print('x =',x)"
   ]
  },
  {
   "cell_type": "markdown",
   "metadata": {},
   "source": [
    "### <a id='toc3_4_1_'></a>[Logical Operators](#toc0_)\n",
    "Variables can be compared using **boolean operators** (e.g. ==, !=, <, <=, >, >=). "
   ]
  },
  {
   "cell_type": "code",
   "execution_count": null,
   "metadata": {},
   "outputs": [],
   "source": [
    "x = 3\n",
    "y = 2\n",
    "z = 10\n",
    "print(x < y) # less than\n",
    "print(x <= y) # less than or equal\n",
    "print(x != y) # not equal\n",
    "print(x == y) # equal\n",
    "\n",
    "z = x < y # z is now a boolean variable\n",
    "print(z)"
   ]
  },
  {
   "cell_type": "markdown",
   "metadata": {},
   "source": [
    "**AND** Operator <br>\n",
    "The AND operator in programming is a logical operator that returns True if both the operands (i.e., conditions) are True. If one or both operands are False, it returns False."
   ]
  },
  {
   "cell_type": "code",
   "execution_count": null,
   "metadata": {},
   "outputs": [],
   "source": [
    "x = 10\n",
    "y = 20\n",
    "\n",
    "# both conditions are true\n",
    "print((x == 10) and (y == 20))  # Output: True\n",
    "\n",
    "# one condition is false\n",
    "print((x == 10) and (y == 30))  # Output: False\n",
    "\n",
    "# Alternatively, use the & operator\n",
    "print((x == 10) & (y == 20))  # Output: True"
   ]
  },
  {
   "cell_type": "markdown",
   "metadata": {},
   "source": [
    "**OR Operator** <br>\n",
    "The OR operator is another logical operator that returns True if at least one of the operands (i.e., conditions) is True. It only returns False if both operands are False."
   ]
  },
  {
   "cell_type": "code",
   "execution_count": null,
   "metadata": {},
   "outputs": [],
   "source": [
    "x = 10\n",
    "y = 20\n",
    "\n",
    "# at least one condition is true\n",
    "print((x == 10) or (y == 30))  # Output: True\n",
    "\n",
    "# both conditions are false\n",
    "print((x == 15) or (y == 30))  # Output: False\n",
    "\n",
    "# Alternatively, use the | operator\n",
    "print((x == 15) | (y == 30))  # Output: False"
   ]
  },
  {
   "cell_type": "markdown",
   "metadata": {},
   "source": [
    "## <a id='toc3_5_'></a>[More on lists](#toc0_)\n",
    "\n",
    "In Python, lists are one of the most commonly used data structures. They are:\n",
    "- Ordered: The order of items is preserved.\n",
    "- Mutable: You can change, add, or remove items after the list is created.\n",
    "- Heterogeneous: A list can hold elements of different types (e.g. integers, strings, floats).\n",
    "\n",
    "Lists support a wide range of powerful features that are essential for working with data in Python. For example:\n",
    "- Slicing: Extracting sublists using list[start:stop]\n",
    "- List methods: Such as `.append()`, `.remove()`, `.sort()`, and `.index()`\n",
    "- Looping over lists: Using for loops to iterate through elements\n",
    "- List comprehensions: A concise way to create new lists based on existing ones"
   ]
  },
  {
   "cell_type": "code",
   "execution_count": null,
   "metadata": {},
   "outputs": [],
   "source": [
    "# Lists:\n",
    "x = [1,'abc'] \n",
    "print(f'the number of elements in x is {len(x)}')\n",
    "\n",
    "# Important: indexing starts at 0\n",
    "print(x[0]) # access 1st element \n",
    "print(x[1]) # access 2nd element\n",
    "\n",
    "# A list is mutable:\n",
    "x[0] = 'def'\n",
    "x[1] = 2\n",
    "print('x =', x)\n",
    "x[1] = 5\n",
    "print('x =', x)\n",
    "\n",
    "# Add new elements\n",
    "x.append('new_element') # add new element to end of list\n",
    "print(x)"
   ]
  },
  {
   "cell_type": "markdown",
   "metadata": {},
   "source": [
    "You can extract a list from a list by slicing:\n",
    "``x[i:i+n]`` means starting from element ``x[i]`` and create a list of (up to) ``i+n``."
   ]
  },
  {
   "cell_type": "code",
   "execution_count": null,
   "metadata": {},
   "outputs": [],
   "source": [
    "# Slicing:\n",
    "x = [0,1,2,3,4,5]\n",
    "print(x[0:3]) # x[0] included, x[3] not included\n",
    "print(x[1:3])\n",
    "print(x[:3])\n",
    "print(x[1:])\n",
    "print(x[:-1]) # x[-1] is the last element\n",
    "print(x[2:-2]) # takes elements from index 2 to second last element\n",
    "\n",
    "print(type(x[:-1])) # Slicing yields a list\n",
    "print(type(x[-1])) # Unless only 1 element"
   ]
  },
  {
   "cell_type": "code",
   "execution_count": null,
   "metadata": {},
   "outputs": [],
   "source": [
    "# Some more examples of what you can do with lists:\n",
    "fruits = [\"apple\", \"banana\", \"cherry\", \"date\"]\n",
    "\n",
    "# Access elements by index\n",
    "print(fruits[0])       # First element: 'apple'\n",
    "print(fruits[-1])      # Last element: 'date'\n",
    "\n",
    "# Modify an element\n",
    "fruits[1] = \"blueberry\"\n",
    "print(fruits)          # ['apple', 'blueberry', 'cherry', 'date']\n",
    "\n",
    "# Append a new item to the end\n",
    "fruits.append(\"elderberry\")\n",
    "print(fruits)\n",
    "\n",
    "# Insert at a specific position\n",
    "fruits.insert(2, \"kiwi\")  # Insert at index 2\n",
    "print(fruits)\n",
    "\n",
    "# Remove an item by value\n",
    "fruits.remove(\"apple\")  # Removes the first occurrence\n",
    "print(fruits)\n",
    "\n",
    "# Remove an item by index\n",
    "del fruits[0]  # Deletes item at index 0\n",
    "print(fruits)\n",
    "\n",
    "# Pop (delete) the last item and return it\n",
    "last_item = fruits.pop()\n",
    "print(\"Popped:\", last_item)\n",
    "print(fruits)\n",
    "\n",
    "# Check if an item is in the list\n",
    "print(\"banana\" in fruits)   # False\n",
    "print(\"kiwi\" in fruits)     # True\n",
    "\n",
    "# Count occurrences\n",
    "numbers = [1, 2, 2, 3, 4, 2]\n",
    "print(numbers.count(2))     # 3\n",
    "\n",
    "# Sort the list (in-place)\n",
    "numbers.sort()\n",
    "print(numbers)\n",
    "\n",
    "# Reverse the list (in-place)\n",
    "numbers.reverse()\n",
    "print(numbers)\n",
    "\n"
   ]
  },
  {
   "cell_type": "markdown",
   "metadata": {},
   "source": [
    "## <a id='toc3_6_'></a>[Referencing](#toc0_)\n",
    "\n",
    "In Python, when you assign a variable to another variable of mutable type (like list), both variables actually point to the same memory location. This is called referencing. Any changes made through one variable will be reflected if you access the data through the other variable, because they both refer to the same data."
   ]
  },
  {
   "cell_type": "code",
   "execution_count": null,
   "metadata": {},
   "outputs": [],
   "source": [
    "# Create a list\n",
    "list1 = [1, 2, 3, 4]\n",
    "\n",
    "# Reference list1 to list2\n",
    "list2 = list1\n",
    "\n",
    "# Print original lists\n",
    "print(\"Original lists:\")\n",
    "print(\"list1:\", list1)\n",
    "print(\"list2:\", list2)\n",
    "\n",
    "# Modify list2\n",
    "list2.append(5)\n",
    "\n",
    "# Print lists after modification\n",
    "print(\"Lists after modification:\")\n",
    "print(\"list1:\", list1)\n",
    "print(\"list2:\", list2)\n",
    "\n",
    "\n",
    "# Check if list1 and list2 reference the same object\n",
    "print(\"list1 is list2:\", list1 is list2) \n",
    "\n",
    "# Create a new list with the same values as list1\n",
    "list3 = [1, 2, 3, 4]\n",
    "\n",
    "# Check if list1 and list3 reference the same object\n",
    "print(\"list1 is list3:\", list1 is list3) "
   ]
  },
  {
   "cell_type": "markdown",
   "metadata": {},
   "source": [
    "**Conclusion:** The `=` sign copies the reference, not the content!"
   ]
  },
  {
   "cell_type": "markdown",
   "metadata": {},
   "source": [
    "Containers should be **copied** by using the copy-module:"
   ]
  },
  {
   "cell_type": "code",
   "execution_count": null,
   "metadata": {},
   "outputs": [],
   "source": [
    "from copy import copy\n",
    "\n",
    "x = [1,2,3]\n",
    "y = copy(x) # y now a copy of x\n",
    "y[0] = 2\n",
    "print(y)\n",
    "print(x) # x is not changed when y is changed\n",
    "print(x is y) # as they are not the same reference"
   ]
  },
  {
   "cell_type": "markdown",
   "metadata": {},
   "source": [
    "**Advanced**: A **deepcopy** is necessary, when the list contains mutable objects."
   ]
  },
  {
   "cell_type": "code",
   "execution_count": null,
   "metadata": {},
   "outputs": [],
   "source": [
    "from copy import deepcopy\n",
    "\n",
    "a = [1,2,3]\n",
    "x = [a,2,3] # x is a list of a list and two integers\n",
    "y1 = copy(x) # y1 now a copy x\n",
    "y2 = deepcopy(x) # y2 is a deep copy\n",
    "\n",
    "a[0] = 10 # change1\n",
    "x[-1] = 1 # change2\n",
    "print(x) # Both changes happened\n",
    "print(y1) # y1[0] reference the same list as x[0]. Only change1 happened \n",
    "print(y2) # y2[0] is a copy of the original list referenced by x[0]"
   ]
  },
  {
   "cell_type": "markdown",
   "metadata": {},
   "source": [
    "## <a id='toc3_7_'></a>[Loops](#toc0_)\n",
    "\n",
    "Loops are useful when we want to repeat a piece of code several times.\n",
    "There are two types of loops:\n",
    "* For loops, repeat the code as many times as iterations specified.\n",
    "* While loops, repeat the code until a given condition is fulfilled."
   ]
  },
  {
   "cell_type": "code",
   "execution_count": null,
   "metadata": {},
   "outputs": [],
   "source": [
    "# For loop\n",
    "for i in range(1, 11): # In Python, range starts from 1 and is exclusive of the end value\n",
    "    print(\"Iteration number \", i) \n",
    "\n",
    "# While loop\n",
    "n = 1\n",
    "while n <= 10:\n",
    "    print(\"Iteration number \", n)\n",
    "    n += 1 # the same as: n = n + 1"
   ]
  },
  {
   "cell_type": "markdown",
   "metadata": {},
   "source": [
    "Note that in Python, the range function starts from 0 and is exclusive of the end value. \n",
    "Therefore, to iterate from 1 to 10 (inclusive), we use range(1, 11). "
   ]
  },
  {
   "cell_type": "markdown",
   "metadata": {},
   "source": [
    "### <a id='toc3_7_1_'></a>[Indentation in Python](#toc0_)\n",
    "\n",
    "Python uses **indentation** (whitespace at the beginning of a line) to define blocks of code. \n",
    "\n",
    "Python relies on consistent indentation to indicate which statements belong together. This is especially important in control structures like loops. Note how the code in the for-loop above is indented to **indicate the block of code that belongs to the loop**.\n",
    "\n",
    "Incorrect indentation will raise an `IndentationError`.\n",
    "\n",
    "Standard indentation is **4 spaces** or a tab."
   ]
  },
  {
   "cell_type": "markdown",
   "metadata": {},
   "source": [
    "### <a id='toc3_7_2_'></a>[Looping through lists](#toc0_)\n",
    "You can also loop through elements of a list in a for loop."
   ]
  },
  {
   "cell_type": "code",
   "execution_count": null,
   "metadata": {},
   "outputs": [],
   "source": [
    "my_list = [1,2,4,10]\n",
    "# Option 1\n",
    "for i in my_list:\n",
    "    print(i)\n",
    "\n",
    "# Option 2\n",
    "for i in range(len(my_list)):\n",
    "    print(my_list[i])\n",
    "\n",
    "# Option 3\n",
    "i = 0\n",
    "while i < len(my_list):\n",
    "    print(my_list[i])\n",
    "    i += 1\n",
    "\n",
    "# Option 4\n",
    "# printing the index number and the element\n",
    "for i, element in enumerate(my_list):\n",
    "    print(f'index number {i} has element {element}')"
   ]
  },
  {
   "cell_type": "markdown",
   "metadata": {},
   "source": [
    "## <a id='toc3_8_'></a>[If-statements](#toc0_)\n",
    "\n",
    "If-statements allow to run a part of the code only if a certain condition holds."
   ]
  },
  {
   "cell_type": "code",
   "execution_count": null,
   "metadata": {},
   "outputs": [],
   "source": [
    "# Simple if-statement\n",
    "a = 0\n",
    "b = 1\n",
    "\n",
    "if a < b:\n",
    "    print(\"a is smaller than b\")\n",
    "\n",
    "# If-statement with an alternative in case that the condition does not hold\n",
    "c = 2\n",
    "d = 3\n",
    "\n",
    "if c == d:\n",
    "    print(\"c is equal to d\")\n",
    "else:\n",
    "    print(\"c is not equal to d\")\n",
    "\n",
    "# Multi If-statements\n",
    "if c == d:\n",
    "    print(\"c is equal to d\")\n",
    "elif c > d:\n",
    "    print(\"c is bigger than d\")\n",
    "else:\n",
    "    print(\"c is neither equal nor bigger than d, so it must be smaller\")\n",
    "\n",
    "# If-statement with several conditions\n",
    "if a < b and c < d:\n",
    "    print(\"Both conditions hold\")\n",
    "\n",
    "if a < b or c > d:\n",
    "   print(\"At least one of the two conditions holds\")"
   ]
  },
  {
   "cell_type": "markdown",
   "metadata": {},
   "source": [
    "## <a id='toc3_9_'></a>[Functions](#toc0_)\n",
    "\n",
    "Functions are one of the most important building blocks in Python. They allow you to organize your code, avoid repetition, and make your programs more readable and reusable.\n",
    "What is a Function?\n",
    "\n",
    "A function is a named block of code that performs a specific task. You can \"call\" or \"invoke\" a function whenever you want to execute that task. Functions help you break down complex problems into smaller, manageable parts.\n",
    "Why Use Functions?\n",
    "\n",
    "- Modularity: Break code into self-contained parts\n",
    "- Reusability: Write once, use many times\n",
    "- Readability: Give names to logical blocks of code\n",
    "- Testability: Easier to test and debug small pieces\n",
    "\n",
    "### <a id='toc3_9_1_'></a>[Defining a Function](#toc0_)\n",
    "\n",
    "You define a function using the `def` keyword.\n",
    "\n",
    "You can define functions using the `def` keyword. "
   ]
  },
  {
   "cell_type": "code",
   "execution_count": null,
   "metadata": {},
   "outputs": [],
   "source": [
    "# Function to calculate the square of a number\n",
    "# The function name is `f` and it takes one argument `x`\n",
    "def f(x):\n",
    "    return x**2 # The `**` operator is used for exponentiation in Python. \n",
    "\n",
    "# Call the function with an argument of 5\n",
    "result = f(5)\n",
    "print(result)  # Output: 25\n",
    "\n",
    "# Function to greet a person\n",
    "def greet(name):\n",
    "    print(f\"Hello, {name}!\")\n",
    "\n",
    "# Call the function\n",
    "greet(\"Alice\")  # Output: Hello, Alice!\n"
   ]
  },
  {
   "cell_type": "code",
   "execution_count": null,
   "metadata": {},
   "outputs": [],
   "source": [
    "# For anonymous function / single-line functions, you can use the `lambda` keyword.\n",
    "g = lambda x: x**2 # This is an alternative way of creating an anonymous function\n",
    "\n",
    "print(g(2)) # Corrected to only print the result of g(2)"
   ]
  },
  {
   "cell_type": "markdown",
   "metadata": {},
   "source": [
    "Introducing multiple arguments and outputs"
   ]
  },
  {
   "cell_type": "code",
   "execution_count": null,
   "metadata": {},
   "outputs": [],
   "source": [
    "def f(x,y):\n",
    "    z = x**2\n",
    "    q = y**2\n",
    "    return z,q\n",
    "\n",
    "full_output = f(2,2) # returns a tuple\n",
    "print('full_output =', full_output)\n",
    "print('full_output is a',type(full_output))\n",
    "\n",
    "z,q = full_output # unpacking\n",
    "print('z =',z,'q =',q)"
   ]
  },
  {
   "cell_type": "markdown",
   "metadata": {},
   "source": [
    "Functions without *any* output can be useful when arguments are mutable:"
   ]
  },
  {
   "cell_type": "code",
   "execution_count": null,
   "metadata": {},
   "outputs": [],
   "source": [
    "def f(x): # assume x is a list\n",
    "    new_element = x[-1]+1\n",
    "    x.append(new_element) \n",
    "    \n",
    "x = [1,2,3] # original list\n",
    "f(x) # update list (appending the element 4)\n",
    "f(x) # update list (appending the element 5)\n",
    "f(x)\n",
    "print(x)"
   ]
  },
  {
   "cell_type": "markdown",
   "metadata": {},
   "source": [
    "We can also have **keyword arguments** with default values:"
   ]
  },
  {
   "cell_type": "code",
   "execution_count": null,
   "metadata": {},
   "outputs": [],
   "source": [
    "def f(x,y,a=2,b=2):\n",
    "    return x**a + y*b\n",
    "\n",
    "print(f(2,4)) \n",
    "print(f(2,4,b=6))\n",
    "print(f(2,4,a=6,b=3))"
   ]
  },
  {
   "cell_type": "markdown",
   "metadata": {},
   "source": [
    "## <a id='toc3_10_'></a>[Scope](#toc0_)"
   ]
  },
  {
   "cell_type": "markdown",
   "metadata": {},
   "source": [
    "Scope refers to the region of a program where a variable is recognized and can be used.\n",
    "\n",
    "In Python, variables can only be accessed within the region they are defined. Understanding scope helps prevent bugs and makes your code more predictable and modular.\n",
    "\n",
    "Python follows the LEGB Rule, which defines the order in which variable names are resolved:\n",
    "\n",
    "1. L = Local: Inside the current function or block\n",
    "2. E = Enclosing: Inside enclosing functions (nested functions)\n",
    "3. G = Global: At the top level of the module or script\n",
    "4. B = Built-in: Python’s built-in names like `len`, `print`, etc."
   ]
  },
  {
   "cell_type": "code",
   "execution_count": null,
   "metadata": {},
   "outputs": [],
   "source": [
    "x = 10  # Global variable\n",
    "\n",
    "def my_function():\n",
    "    x = 5  # Local variable\n",
    "    print(\"Inside function:\", x)\n",
    "\n",
    "my_function()\n",
    "print(\"Outside function:\", x)\n"
   ]
  },
  {
   "cell_type": "markdown",
   "metadata": {},
   "source": [
    "Scope Best Practices\n",
    "- Keep variable scope as narrow as possible to avoid unexpected changes\n",
    "- Avoid reusing variable names in different scopes unless necessary\n",
    "- Use function parameters and return values to pass information in and out"
   ]
  },
  {
   "cell_type": "code",
   "execution_count": null,
   "metadata": {},
   "outputs": [],
   "source": [
    "a = 4 # a global variable\n",
    "\n",
    "def f(x):\n",
    "    return x**a # a is global. This is BAD\n",
    "\n",
    "def g(x,a=4):\n",
    "    # a's default value is fixed when the function is defined\n",
    "    return x**a \n",
    "\n",
    "def h(x):\n",
    "    a = 4 # a is local\n",
    "    return x**a\n",
    "\n",
    "print(f(2), g(2), h(2))\n",
    "print('incrementing the global variable:')\n",
    "a += 1 \n",
    "print(f(2), g(2), h(2)) # output is only changed for f"
   ]
  },
  {
   "cell_type": "code",
   "execution_count": null,
   "metadata": {},
   "outputs": [],
   "source": [
    "## "
   ]
  },
  {
   "cell_type": "markdown",
   "metadata": {},
   "source": [
    "## <a id='toc3_11_'></a>[Classes](#toc0_)\n",
    "\n",
    "In Python, a class is a blueprint for creating objects. Objects are instances of classes, and they bundle together data (attributes) and behavior (methods).\n",
    "Why Use Classes?\n",
    "\n",
    "Classes are used to model real-world entities or abstract ideas in your programs. They allow you to:\n",
    "- Group related data and functionality\n",
    "- Reuse code through inheritance\n",
    "- Organize complex programs in a clean and modular way\n",
    "\n",
    "Think of a class as a blueprint for building something — like a car.\n",
    "- The class defines what all cars have (wheels, engine, color) and what they can do (drive, honk).\n",
    "- An object is a specific car built from that blueprint — a red Tesla, for example.\n"
   ]
  },
  {
   "cell_type": "code",
   "execution_count": null,
   "metadata": {},
   "outputs": [],
   "source": [
    "class Person:\n",
    "    def __init__(self, name, age):\n",
    "        self.name = name     # attribute\n",
    "        self.age = age       # attribute\n",
    "\n",
    "    def greet(self):\n",
    "        print(f\"Hi, my name is {self.name} and I’m {self.age} years old.\")"
   ]
  },
  {
   "cell_type": "markdown",
   "metadata": {},
   "source": [
    "Key components:\n",
    "- `class Person`: defines a class named `Person`\n",
    "- `__init__`\t is the constructor — it runs when a new object is created\n",
    "- `self` refers to the current object (every method in a class must have it)\n",
    "- `name` and `age` are instance attributes\n",
    "- `greet()` is a method — a function defined inside the class"
   ]
  },
  {
   "cell_type": "code",
   "execution_count": null,
   "metadata": {},
   "outputs": [],
   "source": [
    "alice = Person(\"Alice\", 30)\n",
    "bob = Person(\"Bob\", 25)\n",
    "\n",
    "alice.greet()   # Output: Hi, my name is Alice and I’m 30 years old.\n",
    "bob.greet()     # Output: Hi, my name is Bob and I’m 25 years old.\n",
    "\n",
    "# Each object (alice and bob) has its own values for name and age."
   ]
  },
  {
   "cell_type": "markdown",
   "metadata": {},
   "source": [
    "A common approach to solving models using classes is to define the model as a class, then the parameters can be stored as attributes of the class, and the operations required to solve the model will be the methods of the class."
   ]
  },
  {
   "cell_type": "code",
   "execution_count": null,
   "metadata": {},
   "outputs": [],
   "source": [
    "# Some more examples:\n",
    "\n",
    "class XandY:\n",
    "    x = 1.0\n",
    "    y = 2.0\n",
    "\n",
    "# Class with already initialized values.\n",
    "class XandY_2:\n",
    "    def __init__(self, x=1.0, y=2.0):\n",
    "        self.x = x\n",
    "        self.y = y\n",
    "        \n",
    "# The __init__() functions is a method that is automatically called when an object of the class is created. It also allow us to initialize the attributes of the class.\n",
    "\n",
    "par = XandY()  # par2 is an object of the XandY class.\n",
    "par2 = XandY_2()  \n",
    "par3 = XandY_2(3.0, 3.0)  \n",
    "\n",
    "print(\"par.x = \", par.x)\n",
    "print(\"par2.x = \", par2.x)\n",
    "print(\"par3.x = \", par3.x)\n",
    "\n",
    "# Now we want to change x = 2.0 in par2\n",
    "par2.x = 2.0\n",
    "\n",
    "print(\"par2.x = \",par2.x)"
   ]
  },
  {
   "cell_type": "markdown",
   "metadata": {},
   "source": [
    "In Python, `self` is a reference to the instance of a class. When you define methods within a class, you typically include self as the first parameter in the method definition. This allows methods to access and modify attributes of the instance to which they belong."
   ]
  },
  {
   "cell_type": "markdown",
   "metadata": {},
   "source": [
    "**Methods** are like functions, but can automatically use all the attributes of the class (saved in *self.*) without getting them as arguments."
   ]
  },
  {
   "cell_type": "code",
   "execution_count": null,
   "metadata": {},
   "outputs": [],
   "source": [
    "class BankAccount:\n",
    "    def __init__(self, name, balance=0.0):\n",
    "        self.name = name\n",
    "        self.balance = balance\n",
    "\n",
    "    def deposit(self, amount):\n",
    "        self.balance += amount\n",
    "        return self.balance\n",
    "\n",
    "    def withdraw(self, amount):\n",
    "        if amount > self.balance:\n",
    "            print('Balance is not sufficient.')\n",
    "        else:\n",
    "            self.balance -= amount\n",
    "        return self.balance\n",
    "\n",
    "\n",
    "# Create a BankAccount object\n",
    "account = BankAccount('John Doe', 100.0)\n",
    "\n",
    "# Deposit money into the account\n",
    "print(account.deposit(50.0))  # Output: 150.0\n",
    "\n",
    "# Withdraw money from the account\n",
    "print(account.withdraw(70.0))  # Output: 80.0"
   ]
  },
  {
   "cell_type": "markdown",
   "metadata": {},
   "source": [
    "## <a id='toc3_12_'></a>[Modules](#toc0_)\n",
    "### <a id='toc3_12_1_'></a>[What is a Module?](#toc0_)\n",
    "\n",
    "A **module** in Python is a file containing Python code (functions, classes, or variables) that can be reused in other programs. \n",
    "Modules help organize code into separate files, making it easier to maintain and reuse.\n",
    "\n",
    "#### <a id='toc3_12_1_1_'></a>[Example:](#toc0_)\n",
    "- A file named `math_utils.py` containing utility functions for mathematical operations is a module.\n",
    "- You can import this module into another Python script or notebook to use its functions.\n",
    "\n",
    "#### <a id='toc3_12_1_2_'></a>[How to Create a Module:](#toc0_)\n",
    "1. Create a `.py` file (e.g., `math_utils.py`).\n",
    "2. Write your functions, classes, or variables in this file.\n",
    "\n",
    "#### <a id='toc3_12_1_3_'></a>[How to Use a Module:](#toc0_)\n",
    "1. Import the module using `import module_name`.\n",
    "2. Call its functions using `module_name.function_name()`.\n",
    "\n",
    "#### <a id='toc3_12_1_4_'></a>[How to Run a Module:](#toc0_)\n",
    "1. Run the module directly using `python module_name.py` in the terminal.\n",
    "2. If the module contains a special block `if __name__ == \"__main__\":`, only the code inside this block will execute when the module is run directly."
   ]
  },
  {
   "cell_type": "code",
   "execution_count": null,
   "metadata": {},
   "outputs": [],
   "source": [
    "# Example: Creating and/or Using a Module\n",
    "# Step 1: Create a module named 'math_utils.py' with the following content:\n",
    "# def add(a, b):\n",
    "#     return a + b\n",
    "# \n",
    "# def subtract(a, b):\n",
    "#     return a - b\n",
    "\n",
    "# Step 2: Import the module and use its functions\n",
    "import math_utils  # Import the module\n",
    "\n",
    "# Call functions from the module\n",
    "result_add = math_utils.add(5, 3)\n",
    "result_subtract = math_utils.subtract(5, 3)\n",
    "\n",
    "print(f\"Addition: {result_add}\")  # Output: 8\n",
    "print(f\"Subtraction: {result_subtract}\")  # Output: 2"
   ]
  },
  {
   "cell_type": "markdown",
   "metadata": {},
   "source": [
    "### <a id='toc3_12_2_'></a>[Reloading Modules](#toc0_)\n",
    "\n",
    "When you modify a module, you need to reload it to see the changes. Use the following commands in Jupyter notebooks:\n",
    "\n",
    "```python\n",
    "%load_ext autoreload\n",
    "%autoreload 2\n",
    "```\n",
    "\n",
    "This ensures that the latest version of the module is always loaded."
   ]
  },
  {
   "cell_type": "code",
   "execution_count": null,
   "metadata": {},
   "outputs": [],
   "source": [
    "# Example: Reloading a Module\n",
    "%load_ext autoreload\n",
    "%autoreload 2\n",
    "\n",
    "import math_utils  # Import the module\n",
    "\n",
    "# Call functions from the module after modifying it\n",
    "result_add = math_utils.add(10, 5)\n",
    "print(f\"Updated Addition: {result_add}\")"
   ]
  },
  {
   "cell_type": "markdown",
   "metadata": {},
   "source": [
    "### <a id='toc3_12_3_'></a>[Running a Module](#toc0_)\n",
    "\n",
    "You can run a module directly from the terminal. For example:\n",
    "\n",
    "```bash\n",
    "python math_utils.py\n",
    "```\n",
    "\n",
    "If the module contains the following block, it will execute only when run directly:\n",
    "\n",
    "```python\n",
    "if __name__ == \"__main__\":\n",
    "    print(\"This module is being run directly\")\n",
    "```\n",
    "\n",
    "When the module is imported, this block will not execute."
   ]
  },
  {
   "cell_type": "markdown",
   "metadata": {},
   "source": [
    "# <a id='toc4_'></a>[Python Packages](#toc0_)\n",
    "\n",
    "Python becomes truly powerful when you use its vast ecosystem of packages (also called libraries). A package is a collection of modules that provide pre-written code to solve common problems — so you don’t have to reinvent the wheel.\n",
    "\n",
    "Why Use Packages?\n",
    "- Access powerful tools with just a few lines of code\n",
    "- Save time by reusing well-tested functionality\n",
    "- Easily handle tasks like plotting, data analysis, machine learning, file handling, etc\n",
    "\n",
    "Packages must first be installed. This is done using the package manager (see \"Setup Guide for Python\").\n",
    "\n",
    "Once installed, you import a package using the `import` statement. You can import the entire package and assign it an alias, or import specific functions or classes from the package.\n",
    " "
   ]
  },
  {
   "cell_type": "code",
   "execution_count": null,
   "metadata": {},
   "outputs": [],
   "source": [
    "import numpy as np\n",
    "\n",
    "array = np.array([1, 2, 3, 4])\n",
    "mean_value = np.mean(array) \n",
    "\n",
    "print(\"Array:\", array)\n",
    "print(\"Mean:\", mean_value)"
   ]
  },
  {
   "cell_type": "code",
   "execution_count": null,
   "metadata": {},
   "outputs": [],
   "source": [
    "from numpy import mean \n",
    "\n",
    "mean(array) "
   ]
  },
  {
   "cell_type": "markdown",
   "metadata": {},
   "source": [
    "Lets use two other packages to illustrate, how the notebook can be used to create a report. \n",
    "We first create a simple plot using the `matplotlib` that we than save to a certain path using the `os` module. "
   ]
  },
  {
   "cell_type": "code",
   "execution_count": null,
   "metadata": {},
   "outputs": [],
   "source": [
    "import os\n",
    "\n",
    "# Get the current working directory\n",
    "current_directory = os.getcwd()\n",
    "print(\"Current Directory:\", current_directory)"
   ]
  },
  {
   "cell_type": "code",
   "execution_count": null,
   "metadata": {},
   "outputs": [],
   "source": [
    "import matplotlib.pyplot as plt\n",
    "\n",
    "# Create a simple plot\n",
    "x = [1, 2, 3, 4, 5]\n",
    "y = [2, 4, 6, 8, 10]\n",
    "\n",
    "plt.plot(x, y, label='y = 2x', color='blue')\n",
    "plt.title('Simple Plot')\n",
    "plt.xlabel('X-axis')\n",
    "plt.ylabel('Y-axis')\n",
    "plt.legend()\n",
    "\n",
    "# Define the path to save the plot\n",
    "save_path = os.path.join(current_directory, 'simple_plot.png')\n",
    "\n",
    "# Save the plot\n",
    "plt.savefig(save_path)\n",
    "print(f\"Plot saved to: {save_path}\")\n",
    "\n",
    "# Show the plot\n",
    "plt.show()"
   ]
  },
  {
   "cell_type": "code",
   "execution_count": null,
   "metadata": {},
   "outputs": [],
   "source": [
    "# Load the graph and display it\n",
    "from IPython.display import display, Image\n",
    "\n",
    "path_to_image = os.path.join(current_directory, \"simple_plot.png\")\n",
    "print(path_to_image)\n",
    "\n",
    "display(Image(filename=path_to_image))"
   ]
  },
  {
   "cell_type": "markdown",
   "metadata": {},
   "source": [
    "If you want to get quick information on what a function does, you can use the `help()` function.\n",
    "This will give you a short description of the function, its parameters, and its return values. You can also use `?` to get help on a function in Jupyter notebooks."
   ]
  },
  {
   "cell_type": "code",
   "execution_count": null,
   "metadata": {},
   "outputs": [],
   "source": [
    "help(np.mean) # get help on the function mean"
   ]
  },
  {
   "cell_type": "markdown",
   "metadata": {},
   "source": [
    "# <a id='toc5_'></a>[Remarks](#toc0_)\n",
    "\n",
    "Other Useful libraries that will be used later on:\n",
    "* **Matplotlib**\n",
    "* **Statistics**\n",
    "* **Scipy**\n",
    "* **Pandas**\n",
    "* **Statsmodels**\n",
    "* etc."
   ]
  },
  {
   "cell_type": "markdown",
   "metadata": {},
   "source": [
    "**This was just a brief introduction to Python. There are many more topics that an advanced user should know. There are many online resources to learn Python. Here a put some of them:**\n",
    "\n",
    "- [Learn X in Y Minutes - Python -](https://learnxinyminutes.com/docs/python/)\n",
    "- [QuantEcon Project](https://quantecon.org)\n",
    "- [Kevin Sheppard's Notes](https://www.kevinsheppard.com/teaching/python/)\n",
    "- [Python Data Science Handbook](https://github.com/jakevdp/PythonDataScienceHandbook)\n",
    "- [Econometrics with Python by Weijie Chen](https://github.com/weijie-chen/Econometrics-With-Python)\n",
    "- [Python for Econometrics by Fabian H. C. Raters](https://pyecon.org/down/pyecon.pdf)\n",
    "- [Stata to Python Equivalents](https://www.danielmsullivan.com/pages/tutorial_stata_to_python.html)\n",
    "\n",
    "This notebook is heavily based on the material from the course [Introduction to Programming and Numerical Analysis](https://sites.google.com/view/numeconcph-introprog/home) by Jeppe Druedahl. "
   ]
  }
 ],
 "metadata": {
  "kernelspec": {
   "display_name": "E383",
   "language": "python",
   "name": "python3"
  },
  "language_info": {
   "codemirror_mode": {
    "name": "ipython",
    "version": 3
   },
   "file_extension": ".py",
   "mimetype": "text/x-python",
   "name": "python",
   "nbconvert_exporter": "python",
   "pygments_lexer": "ipython3",
   "version": "3.12.9"
  }
 },
 "nbformat": 4,
 "nbformat_minor": 2
}
