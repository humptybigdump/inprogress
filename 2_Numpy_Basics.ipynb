{
 "cells": [
  {
   "cell_type": "markdown",
   "metadata": {},
   "source": [
    "# <a id='toc1_'></a>[Numpy](#toc0_)"
   ]
  },
  {
   "cell_type": "markdown",
   "metadata": {},
   "source": [
    "**Table of contents**<a id='toc0_'></a>    \n",
    "- [Numpy](#toc1_)    \n",
    "    - [What is NumPy?](#toc1_1_1_)    \n",
    "    - [Sequences: Creating Arrays](#toc1_1_2_)    \n",
    "    - [Accessing Elements in Arrays and Matrices](#toc1_1_3_)    \n",
    "    - [Mathematical Operations with NumPy Arrays](#toc1_1_4_)    \n",
    "    - [Matrix Operations](#toc1_1_5_)    \n",
    "    - [Vector and Matrix Manipulation](#toc1_1_6_)    \n",
    "    - [Boolean Indexing and Conditions](#toc1_1_7_)    \n",
    "\n",
    "<!-- vscode-jupyter-toc-config\n",
    "\tnumbering=false\n",
    "\tanchor=true\n",
    "\tflat=false\n",
    "\tminLevel=1\n",
    "\tmaxLevel=6\n",
    "\t/vscode-jupyter-toc-config -->\n",
    "<!-- THIS CELL WILL BE REPLACED ON TOC UPDATE. DO NOT WRITE YOUR TEXT IN THIS CELL -->"
   ]
  },
  {
   "cell_type": "markdown",
   "metadata": {},
   "source": [
    "\n",
    "In this notebook, we introduce **NumPy**, one of the most important libraries in the Python ecosystem for numerical and scientific computing.\n",
    "\n",
    "We will use a variety of external packages throughout this course. In Python:\n",
    "- A **package** is a collection of modules.\n",
    "- A **module** is a single `.py` file that contains code (functions, classes, variables) that you can import and reuse.\n",
    "\n",
    "---\n",
    "\n",
    "### <a id='toc1_1_1_'></a>[What is NumPy?](#toc0_)\n",
    "\n",
    "**NumPy** (Numerical Python) is a Python library designed to work efficiently with:\n",
    "- **Large arrays and matrices** of numerical data\n",
    "- **Vectorized operations** that avoid slow Python loops\n",
    "- A wide variety of **mathematical and linear algebra operations**\n",
    "\n",
    "NumPy arrays (called `ndarrays`) are more powerful and memory-efficient than native Python lists when dealing with large datasets or performing mathematical operations.\n",
    "\n",
    "You can use NumPy to:\n",
    "- Represent data in vectors and matrices\n",
    "- Perform efficient mathematical computations\n",
    "- Implement models and algorithms in economics and data science\n",
    "\n",
    "Let's get started by importing the NumPy package.\n"
   ]
  },
  {
   "cell_type": "code",
   "execution_count": null,
   "metadata": {},
   "outputs": [],
   "source": [
    "# import the numpy module\n",
    "import numpy as np "
   ]
  },
  {
   "cell_type": "markdown",
   "metadata": {},
   "source": [
    "Numpy arrays are similar to Python lists, but they are more efficient and allow for faster computation. "
   ]
  },
  {
   "cell_type": "code",
   "execution_count": null,
   "metadata": {},
   "outputs": [],
   "source": [
    "# Row vector of size 1x3. One dimensional array (defined as size(n,1))\n",
    "a = np.array([[1, 2, 3]])\n",
    "\n",
    "# Matrix of size 2x2\n",
    "A = np.array([[1, 2], [3, 4]]) # Resulting object is an \"ndarray\", or an n-dimensional array\n",
    "\n",
    "print('a is a', type(a),'and A is a', type(A)) # type"
   ]
  },
  {
   "cell_type": "markdown",
   "metadata": {},
   "source": [
    "Numpy arrays have some usefull attributes, that we can access using the . operator.\n",
    "\n",
    "(Remember that in Python, we can access the attributes of an object using the dot operator. These can be functions or variables.)"
   ]
  },
  {
   "cell_type": "code",
   "execution_count": null,
   "metadata": {},
   "outputs": [],
   "source": [
    "# Column vector of size 3x1\n",
    "b = np.transpose(a)\n",
    "\n",
    "print('a s data is',a.dtype,'As data is' , A.dtype) # data type\n",
    "print('a dimensions:', a.ndim, 'b dimensions:',b.ndim, 'A dimensions:',A.ndim) # dimensions\n",
    "print('a shape:', a.shape, 'b shape:',b.shape, 'A shape:',A.shape) # dimensions"
   ]
  },
  {
   "cell_type": "markdown",
   "metadata": {},
   "source": [
    "Adjusting numpy arrays creates a **view** of the array, not a new array. This is different from lists. A view means that the original array is changed if the new array is changed."
   ]
  },
  {
   "cell_type": "code",
   "execution_count": null,
   "metadata": {},
   "outputs": [],
   "source": [
    "A = np.array([0, 1, 2, 3, 4, 5, 6, 7, 8, 9])\n",
    "V = A[2:6]         # V is a reference to a slice of a A\n",
    "\n",
    "# Make changes in V and note what happens in A\n",
    "V[0] = 0; V[1] = 0  # The ; allows you to write multiple code-lines in a single line\n",
    "print('V =',V)\n",
    "print('A =',A,'changed')     # A has changed\n",
    "\n",
    "# If C was a copy, A wouldn't have changed\n",
    "C = A.copy()\n",
    "C[0] = 99\n",
    "print('A =',A, 'did not change') "
   ]
  },
  {
   "cell_type": "markdown",
   "metadata": {},
   "source": [
    "There are some other special matrices and vectors which can be generated. Examples are:\n",
    "* np.zeros(rows,cols)\n",
    "* np.ones(rows,cols)\n",
    "* np.random.rand(rows,cols) and np.random.randn(rows,cols)\n",
    "* etc."
   ]
  },
  {
   "cell_type": "code",
   "execution_count": null,
   "metadata": {},
   "outputs": [],
   "source": [
    "import numpy as np\n",
    "\n",
    "# Matrix of zeros\n",
    "Mat = np.zeros((2,2)) # 2x2\n",
    "print(Mat)\n",
    "\n",
    "Mat = np.zeros((3,3)) # 3x3\n",
    "print(Mat)\n",
    "\n",
    "Mat = np.zeros((4,2)) # 4x2\n",
    "print(Mat)\n",
    "\n",
    "# Matrix of ones\n",
    "Mat = np.ones((2,2)) # Same as with zeros()\n",
    "print(Mat)\n",
    "\n",
    "# Identity matrix\n",
    "Imat = np.eye(3) # In Python, you need to specify the size of the identity matrix\n",
    "print(Imat)\n",
    "\n",
    "# Matrix of uniform random numbers\n",
    "Mat = np.random.rand(2,2)\n",
    "print(Mat)\n",
    "\n",
    "# Matrix of normally distributed random numbers\n",
    "Mat = np.random.randn(2,2)\n",
    "print(Mat)\n"
   ]
  },
  {
   "cell_type": "markdown",
   "metadata": {},
   "source": [
    "\n",
    "### <a id='toc1_1_2_'></a>[Sequences: Creating Arrays](#toc0_)\n",
    "\n",
    "NumPy makes it easy to create arrays (1D, 2D, or higher dimensional). Arrays are like lists in Python, but with more powerful features for mathematical and scientific computing.\n",
    "\n",
    "There are several useful functions to create arrays:\n",
    "\n",
    "- `np.array([...])`: Create an array from a Python list\n",
    "- `np.arange(start, stop, step)`: Create an evenly spaced range (like Python's `range()`)\n",
    "- `np.linspace(start, stop, num)`: Create an array of evenly spaced values over an interval\n",
    "- `np.ones(shape)`, `np.zeros(shape)`: Create arrays filled with 1s or 0s\n",
    "- `np.eye(n)`: Create an identity matrix\n"
   ]
  },
  {
   "cell_type": "code",
   "execution_count": null,
   "metadata": {},
   "outputs": [],
   "source": [
    "import numpy as np\n",
    "\n",
    "# Generates a sequence from 0 to 10 with steps of size 1\n",
    "seq = np.arange(0, 11, 1)\n",
    "print(seq)\n",
    "\n",
    "# This is the same as\n",
    "seq = np.arange(11)\n",
    "print(seq)\n",
    "# or\n",
    "seq = np.arange(0,11)\n",
    "print(seq)\n",
    "\n",
    "# Sequence/Vector of 10 linearly spaced points between 1 and 3\n",
    "seq = np.linspace(1, 3, 10)\n",
    "print(seq)\n"
   ]
  },
  {
   "cell_type": "markdown",
   "metadata": {},
   "source": [
    "\n",
    "### <a id='toc1_1_3_'></a>[Accessing Elements in Arrays and Matrices](#toc0_)\n",
    "\n",
    "Just like with Python lists, you can access individual elements or slices of NumPy arrays using indexing.\n",
    "\n",
    "NumPy uses **zero-based indexing**, and supports advanced slicing techniques:\n",
    "- Use `[i]` to access an element at index `i`\n",
    "- Use `[start:stop]` to access a slice (excluding the stop index)\n",
    "- For 2D arrays (matrices), use `[row, column]` syntax\n",
    "\n",
    "You can also use negative indices, boolean indexing, and slicing across multiple dimensions.\n"
   ]
  },
  {
   "cell_type": "code",
   "execution_count": null,
   "metadata": {},
   "outputs": [],
   "source": [
    "import numpy as np\n",
    "\n",
    "# Define the matrix\n",
    "A = np.array([[1, 2, 3], [4, 5, 6], [7, 8, 9]])\n",
    "\n",
    "# Select element row = 1 and column = 2\n",
    "print(A[0,1])       # Note: Python uses 0-based indexing\n",
    "\n",
    "# Selects the first 2 rows and all the columns\n",
    "print(A[0:2, :])    # Note: The end index is exclusive in Python\n",
    "\n",
    "# Selects all rows and the first 2 columns\n",
    "print(A[:, 0:2])    # Note: The end index is exclusive in Python\n",
    "\n",
    "# Selects rows 1 and 3 and all the columns\n",
    "print(A[[0, 2], :]) # Note: Python uses 0-based indexing\n",
    "\n",
    "# Extracts the diagonal elements of matrix A\n",
    "print(np.diag(A))\n"
   ]
  },
  {
   "cell_type": "markdown",
   "metadata": {},
   "source": [
    "\n",
    "### <a id='toc1_1_4_'></a>[Mathematical Operations with NumPy Arrays](#toc0_)\n",
    "\n",
    "NumPy makes it easy to perform element-wise mathematical operations.\n",
    "\n",
    "You can use standard arithmetic operators like `+`, `-`, `*`, `/`, `**`, or use NumPy functions:\n",
    "- `np.sum()`, `np.mean()`, `np.std()`, `np.min()`, `np.max()`\n",
    "- Operations are **vectorized**, meaning they apply element-wise and are much faster than Python loops\n",
    "\n",
    "Vectorized operations are one of the main reasons NumPy is so widely used.\n"
   ]
  },
  {
   "cell_type": "code",
   "execution_count": null,
   "metadata": {},
   "outputs": [],
   "source": [
    "import numpy as np\n",
    "from numpy.linalg import inv, det, eig, norm, pinv, matrix_rank\n",
    "\n",
    "# Define the matrices\n",
    "A = np.array([[1, 2], [3, 4]])\n",
    "B = np.array([[1, 2], [3, 4]])\n",
    "n = 2\n",
    "\n",
    "# Basic operators\n",
    "AplusB  = A + B # Addition\n",
    "AminusB = A - B # Subtraction\n",
    "AtimesB = np.matmul(A, B) # Matrix multiplication\n",
    "AdivB   = np.matmul(A, inv(B)) # Matrix division (B has to be invertible)\n",
    "Apowern = np.linalg.matrix_power(A, n) # Exponentiation --> A^2 = A*A\n",
    "\n",
    "# Element-wise operators\n",
    "AplusB  = A + B\n",
    "AminusB = A - B \n",
    "AtimesB = A * B # Element-wise Multiplication\n",
    "AdivB   = A / B # Element-wise Division\n",
    "Apowern = A ** n # [a11^2 a12^2; a21^2 a22^2]\n",
    "\n",
    "# Other\n",
    "# This three are equivalent.\n",
    "BdivA = np.matmul(B, inv(A))\n",
    "BdivA = np.matmul(B, np.linalg.matrix_power(A, -1))\n",
    "BdivA = np.matmul(inv(A), B)\n",
    "\n",
    "detA     = det(A)   # Calculated the determinant of A\n",
    "val, vec = eig(A) # Obtains the eigenvalues and eigenvectors of A\n",
    "normA    = norm(A)  # Obtains the Euclidean norm of A\n",
    "invA     = inv(A)   # Calculates the inverse of A\n",
    "pinvA    = pinv(A)  # Calculates the pseudo-inverse of A\n",
    "rankA    = matrix_rank(A)  # Obtains the rank of A\n",
    "diagA    = np.diag(A)  # Extract only the diagonal elements of A\n",
    "\n",
    "\"\"\"\n",
    "Alternatively, instead of importing all the different functions from numpy.linalg,\n",
    "like in the case of \"from numpy.linalg import inv, det, eig, norm, pinv, matrix_rank\",\n",
    "we can simply use np.linalg.det, np.linalg.inv, etc.\n",
    "\"\"\"\n",
    "\n"
   ]
  },
  {
   "cell_type": "markdown",
   "metadata": {},
   "source": [
    "\n",
    "### <a id='toc1_1_5_'></a>[Matrix Operations](#toc0_)\n",
    "\n",
    "NumPy supports basic linear algebra operations:\n",
    "- Matrix multiplication: `@` operator or `np.dot(A, B)`\n",
    "- Transposition: `A.T`\n",
    "- Inversion: `np.linalg.inv(A)`\n",
    "- Determinant: `np.linalg.det(A)`\n",
    "- Eigenvalues/vectors: `np.linalg.eig(A)`\n",
    "\n",
    "Note: Matrix multiplication (`@`) is not the same as element-wise multiplication (`*`).\n"
   ]
  },
  {
   "cell_type": "code",
   "execution_count": null,
   "metadata": {},
   "outputs": [],
   "source": [
    "import numpy as np\n",
    "\n",
    "# Define the matrix\n",
    "A = np.array([[1, 2], [3, 4]])\n",
    "\n",
    "# Sum rows/columns\n",
    "print(np.sum(A, axis=0)) # Sums over all rows. If A is 2x2 it will output a 1D array, with the only row being the sum of all the previous ones.\n",
    "print(np.sum(A, axis=1)) # Sums over all columns. If A is 2x2 it will output a 1D array, with the only column being the sum of all the previous ones.\n",
    "print(np.sum(A))         # It sums all the matrix. If A is 2x2 it will output a scalar.\n",
    "\n",
    "# Cumulative sum\n",
    "print(np.cumsum(A, axis=0)) # Along rows\n",
    "print(np.cumsum(A, axis=1)) # Along columns\n",
    "\n",
    "# Search for the maximum\n",
    "print(np.max(A, axis=0)) # It will search the maximum along the rows\n",
    "print(np.max(A, axis=1)) # It will search the maximum along the columns\n",
    "print(np.max(A))         # It will search for the maximum in the entire matrix\n",
    "\n",
    "# Search for the minimum\n",
    "print(np.min(A, axis=0))\n",
    "print(np.min(A, axis=1))\n",
    "print(np.min(A))\n"
   ]
  },
  {
   "cell_type": "markdown",
   "metadata": {},
   "source": [
    "\n",
    "### <a id='toc1_1_6_'></a>[Vector and Matrix Manipulation](#toc0_)\n",
    "\n",
    "You can reshape and manipulate the structure of arrays using:\n",
    "- `reshape(new_shape)`: Change the shape without changing data\n",
    "- `flatten()`: Convert a matrix to a 1D array\n",
    "- `transpose()`: Swap dimensions of an array\n",
    "- `stack()`, `concatenate()`: Combine arrays along different axes\n",
    "\n",
    "These operations are essential for cleaning and preparing data for analysis or modeling.\n"
   ]
  },
  {
   "cell_type": "code",
   "execution_count": null,
   "metadata": {},
   "outputs": [],
   "source": [
    "import numpy as np\n",
    "\n",
    "A = np.array([[1, 2], [3, 4]])\n",
    "\n",
    "# Transpose\n",
    "AT = A.T \n",
    "\n",
    "# Horizontal Concatenation\n",
    "Bh = np.hstack((A, A)) \n",
    "\n",
    "# Vertical Concatenation\n",
    "Bv = np.vstack((A, A)) \n",
    "\n",
    "# Reshape Matrix A to be 1x4\n",
    "Ashape = np.reshape(A, (1, 4)) \n",
    "\n",
    "# Converts matrix into a vector\n",
    "Avec = A.flatten()             \n",
    "\n",
    "# Flips the matrix left to right\n",
    "Alr = np.fliplr(A) \n",
    "\n",
    "# Flips the matrix updown\n",
    "Aud = np.flipud(A) \n",
    "\n",
    "# Repeats the matrix 2 times in the row dimension and 3 times in the column dimension \n",
    "Arep = np.tile(A, (2, 3)) "
   ]
  },
  {
   "cell_type": "markdown",
   "metadata": {},
   "source": [
    "\n",
    "### <a id='toc1_1_7_'></a>[Boolean Indexing and Conditions](#toc0_)\n",
    "\n",
    "You can use comparison operators on arrays to create **boolean masks**:\n",
    "\n",
    "```python\n",
    "x = np.array([1, 2, 3, 4])\n",
    "mask = x > 2      # [False, False, True, True]\n",
    "x[mask]           # returns [3, 4]\n",
    "```\n",
    "\n",
    "This is a powerful technique to filter or modify elements based on conditions.\n"
   ]
  },
  {
   "cell_type": "code",
   "execution_count": null,
   "metadata": {},
   "outputs": [],
   "source": [
    "import numpy as np\n",
    "\n",
    "# Define the matrices\n",
    "A = np.array([[1, 2, 3], [4, 5, 6], [7, 8, 9]])\n",
    "B = A\n",
    "C = A**2 - B\n",
    "\n",
    "print(np.array_equal(A, B)) # Output: True\n",
    "\n",
    "# Element-wise comparison\n",
    "print(A == B) # Output: True for every element\n",
    "print(A < C)  # Output: False for a11 < c11 and a12 < c12, True for the rest of elements\n",
    "print(A != B) # Output: False for every element. Equivalent to np.not_equal(A, B)\n",
    "\n",
    "# Logical operators\n",
    "print((A[0,0] == B[0,0]) and (A[0,0] < C[0,0])) # Output: False, because both have to be true (first condition is true but the second is false)\n",
    "print((A[0,0] == B[0,0]) or (A[0,0] < C[0,0])) # Output: True, because at least one condition is true\n",
    "print(np.array_equal(A, B) and not np.array_equal(A, C)) # Output: True, since both conditions are true"
   ]
  }
 ],
 "metadata": {
  "kernelspec": {
   "display_name": "E383",
   "language": "python",
   "name": "python3"
  },
  "language_info": {
   "codemirror_mode": {
    "name": "ipython",
    "version": 3
   },
   "file_extension": ".py",
   "mimetype": "text/x-python",
   "name": "python",
   "nbconvert_exporter": "python",
   "pygments_lexer": "ipython3",
   "version": "3.12.9"
  }
 },
 "nbformat": 4,
 "nbformat_minor": 2
}
