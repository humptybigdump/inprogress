{
 "cells": [
  {
   "cell_type": "markdown",
   "metadata": {},
   "source": [
    "\n",
    "# Debugging in Python\n",
    "\n",
    "Everyone makes mistakes in their code — even experienced programmers. The key is learning how to **read error messages**, **identify bugs**, and **fix them efficiently**. This notebook introduces strategies and tools to help you do just that.\n",
    "\n",
    "---\n",
    "\n",
    "## Why Debugging Matters\n",
    "\n",
    "- Python will often tell you exactly what went wrong — if you know how to read the message.\n",
    "- Common bugs often come from scope issues, typos, wrong assumptions, or misuse of data structures. \n",
    "- Most of the time, you will get error messages because of simple mistakes such as typos or incorrect function calls.\n",
    "\n",
    "---\n",
    "\n",
    "## Anatomy of an Error Message\n",
    "\n",
    "Let’s look at a typical Python error and break it down line by line:\n",
    "\n"
   ]
  },
  {
   "cell_type": "code",
   "execution_count": 1,
   "metadata": {},
   "outputs": [
    {
     "ename": "TypeError",
     "evalue": "unsupported operand type(s) for +: 'int' and 'str'",
     "output_type": "error",
     "traceback": [
      "\u001b[31m---------------------------------------------------------------------------\u001b[39m",
      "\u001b[31mTypeError\u001b[39m                                 Traceback (most recent call last)",
      "\u001b[36mCell\u001b[39m\u001b[36m \u001b[39m\u001b[32mIn[1]\u001b[39m\u001b[32m, line 1\u001b[39m\n\u001b[32m----> \u001b[39m\u001b[32m1\u001b[39m \u001b[38;5;28mprint\u001b[39m(\u001b[32;43m5\u001b[39;49m\u001b[43m \u001b[49m\u001b[43m+\u001b[49m\u001b[43m \u001b[49m\u001b[33;43m\"\u001b[39;49m\u001b[33;43m5\u001b[39;49m\u001b[33;43m\"\u001b[39;49m)\n",
      "\u001b[31mTypeError\u001b[39m: unsupported operand type(s) for +: 'int' and 'str'"
     ]
    }
   ],
   "source": [
    "print(5 + \"5\")"
   ]
  },
  {
   "cell_type": "markdown",
   "metadata": {},
   "source": [
    "### What does this mean?\n",
    "\n",
    "- `Traceback`: Shows the call stack — the sequence of code that led to the error.\n",
    "- `Cell In[1]`: This error occurred in cell 1 of the notebook.\n",
    "- `line 1`: The exact line that caused the error.\n",
    "- `print(5 + \"5\")`: The code that failed — trying to add an integer and a string.\n",
    "- `TypeError`: The type of error. This one is about mixing incompatible types.\n",
    "- `unsupported operand type(s)`: Tells you why it failed — `'int' + 'str'` is not allowed.\n",
    "\n",
    "### Tip:\n",
    "Always start reading from the **bottom** of the error message. That’s where Python tells you what actually went wrong."
   ]
  },
  {
   "attachments": {},
   "cell_type": "markdown",
   "metadata": {},
   "source": [
    "**Video:** [Why is a programming error called a bug?](https://www.youtube.com/watch?v=rhFSG-VyR_E)"
   ]
  },
  {
   "attachments": {},
   "cell_type": "markdown",
   "metadata": {},
   "source": [
    "**General advice:**\n",
    "Code is always partly a **black box**, thus **print and plot results** to convince yourself (and others) that your results are sensible. You can also use  `assert` statements to check that your assumptions are correct. If they are not, the program will stop and give you an error message."
   ]
  },
  {
   "cell_type": "code",
   "execution_count": 2,
   "metadata": {},
   "outputs": [
    {
     "name": "stdout",
     "output_type": "stream",
     "text": [
      "Index: 0, Number: 1\n",
      "Index: 1, Number: 3\n",
      "Index: 2, Number: 5\n",
      "Index: 3, Number: 7\n",
      "Index: 4, Number: 8\n",
      "Found an even number: 8 at index 4\n"
     ]
    }
   ],
   "source": [
    "# Example: Finding the first even number in a list\n",
    "numbers = [1, 3, 5, 7, 8, 10]\n",
    "\n",
    "for i, num in enumerate(numbers):\n",
    "    print(f\"Index: {i}, Number: {num}\")  # Debugging: Print the current index and number\n",
    "    if num % 2 == 0:\n",
    "        print(f\"Found an even number: {num} at index {i}\")\n",
    "        break"
   ]
  },
  {
   "attachments": {},
   "cell_type": "markdown",
   "metadata": {},
   "source": [
    "**Assertions:** You can enforce assertations on e.g. numeric values"
   ]
  },
  {
   "cell_type": "code",
   "execution_count": null,
   "metadata": {},
   "outputs": [
    {
     "ename": "AssertionError",
     "evalue": "x = -2, y = -4",
     "output_type": "error",
     "traceback": [
      "\u001b[31m---------------------------------------------------------------------------\u001b[39m",
      "\u001b[31mAssertionError\u001b[39m                            Traceback (most recent call last)",
      "\u001b[36mCell\u001b[39m\u001b[36m \u001b[39m\u001b[32mIn[4]\u001b[39m\u001b[32m, line 4\u001b[39m\n\u001b[32m      2\u001b[39m x = -\u001b[32m2\u001b[39m\n\u001b[32m      3\u001b[39m y = x*\u001b[32m2\u001b[39m \u001b[38;5;66;03m# forgot one *\u001b[39;00m\n\u001b[32m----> \u001b[39m\u001b[32m4\u001b[39m \u001b[38;5;28;01massert\u001b[39;00m y > \u001b[32m0\u001b[39m, \u001b[33mf\u001b[39m\u001b[33m'\u001b[39m\u001b[33mx = \u001b[39m\u001b[38;5;132;01m{\u001b[39;00mx\u001b[38;5;132;01m}\u001b[39;00m\u001b[33m, y = \u001b[39m\u001b[38;5;132;01m{\u001b[39;00my\u001b[38;5;132;01m}\u001b[39;00m\u001b[33m'\u001b[39m\n\u001b[32m      6\u001b[39m y = x**\u001b[32m2\u001b[39m\n\u001b[32m      7\u001b[39m \u001b[38;5;28;01massert\u001b[39;00m y > \u001b[32m0\u001b[39m, \u001b[33mf\u001b[39m\u001b[33m'\u001b[39m\u001b[33mx = \u001b[39m\u001b[38;5;132;01m{\u001b[39;00mx\u001b[38;5;132;01m}\u001b[39;00m\u001b[33m, y = \u001b[39m\u001b[38;5;132;01m{\u001b[39;00my\u001b[38;5;132;01m}\u001b[39;00m\u001b[33m'\u001b[39m\n",
      "\u001b[31mAssertionError\u001b[39m: x = -2, y = -4"
     ]
    }
   ],
   "source": [
    "# Goal: Take a number to the power of 2 (Python command: **)\n",
    "x = -2\n",
    "y = x*2 # forgot one *\n",
    "assert y > 0, f'x = {x}, y = {y}' # if y is not greater than 0, raise an AssertionError with the message"
   ]
  },
  {
   "attachments": {},
   "cell_type": "markdown",
   "metadata": {},
   "source": [
    "**Exceptions:** When code fails, it generates (*raises*) an exception. You can catch exceptions and handle them. This is useful for debugging and for writing robust code that can handle unexpected situations."
   ]
  },
  {
   "cell_type": "code",
   "execution_count": 5,
   "metadata": {},
   "outputs": [
    {
     "name": "stdout",
     "output_type": "stream",
     "text": [
      "successful\n"
     ]
    }
   ],
   "source": [
    "x = 0.0\n",
    "try:\n",
    "    if x < 0.0:\n",
    "        raise ValueError('x cannot be negative')\n",
    "    else:\n",
    "        print('successful')\n",
    "except Exception as e:\n",
    "    print(e)"
   ]
  },
  {
   "cell_type": "markdown",
   "metadata": {},
   "source": [
    "Consider the following code:"
   ]
  },
  {
   "cell_type": "code",
   "execution_count": 4,
   "metadata": {},
   "outputs": [
    {
     "name": "stdout",
     "output_type": "stream",
     "text": [
      "(3.340308817497993+0.5877852522924732j)\n"
     ]
    }
   ],
   "source": [
    "a = 0.8\n",
    "xlist = [2,3,-1]\n",
    "\n",
    "def myfun(xlist,a):\n",
    "    y = 0\n",
    "    for x in xlist:\n",
    "        z = x**a\n",
    "        y += z\n",
    "    return y\n",
    "\n",
    "y = myfun(xlist,a)\n",
    "print(y)"
   ]
  },
  {
   "cell_type": "markdown",
   "metadata": {},
   "source": [
    "**Problem:** Our result is a complex number. We did not expect that. Why does this problem arise?"
   ]
  },
  {
   "cell_type": "markdown",
   "metadata": {},
   "source": [
    "**Find the error with print:**"
   ]
  },
  {
   "cell_type": "code",
   "execution_count": 7,
   "metadata": {},
   "outputs": [
    {
     "name": "stdout",
     "output_type": "stream",
     "text": [
      "a = 0.8\n",
      "y(old) = 0; x = 2 -> y(new) = y(old) + x^a = 1.7411011265922482\n",
      "y(old) = 1.7411011265922482; x = 3 -> y(new) = y(old) + x^a = 2.4082246852806923\n",
      "y(old) = 4.149325811872941; x = -1 -> y(new) = y(old) + x^a = (-0.8090169943749473+0.5877852522924732j)\n"
     ]
    },
    {
     "data": {
      "text/plain": [
       "(3.340308817497993+0.5877852522924732j)"
      ]
     },
     "execution_count": 7,
     "metadata": {},
     "output_type": "execute_result"
    }
   ],
   "source": [
    "def myfun(xlist,a):\n",
    "    print(f'a = {a}') \n",
    "    y = 0\n",
    "    for x in xlist:\n",
    "        z = x**a\n",
    "        print(f'y(old) = {y}; x = {x} -> y(new) = y(old) + x^a = {z}') # temp\n",
    "        y += z\n",
    "    return y\n",
    "\n",
    "myfun(xlist,a)"
   ]
  },
  {
   "cell_type": "markdown",
   "metadata": {},
   "source": [
    "**Solution with an assert:**"
   ]
  },
  {
   "cell_type": "code",
   "execution_count": 10,
   "metadata": {},
   "outputs": [
    {
     "name": "stdout",
     "output_type": "stream",
     "text": [
      "z is not real for x = -1, with z=(-0.8090169943749473+0.5877852522924732j)\n"
     ]
    }
   ],
   "source": [
    "import numpy as np\n",
    "\n",
    "def myfun(xlist,a):\n",
    "    y = 0\n",
    "    for x in xlist:\n",
    "        z = x**a\n",
    "        assert np.isreal(z), f'z is not real for x = {x}, with z={z}'\n",
    "        y += z\n",
    "    return y\n",
    "    \n",
    "try:\n",
    "    myfun(xlist,a)\n",
    "except Exception as e:\n",
    "    print(e)"
   ]
  },
  {
   "cell_type": "markdown",
   "metadata": {},
   "source": [
    "**Solution with if and raise exception:**"
   ]
  },
  {
   "cell_type": "code",
   "execution_count": 11,
   "metadata": {
    "tags": []
   },
   "outputs": [
    {
     "name": "stdout",
     "output_type": "stream",
     "text": [
      "z is not real for x = -1, with (-0.8090169943749473+0.5877852522924732j)\n",
      "negative input number\n"
     ]
    }
   ],
   "source": [
    "def myfun(xlist,a):\n",
    "    y = 0\n",
    "    for x in xlist:\n",
    "        z = x**a\n",
    "        if not np.isreal(z):\n",
    "            print(f'z is not real for x = {x}, with {z}')\n",
    "            raise ValueError('negative input number') # an exception will be raised here  \n",
    "        y += z\n",
    "    return y\n",
    "\n",
    "try:\n",
    "    myfun(xlist,a)\n",
    "except Exception as e:\n",
    "    # we'll end up down here because the exception was raised. \n",
    "    print(e)"
   ]
  },
  {
   "attachments": {},
   "cell_type": "markdown",
   "metadata": {},
   "source": [
    "**Note:** You could also decide that the function should return e.g. **nan** when experiencing a complex number."
   ]
  },
  {
   "cell_type": "code",
   "execution_count": 12,
   "metadata": {},
   "outputs": [
    {
     "data": {
      "text/plain": [
       "nan"
      ]
     },
     "execution_count": 12,
     "metadata": {},
     "output_type": "execute_result"
    }
   ],
   "source": [
    "def myfun(xlist,a):\n",
    "    y = 0\n",
    "    for x in xlist:\n",
    "        z = x**a\n",
    "        if not np.isreal(z):\n",
    "            return np.nan\n",
    "        y += z\n",
    "    return y\n",
    "\n",
    "myfun(xlist,a)"
   ]
  },
  {
   "cell_type": "markdown",
   "metadata": {},
   "source": [
    "\n",
    "### ⚠️ NumPy Warnings\n",
    "\n",
    "NumPy is a powerful library for numerical computation, but like all tools, it can behave unexpectedly if used carelessly.\n",
    "\n",
    "A common source of confusion is **dividing by zero**, which doesn't raise a standard error but gives a **warning** and produces `nan` (not a number) or `inf` (infinity):\n",
    "\n",
    "\n",
    "These warnings are **easy to overlook**, so always double-check your results, especially when dealing with divisions or logs.\n",
    "\n",
    "Use `np.isnan()` or `np.isinf()` to detect problematic values.\n"
   ]
  },
  {
   "attachments": {},
   "cell_type": "markdown",
   "metadata": {},
   "source": [
    "Here we see an example of a *RuntimeWarning*."
   ]
  },
  {
   "cell_type": "code",
   "execution_count": 14,
   "metadata": {},
   "outputs": [
    {
     "name": "stdout",
     "output_type": "stream",
     "text": [
      "[       nan 0.69314718 1.09861229]\n"
     ]
    },
    {
     "name": "stderr",
     "output_type": "stream",
     "text": [
      "C:\\Users\\Admin2\\AppData\\Local\\Temp\\ipykernel_35824\\3179641222.py:5: RuntimeWarning: invalid value encountered in log\n",
      "  y[i] = np.log(x)\n"
     ]
    },
    {
     "ename": "AssertionError",
     "evalue": "",
     "output_type": "error",
     "traceback": [
      "\u001b[31m---------------------------------------------------------------------------\u001b[39m",
      "\u001b[31mAssertionError\u001b[39m                            Traceback (most recent call last)",
      "\u001b[36mCell\u001b[39m\u001b[36m \u001b[39m\u001b[32mIn[14]\u001b[39m\u001b[32m, line 11\u001b[39m\n\u001b[32m      8\u001b[39m log_xlist = f(xlist)\n\u001b[32m      9\u001b[39m \u001b[38;5;28mprint\u001b[39m(log_xlist)\n\u001b[32m---> \u001b[39m\u001b[32m11\u001b[39m \u001b[38;5;28;01massert\u001b[39;00m \u001b[38;5;28mall\u001b[39m(np.isnan(log_xlist)) \u001b[38;5;66;03m# check if any of the values are NaN\u001b[39;00m\n",
      "\u001b[31mAssertionError\u001b[39m: "
     ]
    }
   ],
   "source": [
    "xlist = [-1,2,3]\n",
    "def f(xlist):\n",
    "    y = np.empty(len(xlist))\n",
    "    for i,x in enumerate(xlist):\n",
    "        y[i] = np.log(x)\n",
    "    return y\n",
    "\n",
    "log_xlist = f(xlist)\n",
    "print(log_xlist)\n",
    "\n",
    "assert np.all(np.isnan(log_xlist)), 'Not all values are NaN' # check if any of the values are NaN\n",
    "assert sum(np.isnan(log_xlist)) == 0, 'Not all values are NaN' # check if any of the values are NaN by counting them and asserting the count is 0"
   ]
  },
  {
   "cell_type": "markdown",
   "metadata": {},
   "source": [
    "\n",
    "### 🧠 Scope Bugs\n",
    "\n",
    "One of the most common beginner mistakes is **using a variable outside of its scope**.\n",
    "\n",
    "Variables defined inside a function are **local** — they don't exist outside of it.\n",
    "\n",
    "\n"
   ]
  },
  {
   "cell_type": "code",
   "execution_count": 22,
   "metadata": {},
   "outputs": [
    {
     "ename": "NameError",
     "evalue": "name 'test' is not defined",
     "output_type": "error",
     "traceback": [
      "\u001b[31m---------------------------------------------------------------------------\u001b[39m",
      "\u001b[31mNameError\u001b[39m                                 Traceback (most recent call last)",
      "\u001b[36mCell\u001b[39m\u001b[36m \u001b[39m\u001b[32mIn[22]\u001b[39m\u001b[32m, line 5\u001b[39m\n\u001b[32m      2\u001b[39m     test = \u001b[32m10\u001b[39m\n\u001b[32m      3\u001b[39m     \u001b[38;5;28;01mreturn\u001b[39;00m test\n\u001b[32m----> \u001b[39m\u001b[32m5\u001b[39m \u001b[38;5;28mprint\u001b[39m(\u001b[43mtest\u001b[49m)  \u001b[38;5;66;03m# NameError: x is not defined\u001b[39;00m\n",
      "\u001b[31mNameError\u001b[39m: name 'test' is not defined"
     ]
    }
   ],
   "source": [
    "def calculate():\n",
    "    test = 10\n",
    "    return test\n",
    "\n",
    "print(test)  # NameError: x is not defined"
   ]
  },
  {
   "cell_type": "markdown",
   "metadata": {},
   "source": [
    "In this case, `x` only exists inside `calculate()`. To fix this, return the value and assign it outside:\n",
    "\n",
    "**Tip**: If you see a `NameError`, always check whether you're trying to use a variable that hasn’t been defined in the current scope."
   ]
  },
  {
   "cell_type": "code",
   "execution_count": 23,
   "metadata": {},
   "outputs": [
    {
     "name": "stdout",
     "output_type": "stream",
     "text": [
      "10\n"
     ]
    }
   ],
   "source": [
    "result = calculate()\n",
    "print(result)"
   ]
  },
  {
   "cell_type": "markdown",
   "metadata": {},
   "source": [
    "Global variables are dangerous: they can lead to code that is hard to debug and maintain. It's better to use function parameters and return values to pass data around."
   ]
  },
  {
   "cell_type": "code",
   "execution_count": 24,
   "metadata": {},
   "outputs": [
    {
     "name": "stdout",
     "output_type": "stream",
     "text": [
      "9.0\n"
     ]
    }
   ],
   "source": [
    "# a. define a function to multiply a variable with 5\n",
    "a = 5\n",
    "def f(x):\n",
    "    return a*x\n",
    "\n",
    "# many lines of code\n",
    "# many lines of code\n",
    "# many lines of code\n",
    "\n",
    "# z. setup the input and call f\n",
    "y = np.array([3,3])\n",
    "a = np.mean(y)\n",
    "b = np.mean(f(y))   # a = 5 was overwritten by the last line\n",
    "\n",
    "print(b)"
   ]
  },
  {
   "attachments": {},
   "cell_type": "markdown",
   "metadata": {},
   "source": [
    "**Conclusion:** \n",
    "\n",
    "1. Never use global variables, they can give poisonous **side effects**.\n",
    "2. Use a *positional argument* or a *keyword argument* instead. "
   ]
  },
  {
   "cell_type": "markdown",
   "metadata": {},
   "source": [
    "\n",
    "### 🔢 Index Errors\n",
    "\n",
    "Python uses **zero-based indexing**, which means the first element is at index 0.\n",
    "\n",
    "Trying to access an index that doesn’t exist will raise an `IndexError`:\n"
   ]
  },
  {
   "cell_type": "code",
   "execution_count": 25,
   "metadata": {},
   "outputs": [
    {
     "ename": "IndexError",
     "evalue": "list index out of range",
     "output_type": "error",
     "traceback": [
      "\u001b[31m---------------------------------------------------------------------------\u001b[39m",
      "\u001b[31mIndexError\u001b[39m                                Traceback (most recent call last)",
      "\u001b[36mCell\u001b[39m\u001b[36m \u001b[39m\u001b[32mIn[25]\u001b[39m\u001b[32m, line 2\u001b[39m\n\u001b[32m      1\u001b[39m lst = [\u001b[32m10\u001b[39m, \u001b[32m20\u001b[39m, \u001b[32m30\u001b[39m]\n\u001b[32m----> \u001b[39m\u001b[32m2\u001b[39m \u001b[38;5;28mprint\u001b[39m(\u001b[43mlst\u001b[49m\u001b[43m[\u001b[49m\u001b[32;43m3\u001b[39;49m\u001b[43m]\u001b[49m)  \u001b[38;5;66;03m# IndexError: list index out of range\u001b[39;00m\n",
      "\u001b[31mIndexError\u001b[39m: list index out of range"
     ]
    }
   ],
   "source": [
    "lst = [10, 20, 30]\n",
    "print(lst[3])  # IndexError: list index out of range"
   ]
  },
  {
   "cell_type": "markdown",
   "metadata": {},
   "source": [
    "This happens often when:\n",
    "- You iterate too far in a loop\n",
    "- You forget that the last valid index is `len(list) - 1`\n",
    "- You assume the shape of a list or array without checking\n",
    "\n",
    "**Tip**: Use `len()` to check how many elements are in a list before accessing them."
   ]
  },
  {
   "cell_type": "code",
   "execution_count": 28,
   "metadata": {},
   "outputs": [
    {
     "name": "stdout",
     "output_type": "stream",
     "text": [
      "2.0666666666666664\n",
      "2.833333333333333\n",
      "3.5999999999999996\n",
      "4.366666666666666\n",
      "5.133333333333333\n",
      "5.8999999999999995\n",
      "6.666666666666666\n",
      "7.433333333333333\n",
      "8.2\n"
     ]
    },
    {
     "ename": "IndexError",
     "evalue": "index 10 is out of bounds for axis 0 with size 10",
     "output_type": "error",
     "traceback": [
      "\u001b[31m---------------------------------------------------------------------------\u001b[39m",
      "\u001b[31mIndexError\u001b[39m                                Traceback (most recent call last)",
      "\u001b[36mCell\u001b[39m\u001b[36m \u001b[39m\u001b[32mIn[28]\u001b[39m\u001b[32m, line 8\u001b[39m\n\u001b[32m      6\u001b[39m \u001b[38;5;28;01mfor\u001b[39;00m i \u001b[38;5;129;01min\u001b[39;00m \u001b[38;5;28mrange\u001b[39m(\u001b[38;5;28mlen\u001b[39m(x)):\n\u001b[32m      7\u001b[39m     i += \u001b[32m1\u001b[39m\n\u001b[32m----> \u001b[39m\u001b[32m8\u001b[39m     \u001b[38;5;28mprint\u001b[39m(\u001b[43mx\u001b[49m\u001b[43m[\u001b[49m\u001b[43mi\u001b[49m\u001b[43m]\u001b[49m)\n",
      "\u001b[31mIndexError\u001b[39m: index 10 is out of bounds for axis 0 with size 10"
     ]
    }
   ],
   "source": [
    "# a. setup\n",
    "N = 10\n",
    "x = np.linspace(1.3,8.2,N)\n",
    "\n",
    "i = 0\n",
    "for i in range(len(x)):\n",
    "    i += 1\n",
    "    print(x[i])"
   ]
  },
  {
   "cell_type": "markdown",
   "metadata": {},
   "source": [
    "**Task:** Solve the error."
   ]
  },
  {
   "cell_type": "markdown",
   "metadata": {},
   "source": [
    "## 5. <a id='toc5_'></a>[Debugger](#toc0_)"
   ]
  },
  {
   "cell_type": "markdown",
   "metadata": {},
   "source": [
    "### 5.1. <a id='toc5_1_'></a>[In notebooks](#toc0_)"
   ]
  },
  {
   "attachments": {},
   "cell_type": "markdown",
   "metadata": {},
   "source": [
    "Consider this example:"
   ]
  },
  {
   "cell_type": "code",
   "execution_count": 29,
   "metadata": {},
   "outputs": [],
   "source": [
    "def f(x):\n",
    "    y = x-5\n",
    "    z = x\n",
    "    return np.log(y*z)"
   ]
  },
  {
   "cell_type": "code",
   "execution_count": 30,
   "metadata": {},
   "outputs": [
    {
     "name": "stderr",
     "output_type": "stream",
     "text": [
      "C:\\Users\\Admin2\\AppData\\Local\\Temp\\ipykernel_31100\\529491813.py:4: RuntimeWarning: invalid value encountered in log\n",
      "  return np.log(y*z)\n"
     ]
    },
    {
     "name": "stdout",
     "output_type": "stream",
     "text": [
      "nan\n"
     ]
    }
   ],
   "source": [
    "x = 4\n",
    "q = f(x)\n",
    "print(q)"
   ]
  },
  {
   "attachments": {},
   "cell_type": "markdown",
   "metadata": {},
   "source": [
    "**Task:** Let us analyze why the problem arises with the *debugger*.\n",
    "\n",
    "1. Go to first line of `f(x)` two cells above. Press `F9` to create a *breakpoint*\n",
    "2. Go to the cell just above this cell. Press `Ctrl+Shift+Alt+Enter` to run the cell in debug mode. \n",
    "   - This will run the cell and stop at the breakpoint you set in the function `f(x)`.\n",
    "3. Press `F10` to `Step Over`. Notice the value of y?\n",
    "4. Exit with `Shift+F5` or continue with `F5` till the code has run through.\n",
    "\n",
    "**Extra:** Place the breakpoint at `x = 4`. Try out `F11` to `Step Into` the function `f(x)` and `Shift+F11` to `Step Out`\n",
    "\n",
    "**More details:** See [here](https://code.visualstudio.com/docs/datascience/jupyter-notebooks#_debug-cell)."
   ]
  },
  {
   "cell_type": "markdown",
   "metadata": {},
   "source": [
    "### 5.2. <a id='toc5_2_'></a>[In modules](#toc0_)"
   ]
  },
  {
   "cell_type": "markdown",
   "metadata": {},
   "source": [
    "We can also use the debugger if we execute code from modules."
   ]
  },
  {
   "cell_type": "code",
   "execution_count": 1,
   "metadata": {},
   "outputs": [],
   "source": [
    "# These are IPython magic commands used in Jupyter notebooks to automatically reload modules when they are modified. \n",
    "%load_ext autoreload\n",
    "%autoreload 2"
   ]
  },
  {
   "cell_type": "markdown",
   "metadata": {},
   "source": [
    "Load in the module and set a breakpoint in the module. Then execute the code in debug mode."
   ]
  },
  {
   "cell_type": "code",
   "execution_count": 2,
   "metadata": {},
   "outputs": [],
   "source": [
    "# This is a Python script that imports a module named 'mymodule'.\n",
    "# Ensure that the module is in the same directory or in the Python path.\n",
    "import mymodule"
   ]
  },
  {
   "cell_type": "code",
   "execution_count": 5,
   "metadata": {},
   "outputs": [
    {
     "name": "stderr",
     "output_type": "stream",
     "text": [
      "c:\\Users\\Admin2\\Meine Ablage\\Uni\\PhD_Tuebingen\\Teaching\\E383\\E383_SoSe25\\Code\\mymodule.py:6: RuntimeWarning: invalid value encountered in log\n",
      "  return np.log(y*z)\n"
     ]
    },
    {
     "name": "stdout",
     "output_type": "stream",
     "text": [
      "nan\n"
     ]
    }
   ],
   "source": [
    "x = 4\n",
    "q = mymodule.g(x)\n",
    "print(q)"
   ]
  }
 ],
 "metadata": {
  "kernelspec": {
   "display_name": "E383",
   "language": "python",
   "name": "python3"
  },
  "language_info": {
   "codemirror_mode": {
    "name": "ipython",
    "version": 3
   },
   "file_extension": ".py",
   "mimetype": "text/x-python",
   "name": "python",
   "nbconvert_exporter": "python",
   "pygments_lexer": "ipython3",
   "version": "3.12.9"
  },
  "toc-autonumbering": true
 },
 "nbformat": 4,
 "nbformat_minor": 4
}
