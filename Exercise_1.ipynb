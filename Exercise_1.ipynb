{
 "cells": [
  {
   "cell_type": "markdown",
   "id": "437a1931",
   "metadata": {},
   "source": [
    "# Task 3\n",
    "Given the signal $x(t) = \\cos(2\\pi f_c t)$ with $ f_c = 9 \\, \\textrm{Hz}$. \n",
    "In the time from $t_0 = 0 \\, \\textrm{s}$ to $t_1 = 0.5 \\, \\textrm{s}$, it is sampled at the sampling frequency $f_s = 27 \\, \\textrm{Hz}$ to $x[n]$, write a simulation with the following steps:\n",
    "- Calculate $x[n]$ and compare this graphically with $x(t)$ (approximately).\n",
    "- Calculate the DFT $X[k]$ of $x[n]$. Plot this graphically over the frequency in $\\textrm{Hz}$. "
   ]
  },
  {
   "cell_type": "code",
   "execution_count": 1,
   "id": "ead342d2",
   "metadata": {},
   "outputs": [],
   "source": [
    "# importing\n",
    "import numpy as np\n",
    "import matplotlib.pyplot as plt\n",
    "import matplotlib\n",
    "\n",
    "# showing figures inline\n",
    "%matplotlib inline\n",
    "matplotlib.rc('figure', figsize=(30, 8) )"
   ]
  },
  {
   "cell_type": "markdown",
   "id": "71d9a6cc",
   "metadata": {},
   "source": [
    "# Sampling"
   ]
  },
  {
   "cell_type": "code",
   "execution_count": 2,
   "id": "13f9b9c1",
   "metadata": {},
   "outputs": [
    {
     "name": "stdout",
     "output_type": "stream",
     "text": [
      "[0.         0.03703704 0.07407407 0.11111111 0.14814815 0.18518519\n",
      " 0.22222222 0.25925926 0.2962963  0.33333333 0.37037037 0.40740741\n",
      " 0.44444444 0.48148148]\n",
      "(14,)\n"
     ]
    }
   ],
   "source": [
    "fa = 27 # Hz, Sampling frequency\n",
    "ta = 1/fa # Sampling time\n",
    "t0 = 0\n",
    "t1 = 0.5 # s\n",
    "\n",
    "t_n = np.arange(t0,t1,ta)\n",
    "n = np.arange(t_n.size)\n",
    "\n",
    "print(t_n)\n",
    "print(t_n.shape)\n",
    "\n",
    "fc = 9\n",
    "x = np.cos(2*np.pi*fc*t_n)\n",
    "\n",
    "t = np.linspace(t0,t1,1000)\n",
    "x_c = np.cos(2*np.pi*fc*t)"
   ]
  },
  {
   "cell_type": "markdown",
   "id": "ccb356c1",
   "metadata": {},
   "source": [
    "# Plot x(t) vs x[n]"
   ]
  },
  {
   "cell_type": "code",
   "execution_count": 3,
   "id": "21843ee2",
   "metadata": {},
   "outputs": [],
   "source": [
    "# Compare x(t) and x[n]"
   ]
  },
  {
   "cell_type": "markdown",
   "id": "45b987b6",
   "metadata": {},
   "source": [
    "# DFT & Plot"
   ]
  },
  {
   "cell_type": "code",
   "execution_count": 4,
   "id": "f79759be",
   "metadata": {},
   "outputs": [],
   "source": [
    "# Calculate DFT and plot result"
   ]
  },
  {
   "cell_type": "markdown",
   "id": "fc6e2964",
   "metadata": {},
   "source": [
    "# Improved DFT"
   ]
  },
  {
   "cell_type": "code",
   "execution_count": 5,
   "id": "39fd0902",
   "metadata": {},
   "outputs": [],
   "source": [
    "# Change code such that DFT shows only two diracs and plot results"
   ]
  },
  {
   "cell_type": "code",
   "execution_count": null,
   "id": "257b75d3",
   "metadata": {},
   "outputs": [],
   "source": []
  }
 ],
 "metadata": {
  "kernelspec": {
   "display_name": "Python 3 (ipykernel)",
   "language": "python",
   "name": "python3"
  },
  "language_info": {
   "codemirror_mode": {
    "name": "ipython",
    "version": 3
   },
   "file_extension": ".py",
   "mimetype": "text/x-python",
   "name": "python",
   "nbconvert_exporter": "python",
   "pygments_lexer": "ipython3",
   "version": "3.13.3"
  }
 },
 "nbformat": 4,
 "nbformat_minor": 5
}
