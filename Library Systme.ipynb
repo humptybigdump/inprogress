{
 "cells": [
  {
   "cell_type": "code",
   "execution_count": 2,
   "id": "38098fa6-2c1d-42a4-a24b-34e059f376fb",
   "metadata": {},
   "outputs": [
    {
     "name": "stdout",
     "output_type": "stream",
     "text": [
      "Collecting simpy\n",
      "  Obtaining dependency information for simpy from https://files.pythonhosted.org/packages/48/72/920ed1224c94a8a5a69e6c1275ac7fe4eb911ba8feffddf469f1629d47f3/simpy-4.1.1-py3-none-any.whl.metadata\n",
      "  Downloading simpy-4.1.1-py3-none-any.whl.metadata (6.1 kB)\n",
      "Downloading simpy-4.1.1-py3-none-any.whl (27 kB)\n",
      "Installing collected packages: simpy\n",
      "Successfully installed simpy-4.1.1\n"
     ]
    }
   ],
   "source": [
    "!pip install simpy"
   ]
  },
  {
   "cell_type": "code",
   "execution_count": 3,
   "id": "f14552c5-df43-4739-8126-310b84c422af",
   "metadata": {},
   "outputs": [
    {
     "data": {
      "application/vnd.jupyter.widget-view+json": {
       "model_id": "4b71b56c9275458f9211ab5d5aa44401",
       "version_major": 2,
       "version_minor": 0
      },
      "text/plain": [
       "interactive(children=(IntSlider(value=10, description='Number of books', max=200, min=10, step=10), FloatSlide…"
      ]
     },
     "metadata": {},
     "output_type": "display_data"
    },
    {
     "data": {
      "text/plain": [
       "<function __main__.simulate_library(num_books, mean_arrival_time_users, scaling_factor)>"
      ]
     },
     "execution_count": 3,
     "metadata": {},
     "output_type": "execute_result"
    }
   ],
   "source": [
    "import simpy\n",
    "import numpy as np\n",
    "import matplotlib.pyplot as plt\n",
    "\n",
    "class Library:\n",
    "    def __init__(self, env, num_books, book_distribution, mean_arrival_time_users, scaling_factor):\n",
    "        self.env = env\n",
    "        self.book_distribution = book_distribution\n",
    "        self.mean_arrival_time_users = mean_arrival_time_users\n",
    "        self.books = {i: {'count': max(1, int(book_distribution[i] * scaling_factor/self.mean_arrival_time_users)), 'available': max(1, int(book_distribution[i] * scaling_factor/self.mean_arrival_time_users))} for i in range(num_books)}\n",
    "        self.unavailability_histogram = {i: 0 for i in range(num_books)}\n",
    "        self.waiting_queue = []\n",
    "        self.waiting_history = []  # Verfolgt die Anzahl wartender Nutzer über die Zeit\n",
    "        self.unavailable_count = 0\n",
    "        self.user_arrivals = env.process(self.user_arrival())\n",
    "\n",
    "    def use_book_on_site(self, book_id):\n",
    "        if self.books[book_id]['available'] > 0:\n",
    "            self.books[book_id]['available'] -= 1\n",
    "            yield self.env.timeout(np.random.exponential(1))  # Nutzungsdauer\n",
    "            self.books[book_id]['available'] += 1\n",
    "        else:\n",
    "            self.unavailable_count += 1\n",
    "            self.unavailability_histogram[book_id] += 1  # Increment unavailability count\n",
    "        self.check_waiting_queue()\n",
    "\n",
    "    def borrow_book(self, book_id):\n",
    "        if self.books[book_id]['available'] > 0:\n",
    "            self.books[book_id]['available'] -= 1\n",
    "            duration = np.random.randint(1, 10)  # Ausleihe für 1 bis 9 Tage\n",
    "            yield self.env.timeout(duration)\n",
    "            self.books[book_id]['available'] += 1\n",
    "        #else: Do not count to avoid double-counting\n",
    "        #    self.unavailable_count += 1\n",
    "        #    self.unavailability_histogram[book_id] += 1  # Increment unavailability count\n",
    "        self.check_waiting_queue()\n",
    "\n",
    "    def request_book(self, book_id):\n",
    "        if self.books[book_id]['available'] == 0:\n",
    "            self.waiting_queue.append((self.env.now, book_id))\n",
    "            self.unavailability_histogram[book_id] += 1  # Increment unavailability count\n",
    "        else:\n",
    "            self.env.process(self.borrow_book(book_id))\n",
    "        self.waiting_history.append((self.env.now, len(self.waiting_queue)))  # Aufzeichnung der Warteschlangenlänge\n",
    "\n",
    "    def check_waiting_queue(self):\n",
    "        for request in sorted(self.waiting_queue, key=lambda x: x[0]):\n",
    "            time_requested, book_id = request\n",
    "            if self.books[book_id]['available'] > 0:\n",
    "                self.env.process(self.borrow_book(book_id))\n",
    "                self.waiting_queue.remove(request)\n",
    "\n",
    "    def user_arrival(self):\n",
    "        while True:\n",
    "            book_id = np.random.choice(len(self.books), p=self.book_distribution)\n",
    "            user_choice = np.random.choice(['on_site', 'borrow'], p=[0.5, 0.5])\n",
    "            if user_choice == 'on_site':\n",
    "                if self.books[book_id]['available'] > 0:\n",
    "                    self.env.process(self.use_book_on_site(book_id))\n",
    "                else:\n",
    "                    self.unavailability_histogram[book_id] += 1  # Increment unavailability count\n",
    "                    self.unavailable_count += 1\n",
    "            elif user_choice == 'borrow':\n",
    "                self.request_book(book_id)\n",
    "            yield self.env.timeout(np.random.exponential(self.mean_arrival_time_users))  # Zeit zwischen Benutzerankünften\n",
    "            self.waiting_history.append((self.env.now, len(self.waiting_queue)))  # Aktualisierung der Warteschlangenlänge\n",
    "\n",
    "def simulate_library(num_books, mean_arrival_time_users, scaling_factor):\n",
    "    env = simpy.Environment()\n",
    "    num_days = 100\n",
    "    book_distribution = np.random.pareto(a=2, size=num_books)\n",
    "    book_distribution /= book_distribution.sum()    \n",
    "    library = Library(env, num_books, book_distribution, mean_arrival_time_users, scaling_factor)\n",
    "    env.run(until=num_days)\n",
    "\n",
    "    # Visualisierung der wartenden Nutzer über die Zeit\n",
    "    plt.figure(figsize=(10, 5))\n",
    "    plt.plot([t[0] for t in library.waiting_history], [t[1] for t in library.waiting_history], label='Wartende Nutzer', color='red')\n",
    "    plt.xlabel('Zeitschritte')\n",
    "    plt.ylabel('Anzahl wartender Nutzer')\n",
    "    plt.title('Anzahl wartender Nutzer über die Zeit')\n",
    "    plt.legend()\n",
    "    plt.show()\n",
    "\n",
    "    # Visualisierung wie oft ein bestimmtes Buch nicht verfügbar war\n",
    "    plt.figure(figsize=(10, 5))    \n",
    "    plt.bar(range(num_books), [library.unavailability_histogram[i] for i in range(num_books)], color='blue')\n",
    "    plt.plot(range(num_books), 100*book_distribution, color = 'red')\n",
    "    plt.xlabel('Book ID')\n",
    "    plt.ylabel('Anzahl wie oft nicht verfügbar')\n",
    "    plt.title('Histogramm der Buchverfügbarkeit')\n",
    "    plt.show()\n",
    "\n",
    "    multi_run = []\n",
    "    for k in range(10):\n",
    "        env = simpy.Environment()\n",
    "        library = Library(env, num_books, book_distribution, mean_arrival_time_users, scaling_factor)\n",
    "        env.run(until=num_days)\n",
    "        multi_run.append(np.max([library.unavailability_histogram[i] for i in range(num_books)]))\n",
    "        \n",
    "    # Visualisierung wie oft ein bestimmtes Buch nicht verfügbar war\n",
    "    plt.figure(figsize=(10, 5))    \n",
    "    plt.plot(multi_run, color = 'red')    \n",
    "    plt.xlabel('Run ID')\n",
    "    plt.ylabel('Max(Nicht verfügbare Bücher)')    \n",
    "    plt.show()\n",
    "\n",
    "# Parametereinstellungen\n",
    "NUM_BOOKS = 100\n",
    "\n",
    "#simulate_library(NUM_BOOKS, 0.1, 1.0)\n",
    "\n",
    "from ipywidgets import interact, FloatSlider, IntSlider\n",
    "import ipywidgets as widgets\n",
    "# Interactive widgets to adjust parameters and rerun simulation\n",
    "interact(simulate_library,         \n",
    "         num_books=IntSlider(value=10, min=10, max=200, step=10, description='Number of books'),\n",
    "         mean_arrival_time_users=FloatSlider(value=0.1, min=0.005, max=2.0, step=0.005, description='Mean arrival time'),\n",
    "         scaling_factor=FloatSlider(value=1.0, min=1.0, max=100.0, step=0.1, description='Scaling Factor'))        "
   ]
  },
  {
   "cell_type": "code",
   "execution_count": null,
   "id": "069de872-d8f9-44fa-ab7f-d4f54cdc16f0",
   "metadata": {},
   "outputs": [],
   "source": []
  },
  {
   "cell_type": "code",
   "execution_count": null,
   "id": "e0d96720-87e3-4ac8-ad28-af5c7e9efbec",
   "metadata": {},
   "outputs": [],
   "source": []
  },
  {
   "cell_type": "code",
   "execution_count": null,
   "id": "d328d5f2-0a6f-4c82-85c7-79dc7f8ae6b7",
   "metadata": {},
   "outputs": [],
   "source": []
  },
  {
   "cell_type": "code",
   "execution_count": null,
   "id": "68cf07a3-b822-43b9-914c-7c828a61ac27",
   "metadata": {},
   "outputs": [],
   "source": []
  },
  {
   "cell_type": "code",
   "execution_count": null,
   "id": "eea27538-078a-4690-a177-501636ed0600",
   "metadata": {},
   "outputs": [],
   "source": []
  }
 ],
 "metadata": {
  "kernelspec": {
   "display_name": "Python 3 (ipykernel)",
   "language": "python",
   "name": "python3"
  },
  "language_info": {
   "codemirror_mode": {
    "name": "ipython",
    "version": 3
   },
   "file_extension": ".py",
   "mimetype": "text/x-python",
   "name": "python",
   "nbconvert_exporter": "python",
   "pygments_lexer": "ipython3",
   "version": "3.11.5"
  }
 },
 "nbformat": 4,
 "nbformat_minor": 5
}
