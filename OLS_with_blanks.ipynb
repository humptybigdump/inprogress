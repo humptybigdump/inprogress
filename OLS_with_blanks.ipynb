{
 "cells": [
  {
   "cell_type": "markdown",
   "metadata": {},
   "source": [
    "# Ordinary Least Squares\n",
    "\n",
    "## Theory"
   ]
  },
  {
   "cell_type": "markdown",
   "metadata": {},
   "source": [
    "The simple linear regression model can be written as follows\n",
    "\n",
    "$$\n",
    "y_t = \\beta_0 + \\beta_1 x_{t,1} + \\beta_2 x_{t,2} + ... + \\beta_p x_{t,k} + u_t\n",
    "$$\n",
    "or in vector form:\n",
    "$$\n",
    "\\mathbf{y} = \\mathbf{X}\\mathbf{\\beta} + \\mathbf{u}\n",
    "$$\n",
    "\n",
    "where $\\mathbf{y}$ and $\\mathbf{u}$ are $T \\times 1$ vectors containing the dependent variables and the errors of the $T$ observations, and $\\mathbf{X}$ is an $T \\times K$ matrix of independent variables.\n",
    "\n",
    "$$\n",
    "{\\displaystyle \\mathbf {X} ={\\begin{bmatrix}X_{11}&X_{12}&\\cdots &X_{1K}\\\\X_{21}&X_{22}&\\cdots &X_{2K}\\\\\\vdots &\\vdots &\\ddots &\\vdots \\\\X_{T1}&X_{T2}&\\cdots &X_{TK}\\end{bmatrix}},\\qquad {\\boldsymbol {\\beta }}={\\begin{bmatrix}\\beta _{1}\\\\\\beta _{2}\\\\\\vdots \\\\\\beta _{K}\\end{bmatrix}},\\qquad \\mathbf {y} ={\\begin{bmatrix}y_{1}\\\\y_{2}\\\\\\vdots \\\\y_{T}\\end{bmatrix}}.}\n",
    "$$\n",
    "\n",
    "\n",
    "The OLS estimate minimizes the residual sum of squares (RSS):\n",
    "$$\n",
    "RSS = \\sum_{t=1}^T (y_t - x_t'\\beta)^2\n",
    "$$\n",
    "\n",
    "Hence, assuming that $(X'X)$ is non-singular (i.e. invertible), the OLS estimate is given by\n",
    "$$\n",
    "b = (X'X)^{-1}X'y\n",
    "$$\n",
    "\n",
    "From here, we can obtain our predicted values for the dependent variable $\\hat{y}$ as\n",
    "$$\n",
    "\\hat{y} = y - Xb\n",
    "$$\n",
    "\n",
    "and the OLS sample residuals\n",
    "$$\n",
    "\\hat{u} = y - \\hat{y} = y - Xb \n",
    "$$\n",
    "\n",
    "To get the standard deviation for our estimator $b_j$, we use the formula\n",
    "$$\n",
    "\\hat{\\sigma_{b_j}} = \\hat{\\sigma} \\sqrt{[(X'X)^{-1}]_{jj}} \n",
    "$$\n",
    "where $jj$ indicates the $j^{th}$ diagonal element of the matrix. Using the full matrix gives us our variance covariance matrix.\n",
    "\n",
    "The variance of the residuals is given by\n",
    "$$\n",
    "\\hat{\\sigma}^2 = \\frac{1}{T-K} \\hat{u}'\\hat{u}\n",
    "$$"
   ]
  },
  {
   "cell_type": "markdown",
   "metadata": {},
   "source": [
    "Using those estimated parameters, we can perform a simple test for $H_0: \\beta_j = 0$ using the t-statistic\n",
    "$$\n",
    "t = \\frac{b_j}{\\hat{\\sigma_{b_j}}}\n",
    "$$\n",
    "and calculate the p-value using the t-distribution with $T-K$ degrees of freedom.\n",
    "Remember that if the p-value is smaller than the significance level, we reject the null hypothesis."
   ]
  },
  {
   "cell_type": "markdown",
   "metadata": {},
   "source": [
    "## Coding OLS using Numpy"
   ]
  },
  {
   "cell_type": "code",
   "execution_count": null,
   "metadata": {},
   "outputs": [],
   "source": [
    "import numpy as np"
   ]
  },
  {
   "cell_type": "markdown",
   "metadata": {},
   "source": [
    "When coding the OLS estimation, the key formula you want to implement is \n",
    "$$\n",
    "b = (X'X)^{-1}X'y\n",
    "$$\n",
    "\n",
    "To do this, remember the following methods from Numpy:\n",
    "- `np.linalg.inv()` to calculate the inverse of a matrix\n",
    "- `np.dot()` or `@` to perform matrix multiplication\n",
    "- `np.transpose()` or `.T` to transpose a matrix\n"
   ]
  },
  {
   "cell_type": "code",
   "execution_count": null,
   "metadata": {},
   "outputs": [],
   "source": [
    "# Lets first generate some data to run the regression on\n",
    "x = np.arange(1000, dtype=float) # Generate 100 data points from 0 to 99\n",
    "\n",
    "# Specify the relationship between x and y\n",
    "y = 2 * x + 3\n",
    "\n",
    "# Add some noise to the data\n",
    "np.random.seed(0) # Always use the same seed for reproducibility\n",
    "noise = np.random.normal(0, 100, x.shape)\n",
    "y += noise\n",
    "\n",
    "# Add a column of ones to x to account for the intercept in the linear regression\n",
    "X = np.column_stack((np.ones(x.shape[0]), x)) # Add a column of ones to x"
   ]
  },
  {
   "cell_type": "markdown",
   "metadata": {},
   "source": [
    "Code the OLS estimator using the generated data from the previous cell:"
   ]
  },
  {
   "cell_type": "code",
   "execution_count": null,
   "metadata": {},
   "outputs": [],
   "source": [
    "# Calculate the coefficients\n",
    "b_hat = "
   ]
  },
  {
   "cell_type": "markdown",
   "metadata": {},
   "source": [
    "Now test the statistical significance of the coefficients using the t-statistic. "
   ]
  },
  {
   "cell_type": "code",
   "execution_count": null,
   "metadata": {},
   "outputs": [],
   "source": [
    "# Calculate the residuals\n",
    "u_hat = \n",
    "\n",
    "# Calculate the variance of the residuals\n",
    "\n",
    "sigma2_hat = \n",
    "\n",
    "# Calculate the t-statistics for the coefficients\n",
    "t_stat = \n"
   ]
  },
  {
   "cell_type": "markdown",
   "metadata": {},
   "source": [
    "To calculate the p-value, you can use the `scipy.stats` library extract values from the CDF of the t-distribution."
   ]
  },
  {
   "cell_type": "code",
   "execution_count": null,
   "metadata": {},
   "outputs": [],
   "source": [
    "import scipy.stats as stats\n",
    "\n",
    "# Calculate the p-values for the t-statistics\n",
    "p_values = 2 * (1 - stats.t.cdf(np.abs(t_stat), df=T - K)) # Two-tailed test\n",
    "\n",
    "print(\"p-values:\", p_values)"
   ]
  },
  {
   "cell_type": "markdown",
   "metadata": {},
   "source": [
    "## Writing a function to calculate OLS estimates\n"
   ]
  },
  {
   "cell_type": "markdown",
   "metadata": {},
   "source": [
    "Write a function `OLS(X, y)` that takes in the independent variables and dependent variable and returns the OLS estimates, standard errors, t-statistics, and p-values for each coefficient. The function should also return the variance-covariance matrix of the estimates."
   ]
  },
  {
   "cell_type": "code",
   "execution_count": null,
   "metadata": {},
   "outputs": [],
   "source": [
    "def OLS(X,y):\n",
    "\n",
    "    return coefficients, standard_errors, t_stats, p_values"
   ]
  },
  {
   "cell_type": "code",
   "execution_count": null,
   "metadata": {},
   "outputs": [],
   "source": [
    "coefficients, standard_errors, t_stats, p_values = OLS(X,y)\n",
    "print(\"Coefficients from OLS function:\", coefficients)\n",
    "print(\"t-statistics from OLS function:\", t_stats)\n",
    "print(\"p-values from OLS function:\", p_values)"
   ]
  },
  {
   "cell_type": "markdown",
   "metadata": {},
   "source": [
    "Compare your results with the `statsmodels` library. You can use the `statsmodels.api` library to perform OLS regression and compare the results with your own implementation."
   ]
  },
  {
   "cell_type": "code",
   "execution_count": null,
   "metadata": {},
   "outputs": [],
   "source": [
    "import statsmodels.api as sm\n",
    "import statsmodels.formula.api as smf\n",
    "\n",
    "# Fit the model using statsmodels\n",
    "model = sm.OLS(y, X).fit() # Fit the model\n",
    "print(model.summary()) # Print the summary of the regression results"
   ]
  },
  {
   "cell_type": "markdown",
   "metadata": {},
   "source": [
    "## Plot fitted values and residuals\n",
    "Illustrate the results using a plot. You can use the `matplotlib` library to create a scatter plot of the data points and the fitted regression line. Add labels and a title to the plot."
   ]
  },
  {
   "cell_type": "code",
   "execution_count": null,
   "metadata": {},
   "outputs": [],
   "source": [
    "import matplotlib.pyplot as plt\n",
    "\n",
    "plt.figure()\n",
    "plt.plot(X[:,1], y, 'bo')  # Plot the data points\n",
    "plt.axline(xy1=(0, coefficients[0]), slope=coefficients[1], color='r') # Plot the regression line\n",
    "plt.xlabel('x')\n",
    "plt.ylabel('y')\n",
    "plt.title('Linear Regression')\n",
    "plt.show()"
   ]
  },
  {
   "cell_type": "markdown",
   "metadata": {},
   "source": [
    "# Application\n",
    "Look at the effect of a change in the US Federal Funds Rate on Output.\n",
    "\n",
    "To run the code below, you need to install the `pandas` and `pandas_datareader` library.\n"
   ]
  },
  {
   "cell_type": "code",
   "execution_count": null,
   "metadata": {},
   "outputs": [],
   "source": [
    "import pandas as pd\n",
    "import pandas_datareader # has to be installed as pandas-datareader (conda install -c conda-forge pandas-datareader)\n",
    "import datetime"
   ]
  },
  {
   "cell_type": "code",
   "execution_count": null,
   "metadata": {},
   "outputs": [],
   "source": [
    "# download real GDP and the federal funds rate from FRED\n",
    "indicator_list = ['GDPC1', 'FEDFUNDS']\n",
    "\n",
    "# specify start and end dates\n",
    "start = datetime.datetime(1950,1,1)\n",
    "end = datetime.datetime(2023,1,1)\n",
    "\n",
    "# download the data\n",
    "df = pandas_datareader.data.DataReader(indicator_list, 'fred', start, end)\n",
    "df = df.rename(columns={'GDPC1': 'GDP', 'FEDFUNDS': 'FFR'}) # rename columns\n",
    "df = df.dropna() # drop missing values\n",
    "\n",
    "# calculate the growth rates\n",
    "df['GDP_growth'] = df['GDP'].pct_change(periods=1) * 100 # percentage change in GDP\n",
    "df['FFR_growth'] = df['FFR'].diff() # percentage change in FFR (note that the FFR is already in percentage points)\n",
    "\n",
    "# add date column with float values\n",
    "df['Date'] = df.index.year.astype(int) + (df.index.quarter.astype(int) - 1) / 4 # convert quarter to date\n",
    "# add columns with ones\n",
    "df['const'] = 1 # add a column of ones for the intercept\n",
    "\n",
    "df = df.dropna() # drop missing values\n",
    "df.head()"
   ]
  },
  {
   "cell_type": "code",
   "execution_count": null,
   "metadata": {},
   "outputs": [],
   "source": [
    "# extract numpy matrix\n",
    "X = df[['const', 'FFR_growth']].to_numpy()\n",
    "y = df['GDP_growth'].to_numpy()"
   ]
  },
  {
   "cell_type": "markdown",
   "metadata": {},
   "source": [
    "Run the OLS and evaluate:"
   ]
  },
  {
   "cell_type": "code",
   "execution_count": null,
   "metadata": {},
   "outputs": [],
   "source": [
    "# Run OLS"
   ]
  },
  {
   "cell_type": "code",
   "execution_count": null,
   "metadata": {},
   "outputs": [],
   "source": [
    "plt.figure()\n",
    "plt.plot(X[:,1], y, 'bo')  # Plot the data points\n",
    "plt.axline(xy1=(0, coefficients[0]), slope=coefficients[1], color='r') # Plot the regression line\n",
    "plt.xlabel('FFR Growth')\n",
    "plt.ylabel('GDP Growth')\n",
    "plt.title('Effect of FFR on GDP growth')\n",
    "plt.show()"
   ]
  },
  {
   "cell_type": "code",
   "execution_count": null,
   "metadata": {},
   "outputs": [],
   "source": [
    "# Potentially relevant for your thesis: The extreme developments during Covid can strongly influence the regression results.\n",
    "selected_GDP = df[(df['GDP_growth'] > 5) | (df['GDP_growth'] < -5)] \n",
    "print(\"Extreme GDP growth values:\\n\", selected_GDP)"
   ]
  },
  {
   "cell_type": "code",
   "execution_count": null,
   "metadata": {},
   "outputs": [],
   "source": [
    "# Good practice: plot the series\n",
    "fig, axes = plt.subplots(2, 1, figsize=(10, 8))\n",
    "axes[0].plot(df.index, df['GDP_growth'], label='GDP Growth', color='blue')\n",
    "axes[0].set_title('GDP Growth Rate')\n",
    "axes[0].set_xlabel('Date')\n",
    "axes[0].set_ylabel('Growth Rate (%)')\n",
    "\n",
    "axes[1].plot(df.index, df['FFR_growth'], label='FFR Growth', color='red')\n",
    "axes[1].set_title('Federal Funds Rate Growth Rate')\n",
    "axes[1].set_xlabel('Date')\n",
    "axes[1].set_ylabel('Growth Rate (%)')\n",
    "\n",
    "plt.tight_layout()"
   ]
  },
  {
   "cell_type": "code",
   "execution_count": null,
   "metadata": {},
   "outputs": [],
   "source": [
    "# Different sample: 1990 to 2018\n",
    "\n",
    "dates = df.Date.to_numpy()\n",
    "start = np.where(dates == 1990.00)[0][0]\n",
    "end = np.where(dates == 2018.00)[0][0]\n",
    "\n",
    "assert dates.shape[0] == X.shape[0], \"Dates and X do not have the same number of rows\"\n",
    "\n",
    "X_short = \n",
    "y_short = \n"
   ]
  },
  {
   "cell_type": "code",
   "execution_count": null,
   "metadata": {},
   "outputs": [],
   "source": [
    "# Run OLS"
   ]
  },
  {
   "cell_type": "code",
   "execution_count": null,
   "metadata": {},
   "outputs": [],
   "source": [
    "plt.figure()\n",
    "plt.plot(X_short[:,1], y_short, 'bo')  # Plot the data points\n",
    "plt.axline(xy1=(0, coefficients[0]), slope=coefficients[1], color='r') # Plot the regression line\n",
    "plt.xlabel('FFR Growth')\n",
    "plt.ylabel('GDP Growth')\n",
    "plt.title('Effect of FFR on GDP growth')\n",
    "plt.show()"
   ]
  },
  {
   "cell_type": "markdown",
   "metadata": {},
   "source": [
    "Does this effect make sense intuitively? Why or why not?"
   ]
  }
 ],
 "metadata": {
  "kernelspec": {
   "display_name": "E383",
   "language": "python",
   "name": "python3"
  },
  "language_info": {
   "codemirror_mode": {
    "name": "ipython",
    "version": 3
   },
   "file_extension": ".py",
   "mimetype": "text/x-python",
   "name": "python",
   "nbconvert_exporter": "python",
   "pygments_lexer": "ipython3",
   "version": "3.12.9"
  },
  "orig_nbformat": 4
 },
 "nbformat": 4,
 "nbformat_minor": 2
}
