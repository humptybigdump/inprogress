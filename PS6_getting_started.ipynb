{
 "cells": [
  {
   "cell_type": "markdown",
   "id": "00af15f7",
   "metadata": {},
   "source": [
    "# Replication of Ramey and Zubairy (2018)* \n",
    "\n",
    "\n",
    "In this notebook, we will replicate the results of Ramey and Zubairy (2018)* using Python. The authors study the effects of government spending on output using historical data from the United States. They employ state-dependent local projections to estimate the government spending multiplier in both good and bad economic states.\n",
    "\n",
    "\n",
    "*Ramey, V. A., & Zubairy, S. (2018). Government spending multipliers in good times and in bad: evidence from US historical data. Journal of political economy, 126(2), 850-901.\n"
   ]
  },
  {
   "cell_type": "code",
   "execution_count": null,
   "id": "fee66800",
   "metadata": {},
   "outputs": [],
   "source": [
    "import matplotlib.pyplot as plt\n",
    "import numpy as np\n",
    "import pandas as pd\n",
    "import statsmodels.api as sm\n",
    "import datetime"
   ]
  },
  {
   "cell_type": "markdown",
   "id": "032389dc",
   "metadata": {},
   "source": [
    "## Data\n",
    "\n",
    "Ramey and Zubairy (2018) use quarterly data from 1899 to 2015. Their historical series include real GDP, the GDP deflator, government purchases, federal government receipts, population, the unemployment rate, interest rates, and defense news shocks.\n",
    "\n",
    "\n",
    "The shocks series contains news about defense spending and is constructed using narrative identification. „This news series focuses on changes in government spending that are linked to political and military events since these changes are most likely to be independent of the state of the economy.“ (Ramey und Zubairy 2018, p. 857)"
   ]
  },
  {
   "cell_type": "code",
   "execution_count": null,
   "id": "8ca461a2",
   "metadata": {},
   "outputs": [],
   "source": [
    "data_description = pd.read_excel('data/RZDAT.xlsx', sheet_name='readme', skiprows=7, header=None)\n",
    "data_description.columns = ['Variable', 'Description']\n",
    "data_description"
   ]
  },
  {
   "cell_type": "code",
   "execution_count": null,
   "id": "ae4c7adc",
   "metadata": {},
   "outputs": [],
   "source": [
    "raw = pd.read_excel('data/RZDAT.xlsx', sheet_name='rzdat')\n",
    "\n",
    "# Extract year and quarter\n",
    "quarters = raw['quarter']\n",
    "years = quarters.astype(int)\n",
    "quarters_num = ((quarters - years) * 4 + 1).astype(int)\n",
    "\n",
    "# Combine to \"YYYYQn\" format\n",
    "period_str = years.astype(str) + 'Q' + quarters_num.astype(str)\n",
    "# Convert to Period (quarterly)\n",
    "periods = pd.PeriodIndex(period_str, freq='Q')\n",
    "# If you want a datetime (start of quarter)\n",
    "dates = periods.to_timestamp()\n",
    "\n",
    "raw.index = dates\n",
    "\n",
    "raw.head()"
   ]
  },
  {
   "cell_type": "markdown",
   "id": "75a4c207",
   "metadata": {},
   "source": [
    "You will need the following variables:\n",
    "- `ngdp`: Nominal GDP\n",
    "- `ngov`: Nominal government spending\n",
    "- `pgdp`: GDP deflator\n",
    "- `news`: News shocks\n",
    "- `rgdp_pott6`: Potential GDP \n",
    "- `unemp`: Unemployment rate"
   ]
  },
  {
   "cell_type": "code",
   "execution_count": null,
   "id": "72fd60f5",
   "metadata": {},
   "outputs": [],
   "source": []
  },
  {
   "cell_type": "markdown",
   "id": "d2b3f873",
   "metadata": {},
   "source": [
    "Data transformations:\n",
    "- Start at 1899Q1\n",
    "- End at 2015Q4\n",
    "- Create real variables by dividing by the GDP deflator (pgdp) for:\n",
    "  - Nominal GDP (ngdp)\n",
    "  - News shocks (news)\n",
    "  - Nominal government spending (ngov)\n",
    "- Normalize the following variables by potential GDP (rgdp_pott6):\n",
    "  - Real GDP (rgdp)\n",
    "  - Real government spending (rgov)\n",
    "  - Real news shocks (news)\n"
   ]
  },
  {
   "cell_type": "code",
   "execution_count": null,
   "id": "9a69a7fc",
   "metadata": {},
   "outputs": [],
   "source": []
  },
  {
   "cell_type": "markdown",
   "id": "edcfcfd4",
   "metadata": {},
   "source": [
    "## Local Projections\n",
    "\n",
    "The formula for the linear Local Projections is given by:\n",
    "$$\n",
    "x_{t+h} = \\alpha_h + \\beta_h \\text{shock}_{t} + \\gamma_h Z_{t-1} + \\epsilon_{t+h}\n",
    "$$\n",
    "\n",
    "The control variables include 4 lags of the normalized variables for GDP,\n",
    "government spending, and the news shock."
   ]
  },
  {
   "cell_type": "code",
   "execution_count": null,
   "id": "ad180a25",
   "metadata": {},
   "outputs": [],
   "source": []
  },
  {
   "cell_type": "markdown",
   "id": "5b2e7b18",
   "metadata": {},
   "source": [
    "## State Dependent Local Projections\n",
    "\n",
    "Now we will estimate the state-dependent local projections. The authors use a dummy variable for periods of slack (slack) and a dummy variable for periods of boom (boom). The formula for the state-dependent local projections is given by:\n",
    "$$\n",
    "y_t = I_{t-1} [\\alpha_{a,h} + \\beta_{a,h} \\text{shock}_t + \\gamma_{a,h} Z_{t-1}] + (1 - I_{t-1}) [\\alpha_{b,h} + \\beta_{b,h} \\text{shock}_t + \\gamma_{b,h} Z_{t-1}] + \\epsilon_t\n",
    "$$\n",
    "\n",
    "where I is a dummy variable that indicates the state of the economy when the shock hits.\n"
   ]
  },
  {
   "cell_type": "markdown",
   "id": "0f0352d8",
   "metadata": {},
   "source": [
    "You will need to create additional variables for the state-dependent local projections:\n",
    "- `slack`: Dummy variable for periods of slack (unemployment rate > 6.5%)\n",
    "- `boom`: Dummy variable for periods of boom (unemployment rate < 6.5%)\n",
    "- Interaction terms with the dummy variable."
   ]
  },
  {
   "cell_type": "code",
   "execution_count": null,
   "id": "24eb00b5",
   "metadata": {},
   "outputs": [],
   "source": []
  },
  {
   "cell_type": "markdown",
   "id": "720ef7d6",
   "metadata": {},
   "source": [
    "## State-dependent Local Projections using regime proababilities\n",
    "\n",
    "Estimate an alternative state-dependent Local Projections model, replacing the dummy variable for slack with a function that can be interpreted as the probability of being in a period of low growth, defined as $$ F(z_t) = \\frac{\\exp(-\\gamma z_t)}{1 + \\exp(-\\gamma z_t)}$$\n",
    " For $z_t$, use the annual growth rate of GDP, and for $\\gamma$, use the value 0.5. Then plot the estimated IRFs for GDP and government spending."
   ]
  },
  {
   "cell_type": "code",
   "execution_count": null,
   "id": "c339e26d",
   "metadata": {},
   "outputs": [],
   "source": []
  }
 ],
 "metadata": {
  "kernelspec": {
   "display_name": "E383",
   "language": "python",
   "name": "python3"
  },
  "language_info": {
   "codemirror_mode": {
    "name": "ipython",
    "version": 3
   },
   "file_extension": ".py",
   "mimetype": "text/x-python",
   "name": "python",
   "nbconvert_exporter": "python",
   "pygments_lexer": "ipython3",
   "version": "3.12.9"
  }
 },
 "nbformat": 4,
 "nbformat_minor": 5
}
