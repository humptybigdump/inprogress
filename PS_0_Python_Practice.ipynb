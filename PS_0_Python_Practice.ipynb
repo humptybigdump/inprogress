{
 "cells": [
  {
   "cell_type": "markdown",
   "id": "c169f8e4",
   "metadata": {},
   "source": [
    "\n",
    "# 🧪 Python Practice Exercises\n",
    "\n",
    "This notebook contains exercises based on the content from the previous lessons:\n",
    "\n",
    "1. **Python Basics**\n",
    "2. **NumPy Basics**\n",
    "3. **Debugging**"
   ]
  },
  {
   "cell_type": "markdown",
   "id": "0a5e2eda",
   "metadata": {},
   "source": [
    "## Python Basics"
   ]
  },
  {
   "cell_type": "markdown",
   "id": "40acc4fc",
   "metadata": {},
   "source": [
    "### ✏️ Exercise 1: Variables and Printing\n",
    "Fill in the missing code to define a variable and print it using an f-string."
   ]
  },
  {
   "cell_type": "code",
   "execution_count": null,
   "id": "e725f4b1",
   "metadata": {},
   "outputs": [],
   "source": [
    "my_name = ___  # your name here\n",
    "print(f\"Hello, ...\")"
   ]
  },
  {
   "cell_type": "markdown",
   "id": "2601e001",
   "metadata": {},
   "source": [
    "### ✏️ Exercise 2: Type Conversion\n",
    "Convert the string `\"42\"` into an integer and add 10 to it."
   ]
  },
  {
   "cell_type": "code",
   "execution_count": null,
   "id": "77756738",
   "metadata": {},
   "outputs": [],
   "source": [
    "number_str = \"42\"\n",
    "# your code here"
   ]
  },
  {
   "cell_type": "markdown",
   "id": "219dec67",
   "metadata": {},
   "source": [
    "### ✏️ Exercise 3: Mixing Types\n",
    "Fix the code so it prints a sentence that includes both a string and a number."
   ]
  },
  {
   "cell_type": "code",
   "execution_count": null,
   "id": "d5900d26",
   "metadata": {},
   "outputs": [],
   "source": [
    "age = 30\n",
    "print(\"I am \" + age + \" years old\")  # fix the type error"
   ]
  },
  {
   "cell_type": "markdown",
   "id": "99fe29f4",
   "metadata": {},
   "source": [
    "### ✏️ Exercise 4: Lists\n",
    "Write a list called `colors` that contains at least three color names as strings, then loop over the list and print each color in uppercase."
   ]
  },
  {
   "cell_type": "code",
   "execution_count": null,
   "id": "8ab7a84c",
   "metadata": {},
   "outputs": [],
   "source": [
    "colors = ___"
   ]
  },
  {
   "cell_type": "markdown",
   "id": "67ab041e",
   "metadata": {},
   "source": [
    "### ✏️ Exercise 5: Loop and Condition\n",
    "Use a `for` loop to print only the even numbers from the list."
   ]
  },
  {
   "cell_type": "code",
   "execution_count": null,
   "id": "54db8fea",
   "metadata": {},
   "outputs": [],
   "source": [
    "numbers = [1, 2, 3, 4, 5, 6]\n",
    "for num in numbers:\n",
    "    # your code here"
   ]
  },
  {
   "cell_type": "markdown",
   "id": "c4eef5bc",
   "metadata": {},
   "source": [
    "### ✏️ Exercise 6: Boolean Value\n",
    "Create a variable `is_sunny` and use an `if` statement to print whether to bring sunglasses."
   ]
  },
  {
   "cell_type": "code",
   "execution_count": null,
   "id": "51301a93",
   "metadata": {},
   "outputs": [],
   "source": [
    "is_sunny = ___  # True or False\n",
    "# your code here"
   ]
  },
  {
   "cell_type": "markdown",
   "id": "6ee8c77e",
   "metadata": {},
   "source": [
    "### ✏️ Exercise 7: if-elif-else Chain\n",
    "Write code that checks a temperature and prints a message based on its value."
   ]
  },
  {
   "cell_type": "code",
   "execution_count": null,
   "id": "a5f926b2",
   "metadata": {},
   "outputs": [],
   "source": [
    "temperature = 28\n",
    "# print 'cold', 'moderate', or 'hot' depending on value"
   ]
  },
  {
   "cell_type": "markdown",
   "id": "98988981",
   "metadata": {},
   "source": [
    "### ✏️ Exercise 8: Create an Array\n",
    "Create a NumPy array with the numbers 1 through 5."
   ]
  },
  {
   "cell_type": "code",
   "execution_count": null,
   "id": "037fb776",
   "metadata": {},
   "outputs": [],
   "source": [
    "import numpy as np\n",
    "arr = np.array([___])  # fill in"
   ]
  },
  {
   "cell_type": "markdown",
   "id": "a65a54b5",
   "metadata": {},
   "source": [
    "### ✏️ Exercise 9: Array Operations\n",
    "Create two arrays and add them together."
   ]
  },
  {
   "cell_type": "code",
   "execution_count": null,
   "id": "df8f17f2",
   "metadata": {},
   "outputs": [],
   "source": [
    "a = np.array([1, 2, 3])\n",
    "b = np.array([4, 5, 6])\n",
    "# your code here"
   ]
  },
  {
   "cell_type": "markdown",
   "id": "50a538a6",
   "metadata": {},
   "source": [
    "### ✏️ Exercise 10: Boolean Indexing\n",
    "Create an array of integers and use boolean indexing to select values greater than 10."
   ]
  },
  {
   "cell_type": "code",
   "execution_count": null,
   "id": "82d8cb3c",
   "metadata": {},
   "outputs": [],
   "source": [
    "x = np.array([4, 12, 7, 15, 3])\n",
    "# your code here"
   ]
  },
  {
   "cell_type": "markdown",
   "id": "5529159c",
   "metadata": {},
   "source": [
    "### ✏️ Exercise 11: Fix the Error\n",
    "This code has a bug. Run it and fix the error."
   ]
  },
  {
   "cell_type": "code",
   "execution_count": null,
   "id": "c2606187",
   "metadata": {},
   "outputs": [],
   "source": [
    "def multiply(x, y):\n",
    "    return x * y\n",
    "\n",
    "print(multiply(5))  # fix this line"
   ]
  },
  {
   "cell_type": "markdown",
   "id": "5eaa9339",
   "metadata": {},
   "source": [
    "### ✏️ Exercise 12: Identify the Bug\n",
    "There is a logic error in the loop. Fix it so it prints numbers from 1 to 5."
   ]
  },
  {
   "cell_type": "code",
   "execution_count": null,
   "id": "54287ced",
   "metadata": {},
   "outputs": [],
   "source": [
    "for i in range(0, 5):\n",
    "    print(i)"
   ]
  },
  {
   "cell_type": "markdown",
   "id": "262087cd",
   "metadata": {},
   "source": [
    "\n",
    "### ✏️ Exercise 13: Define and Apply a Function\n",
    "\n",
    "Write a function `is_even(n)` that returns `True` if `n` is even and `False` otherwise.  \n",
    "Then use it to print whether each number from 1 to 10 is even.\n"
   ]
  },
  {
   "cell_type": "code",
   "execution_count": null,
   "id": "70ddeb8e",
   "metadata": {},
   "outputs": [],
   "source": [
    "\n",
    "# define the function\n",
    "def is_even(n):\n",
    "    # your code here\n",
    "    pass\n",
    "\n",
    "# apply the function\n",
    "for i in range(1, 11):\n",
    "    # your code here\n",
    "    pass\n"
   ]
  }
 ],
 "metadata": {
  "kernelspec": {
   "display_name": "E383",
   "language": "python",
   "name": "python3"
  },
  "language_info": {
   "codemirror_mode": {
    "name": "ipython",
    "version": 3
   },
   "file_extension": ".py",
   "mimetype": "text/x-python",
   "name": "python",
   "nbconvert_exporter": "python",
   "pygments_lexer": "ipython3",
   "version": "3.12.9"
  }
 },
 "nbformat": 4,
 "nbformat_minor": 5
}
