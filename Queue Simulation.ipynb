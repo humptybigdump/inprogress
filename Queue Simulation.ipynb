{
 "cells": [
  {
   "cell_type": "markdown",
   "id": "fe90360d-4907-4ee2-8a71-bfa79a2688d3",
   "metadata": {},
   "source": [
    "### Simple example for a M/M/c queue using Simpy simulation environment.\n",
    "\n",
    "At first, we need to make sure that the simpy module is available."
   ]
  },
  {
   "cell_type": "code",
   "execution_count": 1,
   "id": "82576c6f-c60d-40ba-abaa-2a646e30048e",
   "metadata": {},
   "outputs": [
    {
     "name": "stdout",
     "output_type": "stream",
     "text": [
      "Collecting simpy\n",
      "  Obtaining dependency information for simpy from https://files.pythonhosted.org/packages/48/72/920ed1224c94a8a5a69e6c1275ac7fe4eb911ba8feffddf469f1629d47f3/simpy-4.1.1-py3-none-any.whl.metadata\n",
      "  Downloading simpy-4.1.1-py3-none-any.whl.metadata (6.1 kB)\n",
      "Downloading simpy-4.1.1-py3-none-any.whl (27 kB)\n",
      "Installing collected packages: simpy\n",
      "Successfully installed simpy-4.1.1\n"
     ]
    }
   ],
   "source": [
    "! pip install simpy"
   ]
  },
  {
   "cell_type": "markdown",
   "id": "d0214d45-abde-4480-886a-e2f1a25d1644",
   "metadata": {},
   "source": [
    "The source code has one class defined with three main methods:\n",
    "* One defining the arrival process where the object waits for a random time until a new customer is put in line\n",
    "* One defining a service process where an object is taken from the queue and the service time is again random\n",
    "* One process which tracks the current queue length to allow for some analysis\n",
    "\n",
    "Depending on the number of server, multiple services processes are started.\n"
   ]
  },
  {
   "cell_type": "code",
   "execution_count": 1,
   "id": "229b07fc-e5a9-4685-9e6f-05030eb47d20",
   "metadata": {},
   "outputs": [
    {
     "data": {
      "application/vnd.jupyter.widget-view+json": {
       "model_id": "712eebca0d6e47f58ec722e85a968186",
       "version_major": 2,
       "version_minor": 0
      },
      "text/plain": [
       "interactive(children=(FloatSlider(value=0.5, description='Arrival Rate (λ):', max=10.0, min=0.1), FloatSlider(…"
      ]
     },
     "metadata": {},
     "output_type": "display_data"
    },
    {
     "data": {
      "text/plain": [
       "<function __main__.run(arrival_rate, service_rate, n_servers)>"
      ]
     },
     "execution_count": 1,
     "metadata": {},
     "output_type": "execute_result"
    }
   ],
   "source": [
    "import simpy\n",
    "import random\n",
    "import matplotlib.pyplot as plt\n",
    "import itertools\n",
    "import numpy as np\n",
    "from ipywidgets import interact, FloatSlider, IntSlider\n",
    "import ipywidgets as widgets\n",
    "\n",
    "#\n",
    "# Simple implementation of an M/M/n model\n",
    "#\n",
    "class QueueSimulation:\n",
    "    # Initialize the object\n",
    "    def __init__(self, env, arrival_rate, service_rate, n_servers):\n",
    "        self.env = env\n",
    "        self.arrival_rate = arrival_rate\n",
    "        self.service_rate = service_rate\n",
    "        self.n_servers = n_servers\n",
    "        self.busy = False\n",
    "        self.waiting_line = simpy.Store(env)\n",
    "        self.waiting_times = []\n",
    "        self.queue_length = []\n",
    "        self.busy_times = []\n",
    "        self.served_users = 0\n",
    "\n",
    "    # Implements the arrival process to the queue\n",
    "    def arrival(self):\n",
    "        while True:                \n",
    "            yield self.env.timeout(np.random.exponential(1.0 / self.arrival_rate))            \n",
    "            yield self.waiting_line.put(self.env.now)               \n",
    "\n",
    "    # Implements *one* server for the queue\n",
    "    def server(self):\n",
    "        while True:\n",
    "            if len(self.waiting_line.items) > 0:\n",
    "                self.busy = True\n",
    "                entrance_time = yield self.waiting_line.get()                \n",
    "                self.waiting_times.append((self.env.now - entrance_time))\n",
    "                yield self.env.timeout(np.random.exponential(1.0 / self.service_rate))\n",
    "                self.busy = False\n",
    "                self.served_users = self.served_users + 1\n",
    "            else:\n",
    "                yield self.env.timeout(1)\n",
    "\n",
    "    # Tracks the current status of the queue for logging purposes\n",
    "    def tracker(self):\n",
    "        while True:\n",
    "            yield self.env.timeout(2)\n",
    "            self.queue_length.append(len(self.waiting_line.items))\n",
    "            if self.busy:\n",
    "                self.busy_times.append(1)\n",
    "            else:\n",
    "                self.busy_times.append(0)\n",
    "\n",
    "def run(arrival_rate, service_rate, n_servers):\n",
    "    # Create the SimPy environment\n",
    "    env = simpy.Environment()\n",
    "    queue_simulation = QueueSimulation(env, arrival_rate, service_rate, n_servers)\n",
    "\n",
    "    # Start the processes\n",
    "    env.process(queue_simulation.arrival())\n",
    "    env.process(queue_simulation.tracker())\n",
    "    for i in range(n_servers):        \n",
    "        env.process(queue_simulation.server())        \n",
    "\n",
    "    # Run the simulation\n",
    "    simulation_time = 10000\n",
    "    env.run(until=simulation_time)\n",
    "\n",
    "    # Plotting the results for queue length\n",
    "    plt.figure(figsize=(8, 4))    \n",
    "    plt.step(range(len(queue_simulation.queue_length)), queue_simulation.queue_length, where='post', label=f'Queue length')\n",
    "    \n",
    "    plt.xlabel('Time')\n",
    "    plt.ylabel('Queue Length')\n",
    "    plt.title(f'Queue Length Over Time for {n_servers:d} Service Processes (λ={arrival_rate:.2f}, μ={service_rate:.2f})')\n",
    "    plt.legend()\n",
    "    plt.show()    \n",
    "    \n",
    "    # Plotting the distribution of wait times\n",
    "    plt.figure(figsize=(7, 3))\n",
    "    plt.hist(queue_simulation.waiting_times, bins=30, alpha=0.7, edgecolor='black', cumulative=False)\n",
    "    plt.xlabel('Wait Time')\n",
    "    plt.ylabel('Number of Customers')\n",
    "    plt.title('Distribution of Customer Wait Times')\n",
    "    plt.show()\n",
    "\n",
    "    # Output performance metrics\n",
    "    print(\"System utilization: {:.2f}\".format(np.sum(queue_simulation.busy_times) / len(queue_simulation.busy_times)))\n",
    "    print(\"Throughput: {:.2f}\".format(queue_simulation.served_users / simulation_time))\n",
    "    print(\"Average queue length {:.2f}\".format(np.average(queue_simulation.queue_length)))\n",
    "    print(\"Average waiting times {:.2f}\".format(np.average(queue_simulation.waiting_times)))\n",
    "    \n",
    "    return queue_simulation\n",
    "\n",
    "# Interactive widgets to adjust parameters and rerun simulation\n",
    "interact(run,         \n",
    "         arrival_rate=FloatSlider(value=0.5, min=0.1, max=10.0, step=0.1, description='Arrival Rate (λ):'),\n",
    "         service_rate=FloatSlider(value=1.0, min=0.1, max=10.0, step=0.1, description='Service Rate (μ):'),\n",
    "        n_servers=IntSlider(value=2, min=1, max=10, step=1, description='Number of Service Processes:'))    "
   ]
  },
  {
   "cell_type": "code",
   "execution_count": null,
   "id": "b292a5f8-4506-4754-8db5-ac6243ea7940",
   "metadata": {},
   "outputs": [],
   "source": []
  },
  {
   "cell_type": "code",
   "execution_count": null,
   "id": "095e459e-e465-4579-93a9-766000ff7338",
   "metadata": {},
   "outputs": [],
   "source": []
  }
 ],
 "metadata": {
  "kernelspec": {
   "display_name": "Python 3 (ipykernel)",
   "language": "python",
   "name": "python3"
  },
  "language_info": {
   "codemirror_mode": {
    "name": "ipython",
    "version": 3
   },
   "file_extension": ".py",
   "mimetype": "text/x-python",
   "name": "python",
   "nbconvert_exporter": "python",
   "pygments_lexer": "ipython3",
   "version": "3.11.5"
  }
 },
 "nbformat": 4,
 "nbformat_minor": 5
}
