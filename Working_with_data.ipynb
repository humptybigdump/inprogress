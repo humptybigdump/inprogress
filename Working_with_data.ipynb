{
 "cells": [
  {
   "cell_type": "markdown",
   "metadata": {},
   "source": [
    "**Table of contents**<a id='toc0_'></a>    \n",
    "- [Working with data in Python](#toc1_)    \n",
    "  - [Indexing (\"subsetting\")](#toc1_1_)    \n",
    "  - [Adding a variable](#toc1_2_)    \n",
    "  - [Assignments to a subset of rows](#toc1_3_)    \n",
    "  - [The index](#toc1_4_)    \n",
    "  - [Series and numpy arrays](#toc1_5_)    \n",
    "  - [Calling functions on a DataFrame](#toc1_6_)    \n",
    "- [Data: Load, clean, and save](#toc2_)    \n",
    "  - [Reading in data](#toc2_1_)    \n",
    "  - [Getting the right columns and rows](#toc2_2_)    \n",
    "  - [Renaming variables](#toc2_3_)    \n",
    "  - [Summary statistics](#toc2_4_)    \n",
    "- [Fetching data](#toc3_)    \n",
    "  - [FRED (Federal Reserve Economic Data)](#toc3_1_)    \n",
    "- [Combining data](#toc4_)    \n",
    "- [Plotting data](#toc5_)    \n",
    "- [List of some useful data sources](#toc6_)    \n",
    "  - [World Bank indicator example](#toc6_1_)    \n",
    "- [More on pandas](#toc7_)    \n",
    "\n",
    "<!-- vscode-jupyter-toc-config\n",
    "\tnumbering=false\n",
    "\tanchor=true\n",
    "\tflat=false\n",
    "\tminLevel=1\n",
    "\tmaxLevel=6\n",
    "\t/vscode-jupyter-toc-config -->\n",
    "<!-- THIS CELL WILL BE REPLACED ON TOC UPDATE. DO NOT WRITE YOUR TEXT IN THIS CELL -->"
   ]
  },
  {
   "cell_type": "markdown",
   "metadata": {},
   "source": [
    "# <a id='toc1_'></a>[Working with data in Python](#toc0_)\n"
   ]
  },
  {
   "cell_type": "markdown",
   "metadata": {},
   "source": [
    "If you have to handle data sets in Python, one of the best libraries to master is **Pandas**.  "
   ]
  },
  {
   "cell_type": "code",
   "execution_count": 1,
   "metadata": {},
   "outputs": [],
   "source": [
    "import pandas as pd\n",
    "import numpy as np\n",
    "from IPython.display import display"
   ]
  },
  {
   "cell_type": "markdown",
   "metadata": {},
   "source": [
    "In Pandas, the fundamental object of interest is a **pandas dataframe**. \n",
    "\n",
    "A pandas data frame is superficially like the data frames you know from stata: it is a 2-D object where each column has a name.\n",
    "\n",
    "**A dataframe is essentially a matrix.**\n",
    "\n",
    "* rows = observations \n",
    "* columns = variables \n",
    "* the index = keeps track of the rows' locations\n",
    "\n",
    "The *data type* of a column in a pandas data frame is a **pandas series**.\n",
    "\n",
    "A pandas series is **a lot like a numpy array** and they can be used in much the same way.  \n",
    "\n",
    "A pandas data frame can be thought of as a **dictionary of pandas series**. (Keys are column names) \n",
    "\n",
    "To create a DataFrame:"
   ]
  },
  {
   "cell_type": "code",
   "execution_count": 2,
   "metadata": {},
   "outputs": [
    {
     "data": {
      "text/html": [
       "<div>\n",
       "<style scoped>\n",
       "    .dataframe tbody tr th:only-of-type {\n",
       "        vertical-align: middle;\n",
       "    }\n",
       "\n",
       "    .dataframe tbody tr th {\n",
       "        vertical-align: top;\n",
       "    }\n",
       "\n",
       "    .dataframe thead th {\n",
       "        text-align: right;\n",
       "    }\n",
       "</style>\n",
       "<table border=\"1\" class=\"dataframe\">\n",
       "  <thead>\n",
       "    <tr style=\"text-align: right;\">\n",
       "      <th></th>\n",
       "      <th>id</th>\n",
       "      <th>inc</th>\n",
       "      <th>name</th>\n",
       "    </tr>\n",
       "  </thead>\n",
       "  <tbody>\n",
       "    <tr>\n",
       "      <th>0</th>\n",
       "      <td>1</td>\n",
       "      <td>4000</td>\n",
       "      <td>Anna</td>\n",
       "    </tr>\n",
       "    <tr>\n",
       "      <th>1</th>\n",
       "      <td>2</td>\n",
       "      <td>3000</td>\n",
       "      <td>Billy</td>\n",
       "    </tr>\n",
       "    <tr>\n",
       "      <th>2</th>\n",
       "      <td>3</td>\n",
       "      <td>1500</td>\n",
       "      <td>Claudia</td>\n",
       "    </tr>\n",
       "  </tbody>\n",
       "</table>\n",
       "</div>"
      ],
      "text/plain": [
       "   id   inc     name\n",
       "0   1  4000     Anna\n",
       "1   2  3000    Billy\n",
       "2   3  1500  Claudia"
      ]
     },
     "metadata": {},
     "output_type": "display_data"
    },
    {
     "data": {
      "text/html": [
       "<div>\n",
       "<style scoped>\n",
       "    .dataframe tbody tr th:only-of-type {\n",
       "        vertical-align: middle;\n",
       "    }\n",
       "\n",
       "    .dataframe tbody tr th {\n",
       "        vertical-align: top;\n",
       "    }\n",
       "\n",
       "    .dataframe thead th {\n",
       "        text-align: right;\n",
       "    }\n",
       "</style>\n",
       "<table border=\"1\" class=\"dataframe\">\n",
       "  <thead>\n",
       "    <tr style=\"text-align: right;\">\n",
       "      <th></th>\n",
       "      <th>id</th>\n",
       "      <th>inc</th>\n",
       "      <th>name</th>\n",
       "    </tr>\n",
       "  </thead>\n",
       "  <tbody>\n",
       "    <tr>\n",
       "      <th>0</th>\n",
       "      <td>1</td>\n",
       "      <td>4000</td>\n",
       "      <td>Anna</td>\n",
       "    </tr>\n",
       "    <tr>\n",
       "      <th>1</th>\n",
       "      <td>2</td>\n",
       "      <td>3000</td>\n",
       "      <td>Billy</td>\n",
       "    </tr>\n",
       "    <tr>\n",
       "      <th>2</th>\n",
       "      <td>3</td>\n",
       "      <td>1500</td>\n",
       "      <td>Claudia</td>\n",
       "    </tr>\n",
       "  </tbody>\n",
       "</table>\n",
       "</div>"
      ],
      "text/plain": [
       "   id   inc     name\n",
       "0   1  4000     Anna\n",
       "1   2  3000    Billy\n",
       "2   3  1500  Claudia"
      ]
     },
     "metadata": {},
     "output_type": "display_data"
    },
    {
     "data": {
      "text/html": [
       "<div>\n",
       "<style scoped>\n",
       "    .dataframe tbody tr th:only-of-type {\n",
       "        vertical-align: middle;\n",
       "    }\n",
       "\n",
       "    .dataframe tbody tr th {\n",
       "        vertical-align: top;\n",
       "    }\n",
       "\n",
       "    .dataframe thead th {\n",
       "        text-align: right;\n",
       "    }\n",
       "</style>\n",
       "<table border=\"1\" class=\"dataframe\">\n",
       "  <thead>\n",
       "    <tr style=\"text-align: right;\">\n",
       "      <th></th>\n",
       "      <th>id</th>\n",
       "      <th>inc</th>\n",
       "      <th>name</th>\n",
       "    </tr>\n",
       "  </thead>\n",
       "  <tbody>\n",
       "    <tr>\n",
       "      <th>0</th>\n",
       "      <td>1</td>\n",
       "      <td>4000</td>\n",
       "      <td>Anna</td>\n",
       "    </tr>\n",
       "    <tr>\n",
       "      <th>1</th>\n",
       "      <td>2</td>\n",
       "      <td>3000</td>\n",
       "      <td>Billy</td>\n",
       "    </tr>\n",
       "    <tr>\n",
       "      <th>2</th>\n",
       "      <td>3</td>\n",
       "      <td>1500</td>\n",
       "      <td>Claudia</td>\n",
       "    </tr>\n",
       "  </tbody>\n",
       "</table>\n",
       "</div>"
      ],
      "text/plain": [
       "   id   inc     name\n",
       "0   1  4000     Anna\n",
       "1   2  3000    Billy\n",
       "2   3  1500  Claudia"
      ]
     },
     "metadata": {},
     "output_type": "display_data"
    }
   ],
   "source": [
    "ids = pd.Series([1, 2, 3]) # pd.Series() creates a pandas series, which is similar to 1-d numpy array but with axis labels\n",
    "incomes = pd.Series([4000, 3000, 1500])\n",
    "names = pd.Series(['Anna', 'Billy', 'Claudia'])\n",
    "\n",
    "# Use data frame definition\n",
    "X = pd.DataFrame({'id': ids, 'inc':incomes, 'name': names})\n",
    "display(X)\n",
    "\n",
    "## Alternatively you can use numpy arrays\n",
    "import numpy as np\n",
    "\n",
    "ids2 = np.array([1, 2, 3])\n",
    "incomes2 = np.array([4000, 3000, 1500])\n",
    "names2 = np.array(['Anna', 'Billy', 'Claudia'])\n",
    "\n",
    "# Use data frame definition\n",
    "X2 = pd.DataFrame({'id': ids2, 'inc':incomes2, 'name': names2})\n",
    "display(X2)\n",
    "\n",
    "# Variables are cast into pandas series as the DataFrame is created\n",
    "X = pd.DataFrame({'id': [1, 2, 3], \n",
    "                  'inc': [4000, 3000, 1500], \n",
    "                  'name': ['Anna', 'Billy', 'Claudia']}) \n",
    "type(X['id'])\n",
    "\n",
    "# You can also pass in data as a list of lists and provide column names as argument\n",
    "Y = pd.DataFrame(data = [[1,4000,'Anna'],\n",
    "                         [2,3000,'Billy'],\n",
    "                         [3,1500,'Claudia']], \n",
    "                 columns=['id','inc','name'])\n",
    "display(Y)"
   ]
  },
  {
   "cell_type": "code",
   "execution_count": 3,
   "metadata": {},
   "outputs": [
    {
     "name": "stdout",
     "output_type": "stream",
     "text": [
      "<class 'pandas.core.frame.DataFrame'>\n",
      "RangeIndex: 3 entries, 0 to 2\n",
      "Data columns (total 3 columns):\n",
      " #   Column  Non-Null Count  Dtype  \n",
      "---  ------  --------------  -----  \n",
      " 0   id      3 non-null      int64  \n",
      " 1   inc     3 non-null      float64\n",
      " 2   name    3 non-null      object \n",
      "dtypes: float64(1), int64(1), object(1)\n",
      "memory usage: 204.0+ bytes\n"
     ]
    }
   ],
   "source": [
    "ids = pd.Series([1, 2, 3]) # pd.Series() creates a pandas series, which is similar to 1-d numpy array but with axis labels\n",
    "incomes = pd.Series([4000, 3000, 1500.0])\n",
    "names = pd.Series(['Anna', 'Billy', 'Claudia'])\n",
    "\n",
    "# Use data frame definition\n",
    "X = pd.DataFrame({'id': ids, 'inc':incomes, 'name': names})\n",
    "X.info()"
   ]
  },
  {
   "cell_type": "markdown",
   "metadata": {},
   "source": [
    "**General information:**"
   ]
  },
  {
   "cell_type": "code",
   "execution_count": 4,
   "metadata": {},
   "outputs": [
    {
     "name": "stdout",
     "output_type": "stream",
     "text": [
      "<class 'pandas.core.frame.DataFrame'>\n",
      "RangeIndex: 3 entries, 0 to 2\n",
      "Data columns (total 3 columns):\n",
      " #   Column  Non-Null Count  Dtype  \n",
      "---  ------  --------------  -----  \n",
      " 0   id      3 non-null      int64  \n",
      " 1   inc     3 non-null      float64\n",
      " 2   name    3 non-null      object \n",
      "dtypes: float64(1), int64(1), object(1)\n",
      "memory usage: 204.0+ bytes\n"
     ]
    }
   ],
   "source": [
    "X.info()"
   ]
  },
  {
   "cell_type": "markdown",
   "metadata": {},
   "source": [
    "## <a id='toc1_1_'></a>[Indexing (\"subsetting\")](#toc0_)"
   ]
  },
  {
   "cell_type": "markdown",
   "metadata": {},
   "source": [
    "**Choosing a subset of the rows and/or columns of a dataframe is known as \"indexing\"**. \n",
    "\n",
    "All pandas dataframes are born with the method `.loc[]` and `.iloc[]`:\n",
    "1. `.iloc[]` is for **numeric indexing** \n",
    "2. `.loc[]` for **logical** and **name-based** indexing. \n",
    "\n",
    "Examples\n",
    "* `df.iloc[0:3,1]` selects rows 0,1,2 and column 2.\n",
    "* `df.loc[:, ['inc']]` selects all rows (indicated by `:`) but only the column (variable) `inc`. \n",
    "* `df.loc[df['inc'] == 4000, :]` selects the rows where the variable `inc` is equal to 4000 and all columns (indicated by `:`)\n",
    "* `df.loc[df['inc'] == 4000, ['name']]` selects the variable `name` and shows the rows where `inc` is equal to 2002. \n",
    "\n",
    "*You cannot write*:  \n",
    "`df.iloc[0:2, ['inc']]`  \n"
   ]
  },
  {
   "cell_type": "code",
   "execution_count": 5,
   "metadata": {},
   "outputs": [
    {
     "data": {
      "text/plain": [
       "0    4000.0\n",
       "1    3000.0\n",
       "2    1500.0\n",
       "Name: inc, dtype: float64"
      ]
     },
     "metadata": {},
     "output_type": "display_data"
    },
    {
     "data": {
      "text/html": [
       "<div>\n",
       "<style scoped>\n",
       "    .dataframe tbody tr th:only-of-type {\n",
       "        vertical-align: middle;\n",
       "    }\n",
       "\n",
       "    .dataframe tbody tr th {\n",
       "        vertical-align: top;\n",
       "    }\n",
       "\n",
       "    .dataframe thead th {\n",
       "        text-align: right;\n",
       "    }\n",
       "</style>\n",
       "<table border=\"1\" class=\"dataframe\">\n",
       "  <thead>\n",
       "    <tr style=\"text-align: right;\">\n",
       "      <th></th>\n",
       "      <th>inc</th>\n",
       "    </tr>\n",
       "  </thead>\n",
       "  <tbody>\n",
       "    <tr>\n",
       "      <th>0</th>\n",
       "      <td>4000.0</td>\n",
       "    </tr>\n",
       "    <tr>\n",
       "      <th>1</th>\n",
       "      <td>3000.0</td>\n",
       "    </tr>\n",
       "    <tr>\n",
       "      <th>2</th>\n",
       "      <td>1500.0</td>\n",
       "    </tr>\n",
       "  </tbody>\n",
       "</table>\n",
       "</div>"
      ],
      "text/plain": [
       "      inc\n",
       "0  4000.0\n",
       "1  3000.0\n",
       "2  1500.0"
      ]
     },
     "metadata": {},
     "output_type": "display_data"
    },
    {
     "data": {
      "text/html": [
       "<div>\n",
       "<style scoped>\n",
       "    .dataframe tbody tr th:only-of-type {\n",
       "        vertical-align: middle;\n",
       "    }\n",
       "\n",
       "    .dataframe tbody tr th {\n",
       "        vertical-align: top;\n",
       "    }\n",
       "\n",
       "    .dataframe thead th {\n",
       "        text-align: right;\n",
       "    }\n",
       "</style>\n",
       "<table border=\"1\" class=\"dataframe\">\n",
       "  <thead>\n",
       "    <tr style=\"text-align: right;\">\n",
       "      <th></th>\n",
       "      <th>id</th>\n",
       "      <th>inc</th>\n",
       "      <th>name</th>\n",
       "    </tr>\n",
       "  </thead>\n",
       "  <tbody>\n",
       "    <tr>\n",
       "      <th>0</th>\n",
       "      <td>1</td>\n",
       "      <td>4000.0</td>\n",
       "      <td>Anna</td>\n",
       "    </tr>\n",
       "  </tbody>\n",
       "</table>\n",
       "</div>"
      ],
      "text/plain": [
       "   id     inc  name\n",
       "0   1  4000.0  Anna"
      ]
     },
     "metadata": {},
     "output_type": "display_data"
    },
    {
     "data": {
      "text/html": [
       "<div>\n",
       "<style scoped>\n",
       "    .dataframe tbody tr th:only-of-type {\n",
       "        vertical-align: middle;\n",
       "    }\n",
       "\n",
       "    .dataframe tbody tr th {\n",
       "        vertical-align: top;\n",
       "    }\n",
       "\n",
       "    .dataframe thead th {\n",
       "        text-align: right;\n",
       "    }\n",
       "</style>\n",
       "<table border=\"1\" class=\"dataframe\">\n",
       "  <thead>\n",
       "    <tr style=\"text-align: right;\">\n",
       "      <th></th>\n",
       "      <th>name</th>\n",
       "    </tr>\n",
       "  </thead>\n",
       "  <tbody>\n",
       "    <tr>\n",
       "      <th>0</th>\n",
       "      <td>Anna</td>\n",
       "    </tr>\n",
       "  </tbody>\n",
       "</table>\n",
       "</div>"
      ],
      "text/plain": [
       "   name\n",
       "0  Anna"
      ]
     },
     "metadata": {},
     "output_type": "display_data"
    },
    {
     "name": "stdout",
     "output_type": "stream",
     "text": [
      "Error with df.iloc[0:2, ['inc']]: .iloc requires numeric indexers, got ['inc']\n"
     ]
    }
   ],
   "source": [
    "# Select rows 0,1,2 and column 1 using .iloc\n",
    "subset1 = X.iloc[0:3, 1]\n",
    "display(subset1)\n",
    "\n",
    "# Select all rows but only the column 'year' using .loc\n",
    "subset2 = X.loc[:, ['inc']]\n",
    "display(subset2)\n",
    "\n",
    "# Select the rows where the variable 'year' is equal to 2002 and all columns\n",
    "subset3 = X.loc[X['inc'] == 4000, :]\n",
    "display(subset3)\n",
    "\n",
    "# Select the variable 'name' and show the rows where 'year' is equal to 2002\n",
    "subset4 = X.loc[X['inc'] == 4000, ['name']]\n",
    "display(subset4)\n",
    "\n",
    "# You cannot write: df.iloc[0:2, ['year']]\n",
    "try:\n",
    "    subset5 = X.iloc[0:2, ['inc']]\n",
    "    display(subset5)\n",
    "except Exception as e:\n",
    "    print(\"Error with df.iloc[0:2, ['inc']]:\", str(e))\n"
   ]
  },
  {
   "cell_type": "markdown",
   "metadata": {},
   "source": [
    "In general, the **syntax** is `df.loc[CONDITION, [VARLIST]]`, where `CONDITION` is a vector of logical statements with the same length as the number of rows in the dataframe, and `VARLIST` is a list over variables. "
   ]
  },
  {
   "cell_type": "markdown",
   "metadata": {},
   "source": [
    "There are other ways of indexing in pandas with shorter syntax. I would focus on `.loc[]` in the begining as it very general."
   ]
  },
  {
   "cell_type": "code",
   "execution_count": 6,
   "metadata": {},
   "outputs": [
    {
     "data": {
      "text/html": [
       "<div>\n",
       "<style scoped>\n",
       "    .dataframe tbody tr th:only-of-type {\n",
       "        vertical-align: middle;\n",
       "    }\n",
       "\n",
       "    .dataframe tbody tr th {\n",
       "        vertical-align: top;\n",
       "    }\n",
       "\n",
       "    .dataframe thead th {\n",
       "        text-align: right;\n",
       "    }\n",
       "</style>\n",
       "<table border=\"1\" class=\"dataframe\">\n",
       "  <thead>\n",
       "    <tr style=\"text-align: right;\">\n",
       "      <th></th>\n",
       "      <th>name</th>\n",
       "    </tr>\n",
       "  </thead>\n",
       "  <tbody>\n",
       "    <tr>\n",
       "      <th>1</th>\n",
       "      <td>Billy</td>\n",
       "    </tr>\n",
       "    <tr>\n",
       "      <th>2</th>\n",
       "      <td>Claudia</td>\n",
       "    </tr>\n",
       "  </tbody>\n",
       "</table>\n",
       "</div>"
      ],
      "text/plain": [
       "      name\n",
       "1    Billy\n",
       "2  Claudia"
      ]
     },
     "execution_count": 6,
     "metadata": {},
     "output_type": "execute_result"
    }
   ],
   "source": [
    "# Use logical indexing to subset from variable name based on id\n",
    "X.loc[X['id'] > 1, ['name']]"
   ]
  },
  {
   "cell_type": "markdown",
   "metadata": {},
   "source": [
    "Subset all variables:"
   ]
  },
  {
   "cell_type": "code",
   "execution_count": 7,
   "metadata": {},
   "outputs": [
    {
     "data": {
      "text/html": [
       "<div>\n",
       "<style scoped>\n",
       "    .dataframe tbody tr th:only-of-type {\n",
       "        vertical-align: middle;\n",
       "    }\n",
       "\n",
       "    .dataframe tbody tr th {\n",
       "        vertical-align: top;\n",
       "    }\n",
       "\n",
       "    .dataframe thead th {\n",
       "        text-align: right;\n",
       "    }\n",
       "</style>\n",
       "<table border=\"1\" class=\"dataframe\">\n",
       "  <thead>\n",
       "    <tr style=\"text-align: right;\">\n",
       "      <th></th>\n",
       "      <th>id</th>\n",
       "      <th>inc</th>\n",
       "      <th>name</th>\n",
       "    </tr>\n",
       "  </thead>\n",
       "  <tbody>\n",
       "    <tr>\n",
       "      <th>1</th>\n",
       "      <td>2</td>\n",
       "      <td>3000.0</td>\n",
       "      <td>Billy</td>\n",
       "    </tr>\n",
       "    <tr>\n",
       "      <th>2</th>\n",
       "      <td>3</td>\n",
       "      <td>1500.0</td>\n",
       "      <td>Claudia</td>\n",
       "    </tr>\n",
       "  </tbody>\n",
       "</table>\n",
       "</div>"
      ],
      "text/plain": [
       "   id     inc     name\n",
       "1   2  3000.0    Billy\n",
       "2   3  1500.0  Claudia"
      ]
     },
     "execution_count": 7,
     "metadata": {},
     "output_type": "execute_result"
    }
   ],
   "source": [
    "X.loc[X['id'] > 1]"
   ]
  },
  {
   "cell_type": "markdown",
   "metadata": {},
   "source": [
    "**Alternatives:**"
   ]
  },
  {
   "cell_type": "markdown",
   "metadata": {},
   "source": [
    "You can first create a boolean series to indicate rows, you want to select."
   ]
  },
  {
   "cell_type": "code",
   "execution_count": 8,
   "metadata": {},
   "outputs": [
    {
     "name": "stdout",
     "output_type": "stream",
     "text": [
      "0    False\n",
      "1     True\n",
      "2     True\n",
      "Name: id, dtype: bool\n"
     ]
    },
    {
     "data": {
      "text/html": [
       "<div>\n",
       "<style scoped>\n",
       "    .dataframe tbody tr th:only-of-type {\n",
       "        vertical-align: middle;\n",
       "    }\n",
       "\n",
       "    .dataframe tbody tr th {\n",
       "        vertical-align: top;\n",
       "    }\n",
       "\n",
       "    .dataframe thead th {\n",
       "        text-align: right;\n",
       "    }\n",
       "</style>\n",
       "<table border=\"1\" class=\"dataframe\">\n",
       "  <thead>\n",
       "    <tr style=\"text-align: right;\">\n",
       "      <th></th>\n",
       "      <th>name</th>\n",
       "    </tr>\n",
       "  </thead>\n",
       "  <tbody>\n",
       "    <tr>\n",
       "      <th>1</th>\n",
       "      <td>Billy</td>\n",
       "    </tr>\n",
       "    <tr>\n",
       "      <th>2</th>\n",
       "      <td>Claudia</td>\n",
       "    </tr>\n",
       "  </tbody>\n",
       "</table>\n",
       "</div>"
      ],
      "text/plain": [
       "      name\n",
       "1    Billy\n",
       "2  Claudia"
      ]
     },
     "execution_count": 8,
     "metadata": {},
     "output_type": "execute_result"
    }
   ],
   "source": [
    "I = X['id'] > 1\n",
    "print(I)\n",
    "X.loc[I, ['name']]"
   ]
  },
  {
   "cell_type": "markdown",
   "metadata": {},
   "source": [
    "Use `.VARIABLE` notation:\n",
    "\n",
    "Panda DataFrames have a very convenient way of selecting columns. You can use the `.` notation to select a column.\n",
    "This is equivalent to `df['VARIABLE']`."
   ]
  },
  {
   "cell_type": "code",
   "execution_count": 9,
   "metadata": {},
   "outputs": [
    {
     "data": {
      "text/html": [
       "<div>\n",
       "<style scoped>\n",
       "    .dataframe tbody tr th:only-of-type {\n",
       "        vertical-align: middle;\n",
       "    }\n",
       "\n",
       "    .dataframe tbody tr th {\n",
       "        vertical-align: top;\n",
       "    }\n",
       "\n",
       "    .dataframe thead th {\n",
       "        text-align: right;\n",
       "    }\n",
       "</style>\n",
       "<table border=\"1\" class=\"dataframe\">\n",
       "  <thead>\n",
       "    <tr style=\"text-align: right;\">\n",
       "      <th></th>\n",
       "      <th>id</th>\n",
       "      <th>name</th>\n",
       "    </tr>\n",
       "  </thead>\n",
       "  <tbody>\n",
       "    <tr>\n",
       "      <th>1</th>\n",
       "      <td>2</td>\n",
       "      <td>Billy</td>\n",
       "    </tr>\n",
       "  </tbody>\n",
       "</table>\n",
       "</div>"
      ],
      "text/plain": [
       "   id   name\n",
       "1   2  Billy"
      ]
     },
     "execution_count": 9,
     "metadata": {},
     "output_type": "execute_result"
    }
   ],
   "source": [
    "X.loc[(X.id > 1) & (X.inc > 1500), ['id','name']]"
   ]
  },
  {
   "cell_type": "markdown",
   "metadata": {},
   "source": [
    "Subsetting with numerical indexing works the same way as lists and arrays.  \n",
    "**Syntax:** `df.iloc[ROW INDICES, [COLUMN INDICES]]`"
   ]
  },
  {
   "cell_type": "code",
   "execution_count": 10,
   "metadata": {},
   "outputs": [
    {
     "data": {
      "text/html": [
       "<div>\n",
       "<style scoped>\n",
       "    .dataframe tbody tr th:only-of-type {\n",
       "        vertical-align: middle;\n",
       "    }\n",
       "\n",
       "    .dataframe tbody tr th {\n",
       "        vertical-align: top;\n",
       "    }\n",
       "\n",
       "    .dataframe thead th {\n",
       "        text-align: right;\n",
       "    }\n",
       "</style>\n",
       "<table border=\"1\" class=\"dataframe\">\n",
       "  <thead>\n",
       "    <tr style=\"text-align: right;\">\n",
       "      <th></th>\n",
       "      <th>id</th>\n",
       "      <th>name</th>\n",
       "    </tr>\n",
       "  </thead>\n",
       "  <tbody>\n",
       "    <tr>\n",
       "      <th>0</th>\n",
       "      <td>1</td>\n",
       "      <td>Anna</td>\n",
       "    </tr>\n",
       "    <tr>\n",
       "      <th>1</th>\n",
       "      <td>2</td>\n",
       "      <td>Billy</td>\n",
       "    </tr>\n",
       "  </tbody>\n",
       "</table>\n",
       "</div>"
      ],
      "text/plain": [
       "   id   name\n",
       "0   1   Anna\n",
       "1   2  Billy"
      ]
     },
     "metadata": {},
     "output_type": "display_data"
    }
   ],
   "source": [
    "display(X.iloc[0:2,[0,2]])"
   ]
  },
  {
   "cell_type": "markdown",
   "metadata": {},
   "source": [
    "## <a id='toc1_2_'></a>[Adding a variable](#toc0_)\n",
    "\n",
    "Variables are added with `df['newvar'] = SOMETHING`. *The length must match or if you append a scalar or a bool, this is broadcastet to the full column length."
   ]
  },
  {
   "cell_type": "code",
   "execution_count": 11,
   "metadata": {},
   "outputs": [
    {
     "data": {
      "text/html": [
       "<div>\n",
       "<style scoped>\n",
       "    .dataframe tbody tr th:only-of-type {\n",
       "        vertical-align: middle;\n",
       "    }\n",
       "\n",
       "    .dataframe tbody tr th {\n",
       "        vertical-align: top;\n",
       "    }\n",
       "\n",
       "    .dataframe thead th {\n",
       "        text-align: right;\n",
       "    }\n",
       "</style>\n",
       "<table border=\"1\" class=\"dataframe\">\n",
       "  <thead>\n",
       "    <tr style=\"text-align: right;\">\n",
       "      <th></th>\n",
       "      <th>id</th>\n",
       "      <th>inc</th>\n",
       "      <th>name</th>\n",
       "      <th>year</th>\n",
       "      <th>grade</th>\n",
       "      <th>Yes</th>\n",
       "    </tr>\n",
       "  </thead>\n",
       "  <tbody>\n",
       "    <tr>\n",
       "      <th>0</th>\n",
       "      <td>1</td>\n",
       "      <td>4000.0</td>\n",
       "      <td>Anna</td>\n",
       "      <td>2003</td>\n",
       "      <td>1.3</td>\n",
       "      <td>True</td>\n",
       "    </tr>\n",
       "    <tr>\n",
       "      <th>1</th>\n",
       "      <td>2</td>\n",
       "      <td>3000.0</td>\n",
       "      <td>Billy</td>\n",
       "      <td>2005</td>\n",
       "      <td>2.3</td>\n",
       "      <td>True</td>\n",
       "    </tr>\n",
       "    <tr>\n",
       "      <th>2</th>\n",
       "      <td>3</td>\n",
       "      <td>1500.0</td>\n",
       "      <td>Claudia</td>\n",
       "      <td>2010</td>\n",
       "      <td>1.7</td>\n",
       "      <td>True</td>\n",
       "    </tr>\n",
       "  </tbody>\n",
       "</table>\n",
       "</div>"
      ],
      "text/plain": [
       "   id     inc     name  year  grade   Yes\n",
       "0   1  4000.0     Anna  2003    1.3  True\n",
       "1   2  3000.0    Billy  2005    2.3  True\n",
       "2   3  1500.0  Claudia  2010    1.7  True"
      ]
     },
     "execution_count": 11,
     "metadata": {},
     "output_type": "execute_result"
    }
   ],
   "source": [
    "X['year'] = [2003, 2005, 2010]\n",
    "X['grade'] = [1.3, 2.3, 1.7]\n",
    "X['Yes'] = True\n",
    "X"
   ]
  },
  {
   "cell_type": "markdown",
   "metadata": {},
   "source": [
    "**Note:** You canNOT write `df.newvar = SOMETHING`."
   ]
  },
  {
   "cell_type": "markdown",
   "metadata": {},
   "source": [
    "The `SOMETHING` can be an **expression based on other variables**."
   ]
  },
  {
   "cell_type": "code",
   "execution_count": 12,
   "metadata": {},
   "outputs": [
    {
     "data": {
      "text/html": [
       "<div>\n",
       "<style scoped>\n",
       "    .dataframe tbody tr th:only-of-type {\n",
       "        vertical-align: middle;\n",
       "    }\n",
       "\n",
       "    .dataframe tbody tr th {\n",
       "        vertical-align: top;\n",
       "    }\n",
       "\n",
       "    .dataframe thead th {\n",
       "        text-align: right;\n",
       "    }\n",
       "</style>\n",
       "<table border=\"1\" class=\"dataframe\">\n",
       "  <thead>\n",
       "    <tr style=\"text-align: right;\">\n",
       "      <th></th>\n",
       "      <th>id</th>\n",
       "      <th>inc</th>\n",
       "      <th>name</th>\n",
       "      <th>year</th>\n",
       "      <th>grade</th>\n",
       "      <th>Yes</th>\n",
       "      <th>inc_diff</th>\n",
       "    </tr>\n",
       "  </thead>\n",
       "  <tbody>\n",
       "    <tr>\n",
       "      <th>0</th>\n",
       "      <td>1</td>\n",
       "      <td>4000.0</td>\n",
       "      <td>Anna</td>\n",
       "      <td>2003</td>\n",
       "      <td>1.3</td>\n",
       "      <td>True</td>\n",
       "      <td>41.176471</td>\n",
       "    </tr>\n",
       "    <tr>\n",
       "      <th>1</th>\n",
       "      <td>2</td>\n",
       "      <td>3000.0</td>\n",
       "      <td>Billy</td>\n",
       "      <td>2005</td>\n",
       "      <td>2.3</td>\n",
       "      <td>True</td>\n",
       "      <td>5.882353</td>\n",
       "    </tr>\n",
       "    <tr>\n",
       "      <th>2</th>\n",
       "      <td>3</td>\n",
       "      <td>1500.0</td>\n",
       "      <td>Claudia</td>\n",
       "      <td>2010</td>\n",
       "      <td>1.7</td>\n",
       "      <td>True</td>\n",
       "      <td>-47.058824</td>\n",
       "    </tr>\n",
       "  </tbody>\n",
       "</table>\n",
       "</div>"
      ],
      "text/plain": [
       "   id     inc     name  year  grade   Yes   inc_diff\n",
       "0   1  4000.0     Anna  2003    1.3  True  41.176471\n",
       "1   2  3000.0    Billy  2005    2.3  True   5.882353\n",
       "2   3  1500.0  Claudia  2010    1.7  True -47.058824"
      ]
     },
     "execution_count": 12,
     "metadata": {},
     "output_type": "execute_result"
    }
   ],
   "source": [
    "X['inc_diff'] = ((X.inc - X.inc.mean()) / X.inc.mean()) * 100\n",
    "X"
   ]
  },
  {
   "cell_type": "markdown",
   "metadata": {},
   "source": [
    "You can also `.apply(func)` a function to a column."
   ]
  },
  {
   "cell_type": "code",
   "execution_count": 13,
   "metadata": {},
   "outputs": [
    {
     "data": {
      "text/plain": [
       "0    63.245553\n",
       "1    54.772256\n",
       "2    38.729833\n",
       "Name: inc, dtype: float64"
      ]
     },
     "execution_count": 13,
     "metadata": {},
     "output_type": "execute_result"
    }
   ],
   "source": [
    "# take the square root of the inc column \n",
    "X.inc.apply(np.sqrt)"
   ]
  },
  {
   "cell_type": "markdown",
   "metadata": {},
   "source": [
    "## <a id='toc1_3_'></a>[Assignments to a subset of rows](#toc0_)\n",
    "\n",
    "You can also assign new values to a subset of elements from your dataframe."
   ]
  },
  {
   "cell_type": "markdown",
   "metadata": {},
   "source": [
    "**Multiple rows, one value:**"
   ]
  },
  {
   "cell_type": "code",
   "execution_count": 14,
   "metadata": {},
   "outputs": [
    {
     "name": "stdout",
     "output_type": "stream",
     "text": [
      "Y After change in names:\n"
     ]
    },
    {
     "data": {
      "text/html": [
       "<div>\n",
       "<style scoped>\n",
       "    .dataframe tbody tr th:only-of-type {\n",
       "        vertical-align: middle;\n",
       "    }\n",
       "\n",
       "    .dataframe tbody tr th {\n",
       "        vertical-align: top;\n",
       "    }\n",
       "\n",
       "    .dataframe thead th {\n",
       "        text-align: right;\n",
       "    }\n",
       "</style>\n",
       "<table border=\"1\" class=\"dataframe\">\n",
       "  <thead>\n",
       "    <tr style=\"text-align: right;\">\n",
       "      <th></th>\n",
       "      <th>id</th>\n",
       "      <th>inc</th>\n",
       "      <th>name</th>\n",
       "      <th>year</th>\n",
       "    </tr>\n",
       "  </thead>\n",
       "  <tbody>\n",
       "    <tr>\n",
       "      <th>0</th>\n",
       "      <td>1</td>\n",
       "      <td>4000.0</td>\n",
       "      <td>Anna</td>\n",
       "      <td>2003</td>\n",
       "    </tr>\n",
       "    <tr>\n",
       "      <th>1</th>\n",
       "      <td>2</td>\n",
       "      <td>3000.0</td>\n",
       "      <td>no name</td>\n",
       "      <td>2005</td>\n",
       "    </tr>\n",
       "    <tr>\n",
       "      <th>2</th>\n",
       "      <td>3</td>\n",
       "      <td>1500.0</td>\n",
       "      <td>no name</td>\n",
       "      <td>2010</td>\n",
       "    </tr>\n",
       "  </tbody>\n",
       "</table>\n",
       "</div>"
      ],
      "text/plain": [
       "   id     inc     name  year\n",
       "0   1  4000.0     Anna  2003\n",
       "1   2  3000.0  no name  2005\n",
       "2   3  1500.0  no name  2010"
      ]
     },
     "execution_count": 14,
     "metadata": {},
     "output_type": "execute_result"
    }
   ],
   "source": [
    "# Create copy of X to avoid overwriting it.\n",
    "Y = X.iloc[:,0:4].copy()\n",
    "Y.loc[Y.id > 1, ['name']] = 'no name'\n",
    "print('Y After change in names:')\n",
    "Y"
   ]
  },
  {
   "cell_type": "markdown",
   "metadata": {},
   "source": [
    "**LHS:** Values selected using logical statement.<br>\n",
    "**RHS:** Must either be:\n",
    "\n",
    "1. a **single value** (all rows are set to this) \n",
    "2. a **list of values** with same length as the number of selected rows"
   ]
  },
  {
   "cell_type": "markdown",
   "metadata": {},
   "source": [
    "**Multiple rows, multiple values:**"
   ]
  },
  {
   "cell_type": "code",
   "execution_count": 15,
   "metadata": {},
   "outputs": [
    {
     "name": "stdout",
     "output_type": "stream",
     "text": [
      "Original df:\n"
     ]
    },
    {
     "data": {
      "text/html": [
       "<div>\n",
       "<style scoped>\n",
       "    .dataframe tbody tr th:only-of-type {\n",
       "        vertical-align: middle;\n",
       "    }\n",
       "\n",
       "    .dataframe tbody tr th {\n",
       "        vertical-align: top;\n",
       "    }\n",
       "\n",
       "    .dataframe thead th {\n",
       "        text-align: right;\n",
       "    }\n",
       "</style>\n",
       "<table border=\"1\" class=\"dataframe\">\n",
       "  <thead>\n",
       "    <tr style=\"text-align: right;\">\n",
       "      <th></th>\n",
       "      <th>id</th>\n",
       "      <th>inc</th>\n",
       "      <th>name</th>\n",
       "      <th>year</th>\n",
       "    </tr>\n",
       "  </thead>\n",
       "  <tbody>\n",
       "    <tr>\n",
       "      <th>0</th>\n",
       "      <td>1</td>\n",
       "      <td>4000.0</td>\n",
       "      <td>Anna</td>\n",
       "      <td>2003</td>\n",
       "    </tr>\n",
       "    <tr>\n",
       "      <th>1</th>\n",
       "      <td>2</td>\n",
       "      <td>3000.0</td>\n",
       "      <td>Billy</td>\n",
       "      <td>2005</td>\n",
       "    </tr>\n",
       "    <tr>\n",
       "      <th>2</th>\n",
       "      <td>3</td>\n",
       "      <td>1500.0</td>\n",
       "      <td>Claudia</td>\n",
       "      <td>2010</td>\n",
       "    </tr>\n",
       "  </tbody>\n",
       "</table>\n",
       "</div>"
      ],
      "text/plain": [
       "   id     inc     name  year\n",
       "0   1  4000.0     Anna  2003\n",
       "1   2  3000.0    Billy  2005\n",
       "2   3  1500.0  Claudia  2010"
      ]
     },
     "metadata": {},
     "output_type": "display_data"
    },
    {
     "name": "stdout",
     "output_type": "stream",
     "text": [
      "Subset of Y, LHS in assignment:\n"
     ]
    },
    {
     "data": {
      "text/html": [
       "<div>\n",
       "<style scoped>\n",
       "    .dataframe tbody tr th:only-of-type {\n",
       "        vertical-align: middle;\n",
       "    }\n",
       "\n",
       "    .dataframe tbody tr th {\n",
       "        vertical-align: top;\n",
       "    }\n",
       "\n",
       "    .dataframe thead th {\n",
       "        text-align: right;\n",
       "    }\n",
       "</style>\n",
       "<table border=\"1\" class=\"dataframe\">\n",
       "  <thead>\n",
       "    <tr style=\"text-align: right;\">\n",
       "      <th></th>\n",
       "      <th>id</th>\n",
       "      <th>inc</th>\n",
       "      <th>name</th>\n",
       "      <th>year</th>\n",
       "    </tr>\n",
       "  </thead>\n",
       "  <tbody>\n",
       "    <tr>\n",
       "      <th>0</th>\n",
       "      <td>1</td>\n",
       "      <td>4000.0</td>\n",
       "      <td>Anna</td>\n",
       "      <td>2003</td>\n",
       "    </tr>\n",
       "    <tr>\n",
       "      <th>2</th>\n",
       "      <td>3</td>\n",
       "      <td>1500.0</td>\n",
       "      <td>Claudia</td>\n",
       "      <td>2010</td>\n",
       "    </tr>\n",
       "  </tbody>\n",
       "</table>\n",
       "</div>"
      ],
      "text/plain": [
       "   id     inc     name  year\n",
       "0   1  4000.0     Anna  2003\n",
       "2   3  1500.0  Claudia  2010"
      ]
     },
     "metadata": {},
     "output_type": "display_data"
    },
    {
     "name": "stdout",
     "output_type": "stream",
     "text": [
      "Final Y:\n"
     ]
    },
    {
     "data": {
      "text/html": [
       "<div>\n",
       "<style scoped>\n",
       "    .dataframe tbody tr th:only-of-type {\n",
       "        vertical-align: middle;\n",
       "    }\n",
       "\n",
       "    .dataframe tbody tr th {\n",
       "        vertical-align: top;\n",
       "    }\n",
       "\n",
       "    .dataframe thead th {\n",
       "        text-align: right;\n",
       "    }\n",
       "</style>\n",
       "<table border=\"1\" class=\"dataframe\">\n",
       "  <thead>\n",
       "    <tr style=\"text-align: right;\">\n",
       "      <th></th>\n",
       "      <th>id</th>\n",
       "      <th>inc</th>\n",
       "      <th>name</th>\n",
       "      <th>year</th>\n",
       "    </tr>\n",
       "  </thead>\n",
       "  <tbody>\n",
       "    <tr>\n",
       "      <th>0</th>\n",
       "      <td>1</td>\n",
       "      <td>4000.0</td>\n",
       "      <td>Alex</td>\n",
       "      <td>2003</td>\n",
       "    </tr>\n",
       "    <tr>\n",
       "      <th>1</th>\n",
       "      <td>2</td>\n",
       "      <td>3000.0</td>\n",
       "      <td>Billy</td>\n",
       "      <td>2005</td>\n",
       "    </tr>\n",
       "    <tr>\n",
       "      <th>2</th>\n",
       "      <td>3</td>\n",
       "      <td>1500.0</td>\n",
       "      <td>Claudia</td>\n",
       "      <td>2010</td>\n",
       "    </tr>\n",
       "  </tbody>\n",
       "</table>\n",
       "</div>"
      ],
      "text/plain": [
       "   id     inc     name  year\n",
       "0   1  4000.0     Alex  2003\n",
       "1   2  3000.0    Billy  2005\n",
       "2   3  1500.0  Claudia  2010"
      ]
     },
     "execution_count": 15,
     "metadata": {},
     "output_type": "execute_result"
    }
   ],
   "source": [
    "print('Original df:')\n",
    "Y = X.iloc[:,0:4].copy()\n",
    "display(Y)\n",
    "\n",
    "# Subset the rows, where name is Anna or year is 2005. LHS is incidentally only 2 rows, which match the RHS!\n",
    "I = (Y.name == 'Anna') | (Y.year == 2010)\n",
    "\n",
    "# Print LHS\n",
    "print('Subset of Y, LHS in assignment:')\n",
    "display(Y.loc[I,:])\n",
    "\n",
    "# Assignment\n",
    "Y.loc[I, ['name']] = ['Alex', 'Claudia']\n",
    "\n",
    "print('Final Y:')\n",
    "Y"
   ]
  },
  {
   "cell_type": "markdown",
   "metadata": {},
   "source": [
    "## <a id='toc1_4_'></a>[The index](#toc0_)\n",
    "\n",
    "The **first column** in the dataset is referred to as the `index` of the dataframe.<br>\n",
    "**Baseline:** If you haven't done anything, it is just `[0, 1, 2, ....]`."
   ]
  },
  {
   "cell_type": "code",
   "execution_count": 16,
   "metadata": {},
   "outputs": [
    {
     "name": "stdout",
     "output_type": "stream",
     "text": [
      "[0 1 2]\n"
     ]
    }
   ],
   "source": [
    "X = pd.DataFrame({'id': [1, 2, 3], \n",
    "                  'inc': [4000, 3000, 1500], \n",
    "                  'name': ['Anna', 'Billy', 'Claudia'],\n",
    "                  'year': [2010, 2010, 2019]}) \n",
    "\n",
    "# See the indices of X\n",
    "print(X.index.values)"
   ]
  },
  {
   "cell_type": "markdown",
   "metadata": {},
   "source": [
    "**Custom:** You can actually use any **unique** identifier. It does not have to be numbers. For example, you can assign the name column to be the index instead."
   ]
  },
  {
   "cell_type": "code",
   "execution_count": 17,
   "metadata": {},
   "outputs": [
    {
     "data": {
      "text/html": [
       "<div>\n",
       "<style scoped>\n",
       "    .dataframe tbody tr th:only-of-type {\n",
       "        vertical-align: middle;\n",
       "    }\n",
       "\n",
       "    .dataframe tbody tr th {\n",
       "        vertical-align: top;\n",
       "    }\n",
       "\n",
       "    .dataframe thead th {\n",
       "        text-align: right;\n",
       "    }\n",
       "</style>\n",
       "<table border=\"1\" class=\"dataframe\">\n",
       "  <thead>\n",
       "    <tr style=\"text-align: right;\">\n",
       "      <th></th>\n",
       "      <th>id</th>\n",
       "      <th>inc</th>\n",
       "      <th>year</th>\n",
       "    </tr>\n",
       "    <tr>\n",
       "      <th>name</th>\n",
       "      <th></th>\n",
       "      <th></th>\n",
       "      <th></th>\n",
       "    </tr>\n",
       "  </thead>\n",
       "  <tbody>\n",
       "    <tr>\n",
       "      <th>Anna</th>\n",
       "      <td>1</td>\n",
       "      <td>4000</td>\n",
       "      <td>2010</td>\n",
       "    </tr>\n",
       "    <tr>\n",
       "      <th>Billy</th>\n",
       "      <td>2</td>\n",
       "      <td>3000</td>\n",
       "      <td>2010</td>\n",
       "    </tr>\n",
       "    <tr>\n",
       "      <th>Claudia</th>\n",
       "      <td>3</td>\n",
       "      <td>1500</td>\n",
       "      <td>2019</td>\n",
       "    </tr>\n",
       "  </tbody>\n",
       "</table>\n",
       "</div>"
      ],
      "text/plain": [
       "         id   inc  year\n",
       "name                   \n",
       "Anna      1  4000  2010\n",
       "Billy     2  3000  2010\n",
       "Claudia   3  1500  2019"
      ]
     },
     "execution_count": 17,
     "metadata": {},
     "output_type": "execute_result"
    }
   ],
   "source": [
    "Y = X.set_index('name') # returns a copy\n",
    "Y # notice name is now below the other variables"
   ]
  },
  {
   "cell_type": "markdown",
   "metadata": {},
   "source": [
    "We could also have specified an index at creation of X"
   ]
  },
  {
   "cell_type": "code",
   "execution_count": 18,
   "metadata": {},
   "outputs": [
    {
     "data": {
      "text/html": [
       "<div>\n",
       "<style scoped>\n",
       "    .dataframe tbody tr th:only-of-type {\n",
       "        vertical-align: middle;\n",
       "    }\n",
       "\n",
       "    .dataframe tbody tr th {\n",
       "        vertical-align: top;\n",
       "    }\n",
       "\n",
       "    .dataframe thead th {\n",
       "        text-align: right;\n",
       "    }\n",
       "</style>\n",
       "<table border=\"1\" class=\"dataframe\">\n",
       "  <thead>\n",
       "    <tr style=\"text-align: right;\">\n",
       "      <th></th>\n",
       "      <th>id</th>\n",
       "      <th>inc</th>\n",
       "      <th>year</th>\n",
       "    </tr>\n",
       "  </thead>\n",
       "  <tbody>\n",
       "    <tr>\n",
       "      <th>Anna</th>\n",
       "      <td>1</td>\n",
       "      <td>4000</td>\n",
       "      <td>2010</td>\n",
       "    </tr>\n",
       "    <tr>\n",
       "      <th>Billy</th>\n",
       "      <td>2</td>\n",
       "      <td>3000</td>\n",
       "      <td>2010</td>\n",
       "    </tr>\n",
       "    <tr>\n",
       "      <th>Claudia</th>\n",
       "      <td>3</td>\n",
       "      <td>1500</td>\n",
       "      <td>2019</td>\n",
       "    </tr>\n",
       "  </tbody>\n",
       "</table>\n",
       "</div>"
      ],
      "text/plain": [
       "         id   inc  year\n",
       "Anna      1  4000  2010\n",
       "Billy     2  3000  2010\n",
       "Claudia   3  1500  2019"
      ]
     },
     "execution_count": 18,
     "metadata": {},
     "output_type": "execute_result"
    }
   ],
   "source": [
    "X = pd.DataFrame({'id': [1, 2, 3], \n",
    "                  'inc': [4000, 3000, 1500],\n",
    "                  'year': [2010, 2010, 2019]}, \n",
    "                  index= ['Anna', 'Billy', 'Claudia'])\n",
    "X"
   ]
  },
  {
   "cell_type": "code",
   "execution_count": 19,
   "metadata": {},
   "outputs": [
    {
     "data": {
      "text/plain": [
       "id         1\n",
       "inc     4000\n",
       "year    2010\n",
       "Name: Anna, dtype: int64"
      ]
     },
     "execution_count": 19,
     "metadata": {},
     "output_type": "execute_result"
    }
   ],
   "source": [
    "# Use index of rows:\n",
    "Y.loc['Anna',:]"
   ]
  },
  {
   "cell_type": "code",
   "execution_count": 20,
   "metadata": {},
   "outputs": [
    {
     "name": "stdout",
     "output_type": "stream",
     "text": [
      "['Anna' 'Billy' 'Claudia']\n"
     ]
    }
   ],
   "source": [
    "# See the indices of Y\n",
    "print(Y.index.values)"
   ]
  },
  {
   "cell_type": "markdown",
   "metadata": {},
   "source": [
    "For time series data, it will be usefull to have a datetime index."
   ]
  },
  {
   "cell_type": "code",
   "execution_count": 21,
   "metadata": {},
   "outputs": [
    {
     "data": {
      "text/html": [
       "<div>\n",
       "<style scoped>\n",
       "    .dataframe tbody tr th:only-of-type {\n",
       "        vertical-align: middle;\n",
       "    }\n",
       "\n",
       "    .dataframe tbody tr th {\n",
       "        vertical-align: top;\n",
       "    }\n",
       "\n",
       "    .dataframe thead th {\n",
       "        text-align: right;\n",
       "    }\n",
       "</style>\n",
       "<table border=\"1\" class=\"dataframe\">\n",
       "  <thead>\n",
       "    <tr style=\"text-align: right;\">\n",
       "      <th></th>\n",
       "      <th>GDP</th>\n",
       "    </tr>\n",
       "  </thead>\n",
       "  <tbody>\n",
       "    <tr>\n",
       "      <th>2022-01-01</th>\n",
       "      <td>1</td>\n",
       "    </tr>\n",
       "    <tr>\n",
       "      <th>2022-01-02</th>\n",
       "      <td>2</td>\n",
       "    </tr>\n",
       "    <tr>\n",
       "      <th>2022-01-03</th>\n",
       "      <td>3</td>\n",
       "    </tr>\n",
       "    <tr>\n",
       "      <th>2022-01-04</th>\n",
       "      <td>4</td>\n",
       "    </tr>\n",
       "    <tr>\n",
       "      <th>2022-01-05</th>\n",
       "      <td>5</td>\n",
       "    </tr>\n",
       "  </tbody>\n",
       "</table>\n",
       "</div>"
      ],
      "text/plain": [
       "            GDP\n",
       "2022-01-01    1\n",
       "2022-01-02    2\n",
       "2022-01-03    3\n",
       "2022-01-04    4\n",
       "2022-01-05    5"
      ]
     },
     "metadata": {},
     "output_type": "display_data"
    }
   ],
   "source": [
    "import pandas as pd\n",
    "\n",
    "# Create a DataFrame with a datetime index\n",
    "data = {\n",
    "    'GDP': [1, 2, 3, 4, 5]\n",
    "}\n",
    "index = pd.date_range(start='2022-01-01', periods=5)\n",
    "df = pd.DataFrame(data, index=index)\n",
    "\n",
    "display(df)"
   ]
  },
  {
   "cell_type": "markdown",
   "metadata": {},
   "source": [
    "When using time-series data with pandas you typically use datetimes as the index column.\n",
    "You can also create datetime objects with the `datetime` module in Python. "
   ]
  },
  {
   "cell_type": "code",
   "execution_count": 22,
   "metadata": {},
   "outputs": [
    {
     "name": "stdout",
     "output_type": "stream",
     "text": [
      "Datetime object: 2025-04-23 15:30:00\n"
     ]
    }
   ],
   "source": [
    "from datetime import datetime\n",
    "\n",
    "# Create a datetime object\n",
    "dt = datetime(2025, 4, 23, 15, 30)  # Year, Month, Day, Hour, Minute\n",
    "print(\"Datetime object:\", dt)"
   ]
  },
  {
   "cell_type": "markdown",
   "metadata": {},
   "source": [
    "Datetimes objects allows for easy manipulation of dates and times."
   ]
  },
  {
   "cell_type": "code",
   "execution_count": 23,
   "metadata": {},
   "outputs": [
    {
     "name": "stdout",
     "output_type": "stream",
     "text": [
      "Datetime Index:\n",
      " DatetimeIndex(['2024-01-02', '2024-01-03'], dtype='datetime64[ns]', freq='D')\n",
      "DataFrame with Datetime Index:\n",
      "             value\n",
      "2024-01-02      1\n",
      "2024-01-03      2\n",
      "Weekly Resampled Data:\n",
      "             value\n",
      "2024-01-14   10.0\n",
      "2024-01-21   17.0\n"
     ]
    }
   ],
   "source": [
    "# Create a datetime index with daily frequency\n",
    "date_index = pd.date_range(start='2024-01-01', end='2025-10-01', freq='D')\n",
    "print(\"Datetime Index:\\n\", date_index[1:3])\n",
    "\n",
    "# Create a DataFrame with a datetime index\n",
    "data = {'value': np.arange(len(date_index))}\n",
    "df = pd.DataFrame(data, index=date_index)\n",
    "print(\"DataFrame with Datetime Index:\\n\", df.iloc[1:3,:])\n",
    "\n",
    "# Transform to weekly data by using the mean of the daily values\n",
    "weekly_data = df.resample('W').mean()\n",
    "print(\"Weekly Resampled Data:\\n\", weekly_data[1:3])"
   ]
  },
  {
   "cell_type": "code",
   "execution_count": 24,
   "metadata": {},
   "outputs": [
    {
     "name": "stdout",
     "output_type": "stream",
     "text": [
      "QS with .first():\n",
      "             value\n",
      "2024-04-01     91\n",
      "2024-07-01    182\n",
      "2024-10-01    274\n",
      "QE with .last():\n",
      "             value\n",
      "2024-06-30    181\n",
      "2024-09-30    273\n",
      "2024-12-31    365\n",
      "QE with .ffill():\n",
      "             value\n",
      "2024-06-30    181\n",
      "2024-09-30    273\n",
      "2024-12-31    365\n"
     ]
    }
   ],
   "source": [
    "\n",
    "# Transform to quarterly data by using the first value of the quarter\n",
    "quarterly_date = df.resample('QS').first()    # QS indicates the date is the first of the quarter\n",
    "print(\"QS with .first():\\n\", quarterly_date[1:4])\n",
    "\n",
    "quarterly_date = df.resample('QE').last()    # QE indicates the date is the end of the quarter\n",
    "print(\"QE with .last():\\n\", quarterly_date[1:4])\n",
    "\n",
    "# A convenient option is often to use .ffill() (forward fill) which takes the last valid observation.\n",
    "# This is useful for time series data where you want to fill in missing values with the last known value.\n",
    "quarterly_date = df.resample('QE').ffill()   \n",
    "print(\"QE with .ffill():\\n\", quarterly_date[1:4])"
   ]
  },
  {
   "cell_type": "markdown",
   "metadata": {},
   "source": [
    "## <a id='toc1_5_'></a>[Series and numpy arrays](#toc0_)"
   ]
  },
  {
   "cell_type": "markdown",
   "metadata": {},
   "source": [
    "When you select an individual variable, it is of class `Series`. Some functions work on a pandas series (e.g. most numpy functions), but it is sometimes nice to extract the underlying numpy objects: \n",
    "\n",
    "* `df`: **pandas dataframe** \n",
    "* `df['variable']`: **pandas series**\n",
    "* `df['variabe'].values` (or `.to_numpy()`): **numpy array**"
   ]
  },
  {
   "cell_type": "code",
   "execution_count": 25,
   "metadata": {},
   "outputs": [
    {
     "data": {
      "text/plain": [
       "array([4000, 3000, 1500])"
      ]
     },
     "execution_count": 25,
     "metadata": {},
     "output_type": "execute_result"
    }
   ],
   "source": [
    "# One way to do it\n",
    "X.inc.to_numpy()"
   ]
  },
  {
   "cell_type": "code",
   "execution_count": 26,
   "metadata": {},
   "outputs": [
    {
     "data": {
      "text/plain": [
       "array([4000, 3000, 1500])"
      ]
     },
     "metadata": {},
     "output_type": "display_data"
    },
    {
     "data": {
      "text/plain": [
       "numpy.ndarray"
      ]
     },
     "execution_count": 26,
     "metadata": {},
     "output_type": "execute_result"
    }
   ],
   "source": [
    "# Another way\n",
    "display(X.inc.values)\n",
    "type(X.inc.values)"
   ]
  },
  {
   "cell_type": "markdown",
   "metadata": {},
   "source": [
    "## <a id='toc1_6_'></a>[Calling functions on a DataFrame](#toc0_)\n",
    "\n",
    "You could create the `inc_diff` column, by applying a function to the `inc`column:"
   ]
  },
  {
   "cell_type": "code",
   "execution_count": 27,
   "metadata": {},
   "outputs": [
    {
     "data": {
      "text/html": [
       "<div>\n",
       "<style scoped>\n",
       "    .dataframe tbody tr th:only-of-type {\n",
       "        vertical-align: middle;\n",
       "    }\n",
       "\n",
       "    .dataframe tbody tr th {\n",
       "        vertical-align: top;\n",
       "    }\n",
       "\n",
       "    .dataframe thead th {\n",
       "        text-align: right;\n",
       "    }\n",
       "</style>\n",
       "<table border=\"1\" class=\"dataframe\">\n",
       "  <thead>\n",
       "    <tr style=\"text-align: right;\">\n",
       "      <th></th>\n",
       "      <th>id</th>\n",
       "      <th>inc</th>\n",
       "      <th>year</th>\n",
       "      <th>inc_diff</th>\n",
       "    </tr>\n",
       "  </thead>\n",
       "  <tbody>\n",
       "    <tr>\n",
       "      <th>Anna</th>\n",
       "      <td>1</td>\n",
       "      <td>4000</td>\n",
       "      <td>2010</td>\n",
       "      <td>41.176471</td>\n",
       "    </tr>\n",
       "    <tr>\n",
       "      <th>Billy</th>\n",
       "      <td>2</td>\n",
       "      <td>3000</td>\n",
       "      <td>2010</td>\n",
       "      <td>5.882353</td>\n",
       "    </tr>\n",
       "    <tr>\n",
       "      <th>Claudia</th>\n",
       "      <td>3</td>\n",
       "      <td>1500</td>\n",
       "      <td>2019</td>\n",
       "      <td>-47.058824</td>\n",
       "    </tr>\n",
       "  </tbody>\n",
       "</table>\n",
       "</div>"
      ],
      "text/plain": [
       "         id   inc  year   inc_diff\n",
       "Anna      1  4000  2010  41.176471\n",
       "Billy     2  3000  2010   5.882353\n",
       "Claudia   3  1500  2019 -47.058824"
      ]
     },
     "execution_count": 27,
     "metadata": {},
     "output_type": "execute_result"
    }
   ],
   "source": [
    "def perc_diff(x):\n",
    "    return ((x - x.mean()) / x.mean()) * 100\n",
    "# or use a lambda function\n",
    "perc_diff = lambda x: ((x - x.mean()) / x.mean()) * 100\n",
    "\n",
    "X['inc_diff'] = perc_diff(X.inc)\n",
    "X"
   ]
  },
  {
   "cell_type": "code",
   "execution_count": 28,
   "metadata": {},
   "outputs": [
    {
     "data": {
      "text/html": [
       "<div>\n",
       "<style scoped>\n",
       "    .dataframe tbody tr th:only-of-type {\n",
       "        vertical-align: middle;\n",
       "    }\n",
       "\n",
       "    .dataframe tbody tr th {\n",
       "        vertical-align: top;\n",
       "    }\n",
       "\n",
       "    .dataframe thead th {\n",
       "        text-align: right;\n",
       "    }\n",
       "</style>\n",
       "<table border=\"1\" class=\"dataframe\">\n",
       "  <thead>\n",
       "    <tr style=\"text-align: right;\">\n",
       "      <th></th>\n",
       "      <th>id</th>\n",
       "      <th>inc</th>\n",
       "      <th>year</th>\n",
       "    </tr>\n",
       "  </thead>\n",
       "  <tbody>\n",
       "    <tr>\n",
       "      <th>Anna</th>\n",
       "      <td>1</td>\n",
       "      <td>4000</td>\n",
       "      <td>2010</td>\n",
       "    </tr>\n",
       "    <tr>\n",
       "      <th>Billy</th>\n",
       "      <td>2</td>\n",
       "      <td>3000</td>\n",
       "      <td>2010</td>\n",
       "    </tr>\n",
       "    <tr>\n",
       "      <th>Claudia</th>\n",
       "      <td>3</td>\n",
       "      <td>1500</td>\n",
       "      <td>2019</td>\n",
       "    </tr>\n",
       "  </tbody>\n",
       "</table>\n",
       "</div>"
      ],
      "text/plain": [
       "         id   inc  year\n",
       "Anna      1  4000  2010\n",
       "Billy     2  3000  2010\n",
       "Claudia   3  1500  2019"
      ]
     },
     "execution_count": 28,
     "metadata": {},
     "output_type": "execute_result"
    }
   ],
   "source": [
    "# use .drop() to remove a column\n",
    "X.drop('inc_diff', axis=1)"
   ]
  },
  {
   "cell_type": "markdown",
   "metadata": {},
   "source": [
    "**Row-by-row**  \n",
    "Create function that takes row as an argument, and then **apply** the action of the function along the row dimension (axis=1)."
   ]
  },
  {
   "cell_type": "code",
   "execution_count": 29,
   "metadata": {},
   "outputs": [
    {
     "data": {
      "text/html": [
       "<div>\n",
       "<style scoped>\n",
       "    .dataframe tbody tr th:only-of-type {\n",
       "        vertical-align: middle;\n",
       "    }\n",
       "\n",
       "    .dataframe tbody tr th {\n",
       "        vertical-align: top;\n",
       "    }\n",
       "\n",
       "    .dataframe thead th {\n",
       "        text-align: right;\n",
       "    }\n",
       "</style>\n",
       "<table border=\"1\" class=\"dataframe\">\n",
       "  <thead>\n",
       "    <tr style=\"text-align: right;\">\n",
       "      <th></th>\n",
       "      <th>id</th>\n",
       "      <th>inc</th>\n",
       "      <th>year</th>\n",
       "      <th>name</th>\n",
       "    </tr>\n",
       "  </thead>\n",
       "  <tbody>\n",
       "    <tr>\n",
       "      <th>0</th>\n",
       "      <td>1</td>\n",
       "      <td>4000</td>\n",
       "      <td>2010</td>\n",
       "      <td>Anna</td>\n",
       "    </tr>\n",
       "    <tr>\n",
       "      <th>1</th>\n",
       "      <td>2</td>\n",
       "      <td>3000</td>\n",
       "      <td>2010</td>\n",
       "      <td>Billy</td>\n",
       "    </tr>\n",
       "    <tr>\n",
       "      <th>2</th>\n",
       "      <td>3</td>\n",
       "      <td>1500</td>\n",
       "      <td>2019</td>\n",
       "      <td>Claudia</td>\n",
       "    </tr>\n",
       "  </tbody>\n",
       "</table>\n",
       "</div>"
      ],
      "text/plain": [
       "   id   inc  year     name\n",
       "0   1  4000  2010     Anna\n",
       "1   2  3000  2010    Billy\n",
       "2   3  1500  2019  Claudia"
      ]
     },
     "metadata": {},
     "output_type": "display_data"
    },
    {
     "data": {
      "text/html": [
       "<div>\n",
       "<style scoped>\n",
       "    .dataframe tbody tr th:only-of-type {\n",
       "        vertical-align: middle;\n",
       "    }\n",
       "\n",
       "    .dataframe tbody tr th {\n",
       "        vertical-align: top;\n",
       "    }\n",
       "\n",
       "    .dataframe thead th {\n",
       "        text-align: right;\n",
       "    }\n",
       "</style>\n",
       "<table border=\"1\" class=\"dataframe\">\n",
       "  <thead>\n",
       "    <tr style=\"text-align: right;\">\n",
       "      <th></th>\n",
       "      <th>id</th>\n",
       "      <th>inc</th>\n",
       "      <th>year</th>\n",
       "      <th>name</th>\n",
       "      <th>year_name</th>\n",
       "    </tr>\n",
       "  </thead>\n",
       "  <tbody>\n",
       "    <tr>\n",
       "      <th>0</th>\n",
       "      <td>1</td>\n",
       "      <td>4000</td>\n",
       "      <td>2010</td>\n",
       "      <td>Anna</td>\n",
       "      <td>2010 - Anna</td>\n",
       "    </tr>\n",
       "    <tr>\n",
       "      <th>1</th>\n",
       "      <td>2</td>\n",
       "      <td>3000</td>\n",
       "      <td>2010</td>\n",
       "      <td>Billy</td>\n",
       "      <td>2010 - Billy</td>\n",
       "    </tr>\n",
       "    <tr>\n",
       "      <th>2</th>\n",
       "      <td>3</td>\n",
       "      <td>1500</td>\n",
       "      <td>2019</td>\n",
       "      <td>Claudia</td>\n",
       "      <td>2019 - Claudia</td>\n",
       "    </tr>\n",
       "  </tbody>\n",
       "</table>\n",
       "</div>"
      ],
      "text/plain": [
       "   id   inc  year     name       year_name\n",
       "0   1  4000  2010     Anna     2010 - Anna\n",
       "1   2  3000  2010    Billy    2010 - Billy\n",
       "2   3  1500  2019  Claudia  2019 - Claudia"
      ]
     },
     "execution_count": 29,
     "metadata": {},
     "output_type": "execute_result"
    }
   ],
   "source": [
    "Y = pd.DataFrame({'id': [1, 2, 3], \n",
    "                  'inc': [4000, 3000, 1500],\n",
    "                  'year': [2010, 2010, 2019], \n",
    "                  'name': ['Anna', 'Billy', 'Claudia']})\n",
    "\n",
    "display(Y)\n",
    "\n",
    "# Notice that row is an input argument here\n",
    "def conc_row_wise(row):\n",
    "    return str(row['year']) + ' - ' + row['name'] \n",
    "\n",
    "# The fact that row is an input argument in the conc_row_wise function is implicitly understood by .apply()\n",
    "Y['year_name'] = Y.apply(conc_row_wise, axis=1)  # Notice that axis = 1 is going down rows. Kind of confusing. \n",
    "Y"
   ]
  },
  {
   "cell_type": "markdown",
   "metadata": {},
   "source": [
    "There are many methods available do DataFrames. You can see them by typing `dir(df)`.\n",
    "\n",
    "This [Cheat Sheet](https://pandas.pydata.org/Pandas_Cheat_Sheet.pdf) is also very useful."
   ]
  },
  {
   "cell_type": "code",
   "execution_count": 30,
   "metadata": {},
   "outputs": [
    {
     "name": "stdout",
     "output_type": "stream",
     "text": [
      "['T', '_AXIS_LEN', '_AXIS_ORDERS', '_AXIS_TO_AXIS_NUMBER', '_HANDLED_TYPES', '__abs__', '__add__', '__and__', '__annotations__', '__array__', '__array_priority__', '__array_ufunc__', '__arrow_c_stream__', '__bool__', '__class__', '__contains__', '__copy__', '__dataframe__', '__dataframe_consortium_standard__', '__deepcopy__', '__delattr__', '__delitem__', '__dict__', '__dir__', '__divmod__', '__doc__', '__eq__', '__finalize__', '__floordiv__', '__format__', '__ge__', '__getattr__', '__getattribute__', '__getitem__', '__getstate__', '__gt__', '__hash__', '__iadd__', '__iand__', '__ifloordiv__', '__imod__', '__imul__', '__init__', '__init_subclass__', '__invert__', '__ior__', '__ipow__', '__isub__', '__iter__', '__itruediv__', '__ixor__', '__le__', '__len__', '__lt__', '__matmul__', '__mod__', '__module__', '__mul__', '__ne__', '__neg__', '__new__', '__nonzero__', '__or__', '__pandas_priority__', '__pos__', '__pow__', '__radd__', '__rand__', '__rdivmod__', '__reduce__', '__reduce_ex__', '__repr__', '__rfloordiv__', '__rmatmul__', '__rmod__', '__rmul__', '__ror__', '__round__', '__rpow__', '__rsub__', '__rtruediv__', '__rxor__', '__setattr__', '__setitem__', '__setstate__', '__sizeof__', '__str__', '__sub__', '__subclasshook__', '__truediv__', '__weakref__', '__xor__', '_accessors', '_accum_func', '_agg_examples_doc', '_agg_see_also_doc', '_align_for_op', '_align_frame', '_align_series', '_append', '_arith_method', '_arith_method_with_reindex', '_as_manager', '_attrs', '_box_col_values', '_can_fast_transpose', '_check_inplace_and_allows_duplicate_labels', '_check_is_chained_assignment_possible', '_check_label_or_level_ambiguity', '_check_setitem_copy', '_clear_item_cache', '_clip_with_one_bound', '_clip_with_scalar', '_cmp_method', '_combine_frame', '_consolidate', '_consolidate_inplace', '_construct_axes_dict', '_construct_result', '_constructor', '_constructor_from_mgr', '_constructor_sliced', '_constructor_sliced_from_mgr', '_create_data_for_split_and_tight_to_dict', '_data', '_deprecate_downcast', '_dir_additions', '_dir_deletions', '_dispatch_frame_op', '_drop_axis', '_drop_labels_or_levels', '_ensure_valid_index', '_find_valid_index', '_flags', '_flex_arith_method', '_flex_cmp_method', '_from_arrays', '_from_mgr', '_get_agg_axis', '_get_axis', '_get_axis_name', '_get_axis_number', '_get_axis_resolvers', '_get_block_manager_axis', '_get_bool_data', '_get_cleaned_column_resolvers', '_get_column_array', '_get_index_resolvers', '_get_item_cache', '_get_label_or_level_values', '_get_numeric_data', '_get_value', '_get_values_for_csv', '_getitem_bool_array', '_getitem_multilevel', '_getitem_nocopy', '_getitem_slice', '_gotitem', '_hidden_attrs', '_indexed_same', '_info_axis', '_info_axis_name', '_info_axis_number', '_info_repr', '_init_mgr', '_inplace_method', '_internal_names', '_internal_names_set', '_is_copy', '_is_homogeneous_type', '_is_label_or_level_reference', '_is_label_reference', '_is_level_reference', '_is_mixed_type', '_is_view', '_is_view_after_cow_rules', '_iset_item', '_iset_item_mgr', '_iset_not_inplace', '_item_cache', '_iter_column_arrays', '_ixs', '_logical_func', '_logical_method', '_maybe_align_series_as_frame', '_maybe_cache_changed', '_maybe_update_cacher', '_metadata', '_mgr', '_min_count_stat_function', '_needs_reindex_multi', '_pad_or_backfill', '_protect_consolidate', '_reduce', '_reduce_axis1', '_reindex_axes', '_reindex_multi', '_reindex_with_indexers', '_rename', '_replace_columnwise', '_repr_data_resource_', '_repr_fits_horizontal_', '_repr_fits_vertical_', '_repr_html_', '_repr_latex_', '_reset_cache', '_reset_cacher', '_sanitize_column', '_series', '_set_axis', '_set_axis_name', '_set_axis_nocheck', '_set_is_copy', '_set_item', '_set_item_frame_value', '_set_item_mgr', '_set_value', '_setitem_array', '_setitem_frame', '_setitem_slice', '_shift_with_freq', '_should_reindex_frame_op', '_slice', '_stat_function', '_stat_function_ddof', '_take_with_is_copy', '_to_dict_of_blocks', '_to_latex_via_styler', '_typ', '_update_inplace', '_validate_dtype', '_values', '_where', 'abs', 'add', 'add_prefix', 'add_suffix', 'agg', 'aggregate', 'align', 'all', 'any', 'apply', 'applymap', 'asfreq', 'asof', 'assign', 'astype', 'at', 'at_time', 'attrs', 'axes', 'backfill', 'between_time', 'bfill', 'bool', 'boxplot', 'clip', 'columns', 'combine', 'combine_first', 'compare', 'convert_dtypes', 'copy', 'corr', 'corrwith', 'count', 'cov', 'cummax', 'cummin', 'cumprod', 'cumsum', 'describe', 'diff', 'div', 'divide', 'dot', 'drop', 'drop_duplicates', 'droplevel', 'dropna', 'dtypes', 'duplicated', 'empty', 'eq', 'equals', 'eval', 'ewm', 'expanding', 'explode', 'ffill', 'fillna', 'filter', 'first', 'first_valid_index', 'flags', 'floordiv', 'from_dict', 'from_records', 'ge', 'get', 'groupby', 'gt', 'head', 'hist', 'iat', 'id', 'idxmax', 'idxmin', 'iloc', 'inc', 'index', 'infer_objects', 'info', 'insert', 'interpolate', 'isetitem', 'isin', 'isna', 'isnull', 'items', 'iterrows', 'itertuples', 'join', 'keys', 'kurt', 'kurtosis', 'last', 'last_valid_index', 'le', 'loc', 'lt', 'map', 'mask', 'max', 'mean', 'median', 'melt', 'memory_usage', 'merge', 'min', 'mod', 'mode', 'mul', 'multiply', 'name', 'ndim', 'ne', 'nlargest', 'notna', 'notnull', 'nsmallest', 'nunique', 'pad', 'pct_change', 'pipe', 'pivot', 'pivot_table', 'plot', 'pop', 'pow', 'prod', 'product', 'quantile', 'query', 'radd', 'rank', 'rdiv', 'reindex', 'reindex_like', 'rename', 'rename_axis', 'reorder_levels', 'replace', 'resample', 'reset_index', 'rfloordiv', 'rmod', 'rmul', 'rolling', 'round', 'rpow', 'rsub', 'rtruediv', 'sample', 'select_dtypes', 'sem', 'set_axis', 'set_flags', 'set_index', 'shape', 'shift', 'size', 'skew', 'sort_index', 'sort_values', 'squeeze', 'stack', 'std', 'style', 'sub', 'subtract', 'sum', 'swapaxes', 'swaplevel', 'tail', 'take', 'to_clipboard', 'to_csv', 'to_dict', 'to_excel', 'to_feather', 'to_gbq', 'to_hdf', 'to_html', 'to_json', 'to_latex', 'to_markdown', 'to_numpy', 'to_orc', 'to_parquet', 'to_period', 'to_pickle', 'to_records', 'to_sql', 'to_stata', 'to_string', 'to_timestamp', 'to_xarray', 'to_xml', 'transform', 'transpose', 'truediv', 'truncate', 'tz_convert', 'tz_localize', 'unstack', 'update', 'value_counts', 'values', 'var', 'where', 'xs', 'year', 'year_name']\n"
     ]
    }
   ],
   "source": [
    "print(dir(Y))"
   ]
  },
  {
   "cell_type": "markdown",
   "metadata": {},
   "source": [
    "For instance, we can calculate a percentage change on a series by calling `.pct_change()` on the DataFrame.\n",
    "What you will most likely also use is to shift you time series by some periods to create lags and leads. You can do this by calling `.shift(n)`, where `n` is the number of periods, you want to shift a series."
   ]
  },
  {
   "cell_type": "code",
   "execution_count": 31,
   "metadata": {},
   "outputs": [
    {
     "name": "stdout",
     "output_type": "stream",
     "text": [
      "Original Time Series:\n",
      "2022-01-01   -1.113994\n",
      "2022-01-02   -0.138221\n",
      "2022-01-03    0.369228\n",
      "2022-01-04   -1.650172\n",
      "2022-01-05    0.512972\n",
      "Freq: D, dtype: float64\n",
      "\n",
      "Percentage Change:\n",
      "2022-01-01         NaN\n",
      "2022-01-02   -0.875923\n",
      "2022-01-03   -3.671294\n",
      "2022-01-04   -5.469244\n",
      "2022-01-05   -1.310860\n",
      "Freq: D, dtype: float64\n",
      "\n",
      "Shifted Time Series:\n",
      "2022-01-01         NaN\n",
      "2022-01-02   -1.113994\n",
      "2022-01-03   -0.138221\n",
      "2022-01-04    0.369228\n",
      "2022-01-05   -1.650172\n",
      "Freq: D, dtype: float64\n"
     ]
    }
   ],
   "source": [
    "# Generate a time series data\n",
    "dates = pd.date_range(start='2022-01-01', periods=5)\n",
    "data = np.random.randn(5)\n",
    "ts = pd.Series(data, index=dates)\n",
    "\n",
    "print(\"Original Time Series:\")\n",
    "print(ts)\n",
    "\n",
    "# Apply pct_change function to calculate the percentage change\n",
    "ts_pct_change = ts.pct_change()\n",
    "print(\"\\nPercentage Change:\")\n",
    "print(ts_pct_change)\n",
    "\n",
    "# Apply shift function to shift the index\n",
    "ts_shifted = ts.shift(1)\n",
    "print(\"\\nShifted Time Series:\")\n",
    "print(ts_shifted)"
   ]
  },
  {
   "cell_type": "markdown",
   "metadata": {},
   "source": [
    "# <a id='toc2_'></a>[Data: Load, clean, and save](#toc0_)"
   ]
  },
  {
   "cell_type": "markdown",
   "metadata": {},
   "source": [
    "Here you will learn:\n",
    "1. how to **load and save data** both to and from offline sources (e.g. CSV or Excel). \n",
    "2. and how to clean, rename, structure and index your data."
   ]
  },
  {
   "cell_type": "code",
   "execution_count": 32,
   "metadata": {},
   "outputs": [],
   "source": [
    "import pandas as pd"
   ]
  },
  {
   "cell_type": "markdown",
   "metadata": {},
   "source": [
    "**Check:** We make sure that we have the **data/** subfolder, and that it has the datasets we need."
   ]
  },
  {
   "cell_type": "code",
   "execution_count": 34,
   "metadata": {},
   "outputs": [
    {
     "data": {
      "text/plain": [
       "['ramey_data_modified.xlsx']"
      ]
     },
     "execution_count": 34,
     "metadata": {},
     "output_type": "execute_result"
    }
   ],
   "source": [
    "import os \n",
    "\n",
    "# Using assert to check that paths exist on computer.\n",
    "assert os.path.isdir('data/')\n",
    "assert os.path.isfile('data/ramey_data_modified.xlsx')\n",
    "\n",
    "# Print everything in data\n",
    "os.listdir('data/')"
   ]
  },
  {
   "cell_type": "markdown",
   "metadata": {},
   "source": [
    "## <a id='toc2_1_'></a>[Reading in data](#toc0_)"
   ]
  },
  {
   "cell_type": "markdown",
   "metadata": {},
   "source": [
    "Pandas offers a lot of facilities for **reading and writing to different formats**. Some examples of functions that let you do that are:\n",
    "\n",
    "* CSV: `pd.read_csv()`\n",
    "* Excel: `pd.read_excel()`\n",
    "* Stata: `pd.read_stata()`"
   ]
  },
  {
   "cell_type": "markdown",
   "metadata": {},
   "source": [
    "**Inspecting:** \n",
    "\n",
    "* `df.head(10)` is used to inspect the first 10 rows\n",
    "* `df.sample(10)` is used to look at 10 random rows"
   ]
  },
  {
   "cell_type": "code",
   "execution_count": 35,
   "metadata": {},
   "outputs": [
    {
     "data": {
      "text/html": [
       "<div>\n",
       "<style scoped>\n",
       "    .dataframe tbody tr th:only-of-type {\n",
       "        vertical-align: middle;\n",
       "    }\n",
       "\n",
       "    .dataframe tbody tr th {\n",
       "        vertical-align: top;\n",
       "    }\n",
       "\n",
       "    .dataframe thead th {\n",
       "        text-align: right;\n",
       "    }\n",
       "</style>\n",
       "<table border=\"1\" class=\"dataframe\">\n",
       "  <thead>\n",
       "    <tr style=\"text-align: right;\">\n",
       "      <th></th>\n",
       "      <th>Unnamed: 0</th>\n",
       "      <th>Unnamed: 1</th>\n",
       "      <th>Unnamed: 2</th>\n",
       "      <th>Unnamed: 3</th>\n",
       "      <th>Unnamed: 4</th>\n",
       "      <th>Unnamed: 5</th>\n",
       "      <th>Unnamed: 6</th>\n",
       "      <th>Unnamed: 7</th>\n",
       "      <th>Unnamed: 8</th>\n",
       "      <th>Unnamed: 9</th>\n",
       "      <th>Unnamed: 10</th>\n",
       "      <th>Unnamed: 11</th>\n",
       "      <th>Unnamed: 12</th>\n",
       "      <th>Unnamed: 13</th>\n",
       "    </tr>\n",
       "  </thead>\n",
       "  <tbody>\n",
       "    <tr>\n",
       "      <th>0</th>\n",
       "      <td>NaN</td>\n",
       "      <td>NaN</td>\n",
       "      <td>NaN</td>\n",
       "      <td>NaN</td>\n",
       "      <td>NaN</td>\n",
       "      <td>NaN</td>\n",
       "      <td>NaN</td>\n",
       "      <td>NaN</td>\n",
       "      <td>NaN</td>\n",
       "      <td>NaN</td>\n",
       "      <td>NaN</td>\n",
       "      <td>NaN</td>\n",
       "      <td>NaN</td>\n",
       "      <td>NaN</td>\n",
       "    </tr>\n",
       "    <tr>\n",
       "      <th>1</th>\n",
       "      <td>DATES</td>\n",
       "      <td>NaN</td>\n",
       "      <td>NaN</td>\n",
       "      <td>NaN</td>\n",
       "      <td>NaN</td>\n",
       "      <td>UNEMP</td>\n",
       "      <td>LCPI</td>\n",
       "      <td>FFR</td>\n",
       "      <td>LPCOM</td>\n",
       "      <td>LRCDUR</td>\n",
       "      <td>LRCND</td>\n",
       "      <td>LRCSV</td>\n",
       "      <td>RRSHOCK</td>\n",
       "      <td>CUMRRSHOCK</td>\n",
       "    </tr>\n",
       "    <tr>\n",
       "      <th>2</th>\n",
       "      <td>1969-01-01 00:00:00</td>\n",
       "      <td>NaN</td>\n",
       "      <td>NaN</td>\n",
       "      <td>NaN</td>\n",
       "      <td>3.676827</td>\n",
       "      <td>3.4</td>\n",
       "      <td>3.575151</td>\n",
       "      <td>6.3</td>\n",
       "      <td>4.633563</td>\n",
       "      <td>2.718265</td>\n",
       "      <td>3.699028</td>\n",
       "      <td>3.312912</td>\n",
       "      <td>0</td>\n",
       "      <td>0</td>\n",
       "    </tr>\n",
       "    <tr>\n",
       "      <th>3</th>\n",
       "      <td>1969-02-01 00:00:00</td>\n",
       "      <td>NaN</td>\n",
       "      <td>NaN</td>\n",
       "      <td>NaN</td>\n",
       "      <td>3.683206</td>\n",
       "      <td>3.4</td>\n",
       "      <td>3.577948</td>\n",
       "      <td>6.61</td>\n",
       "      <td>4.655388</td>\n",
       "      <td>2.721427</td>\n",
       "      <td>3.707922</td>\n",
       "      <td>3.318468</td>\n",
       "      <td>0</td>\n",
       "      <td>0</td>\n",
       "    </tr>\n",
       "    <tr>\n",
       "      <th>4</th>\n",
       "      <td>1969-03-01 00:00:00</td>\n",
       "      <td>NaN</td>\n",
       "      <td>NaN</td>\n",
       "      <td>NaN</td>\n",
       "      <td>3.691017</td>\n",
       "      <td>3.4</td>\n",
       "      <td>3.586293</td>\n",
       "      <td>6.79</td>\n",
       "      <td>4.665607</td>\n",
       "      <td>2.698471</td>\n",
       "      <td>3.706793</td>\n",
       "      <td>3.317526</td>\n",
       "      <td>-0.231698</td>\n",
       "      <td>-0.231698</td>\n",
       "    </tr>\n",
       "  </tbody>\n",
       "</table>\n",
       "</div>"
      ],
      "text/plain": [
       "            Unnamed: 0  Unnamed: 1  Unnamed: 2  Unnamed: 3  Unnamed: 4  \\\n",
       "0                  NaN         NaN         NaN         NaN         NaN   \n",
       "1                DATES         NaN         NaN         NaN         NaN   \n",
       "2  1969-01-01 00:00:00         NaN         NaN         NaN    3.676827   \n",
       "3  1969-02-01 00:00:00         NaN         NaN         NaN    3.683206   \n",
       "4  1969-03-01 00:00:00         NaN         NaN         NaN    3.691017   \n",
       "\n",
       "  Unnamed: 5 Unnamed: 6 Unnamed: 7 Unnamed: 8 Unnamed: 9 Unnamed: 10  \\\n",
       "0        NaN        NaN        NaN        NaN        NaN         NaN   \n",
       "1      UNEMP       LCPI        FFR      LPCOM     LRCDUR       LRCND   \n",
       "2        3.4   3.575151        6.3   4.633563   2.718265    3.699028   \n",
       "3        3.4   3.577948       6.61   4.655388   2.721427    3.707922   \n",
       "4        3.4   3.586293       6.79   4.665607   2.698471    3.706793   \n",
       "\n",
       "  Unnamed: 11 Unnamed: 12 Unnamed: 13  \n",
       "0         NaN         NaN         NaN  \n",
       "1       LRCSV     RRSHOCK  CUMRRSHOCK  \n",
       "2    3.312912           0           0  \n",
       "3    3.318468           0           0  \n",
       "4    3.317526   -0.231698   -0.231698  "
      ]
     },
     "execution_count": 35,
     "metadata": {},
     "output_type": "execute_result"
    }
   ],
   "source": [
    "filename = 'data/ramey_data_modified.xlsx' # open the file and have a look at it\n",
    "pd.read_excel(filename).head(5)"
   ]
  },
  {
   "cell_type": "markdown",
   "metadata": {},
   "source": [
    "We need to clean this **mess** up."
   ]
  },
  {
   "cell_type": "markdown",
   "metadata": {},
   "source": [
    "## <a id='toc2_2_'></a>[Getting the right columns and rows](#toc0_)"
   ]
  },
  {
   "cell_type": "markdown",
   "metadata": {},
   "source": [
    "**Skipping rows:** Clearly, we should **skip** the first row and the second, third and fourth columns."
   ]
  },
  {
   "cell_type": "code",
   "execution_count": 36,
   "metadata": {},
   "outputs": [
    {
     "data": {
      "text/html": [
       "<div>\n",
       "<style scoped>\n",
       "    .dataframe tbody tr th:only-of-type {\n",
       "        vertical-align: middle;\n",
       "    }\n",
       "\n",
       "    .dataframe tbody tr th {\n",
       "        vertical-align: top;\n",
       "    }\n",
       "\n",
       "    .dataframe thead th {\n",
       "        text-align: right;\n",
       "    }\n",
       "</style>\n",
       "<table border=\"1\" class=\"dataframe\">\n",
       "  <thead>\n",
       "    <tr style=\"text-align: right;\">\n",
       "      <th></th>\n",
       "      <th>DATES</th>\n",
       "      <th>Unnamed: 1</th>\n",
       "      <th>Unnamed: 2</th>\n",
       "      <th>Unnamed: 3</th>\n",
       "      <th>Unnamed: 4</th>\n",
       "      <th>UNEMP</th>\n",
       "      <th>LCPI</th>\n",
       "      <th>FFR</th>\n",
       "      <th>LPCOM</th>\n",
       "      <th>LRCDUR</th>\n",
       "      <th>LRCND</th>\n",
       "      <th>LRCSV</th>\n",
       "      <th>RRSHOCK</th>\n",
       "      <th>CUMRRSHOCK</th>\n",
       "    </tr>\n",
       "  </thead>\n",
       "  <tbody>\n",
       "    <tr>\n",
       "      <th>0</th>\n",
       "      <td>1969-01-01</td>\n",
       "      <td>NaN</td>\n",
       "      <td>NaN</td>\n",
       "      <td>NaN</td>\n",
       "      <td>3.676827</td>\n",
       "      <td>3.4</td>\n",
       "      <td>3.575151</td>\n",
       "      <td>6.30</td>\n",
       "      <td>4.633563</td>\n",
       "      <td>2.718265</td>\n",
       "      <td>3.699028</td>\n",
       "      <td>3.312912</td>\n",
       "      <td>0.000000</td>\n",
       "      <td>0.000000</td>\n",
       "    </tr>\n",
       "    <tr>\n",
       "      <th>1</th>\n",
       "      <td>1969-02-01</td>\n",
       "      <td>NaN</td>\n",
       "      <td>NaN</td>\n",
       "      <td>NaN</td>\n",
       "      <td>3.683206</td>\n",
       "      <td>3.4</td>\n",
       "      <td>3.577948</td>\n",
       "      <td>6.61</td>\n",
       "      <td>4.655388</td>\n",
       "      <td>2.721427</td>\n",
       "      <td>3.707922</td>\n",
       "      <td>3.318468</td>\n",
       "      <td>0.000000</td>\n",
       "      <td>0.000000</td>\n",
       "    </tr>\n",
       "    <tr>\n",
       "      <th>2</th>\n",
       "      <td>1969-03-01</td>\n",
       "      <td>NaN</td>\n",
       "      <td>NaN</td>\n",
       "      <td>NaN</td>\n",
       "      <td>3.691017</td>\n",
       "      <td>3.4</td>\n",
       "      <td>3.586293</td>\n",
       "      <td>6.79</td>\n",
       "      <td>4.665607</td>\n",
       "      <td>2.698471</td>\n",
       "      <td>3.706793</td>\n",
       "      <td>3.317526</td>\n",
       "      <td>-0.231698</td>\n",
       "      <td>-0.231698</td>\n",
       "    </tr>\n",
       "    <tr>\n",
       "      <th>3</th>\n",
       "      <td>1969-04-01</td>\n",
       "      <td>NaN</td>\n",
       "      <td>NaN</td>\n",
       "      <td>NaN</td>\n",
       "      <td>3.687328</td>\n",
       "      <td>3.4</td>\n",
       "      <td>3.591818</td>\n",
       "      <td>7.41</td>\n",
       "      <td>4.680092</td>\n",
       "      <td>2.710713</td>\n",
       "      <td>3.705245</td>\n",
       "      <td>3.323020</td>\n",
       "      <td>0.456873</td>\n",
       "      <td>0.225175</td>\n",
       "    </tr>\n",
       "    <tr>\n",
       "      <th>4</th>\n",
       "      <td>1969-05-01</td>\n",
       "      <td>NaN</td>\n",
       "      <td>NaN</td>\n",
       "      <td>NaN</td>\n",
       "      <td>3.683543</td>\n",
       "      <td>3.4</td>\n",
       "      <td>3.594569</td>\n",
       "      <td>8.67</td>\n",
       "      <td>4.698661</td>\n",
       "      <td>2.710913</td>\n",
       "      <td>3.714304</td>\n",
       "      <td>3.329916</td>\n",
       "      <td>0.210627</td>\n",
       "      <td>0.435802</td>\n",
       "    </tr>\n",
       "  </tbody>\n",
       "</table>\n",
       "</div>"
      ],
      "text/plain": [
       "       DATES  Unnamed: 1  Unnamed: 2  Unnamed: 3  Unnamed: 4  UNEMP      LCPI  \\\n",
       "0 1969-01-01         NaN         NaN         NaN    3.676827    3.4  3.575151   \n",
       "1 1969-02-01         NaN         NaN         NaN    3.683206    3.4  3.577948   \n",
       "2 1969-03-01         NaN         NaN         NaN    3.691017    3.4  3.586293   \n",
       "3 1969-04-01         NaN         NaN         NaN    3.687328    3.4  3.591818   \n",
       "4 1969-05-01         NaN         NaN         NaN    3.683543    3.4  3.594569   \n",
       "\n",
       "    FFR     LPCOM    LRCDUR     LRCND     LRCSV   RRSHOCK  CUMRRSHOCK  \n",
       "0  6.30  4.633563  2.718265  3.699028  3.312912  0.000000    0.000000  \n",
       "1  6.61  4.655388  2.721427  3.707922  3.318468  0.000000    0.000000  \n",
       "2  6.79  4.665607  2.698471  3.706793  3.317526 -0.231698   -0.231698  \n",
       "3  7.41  4.680092  2.710713  3.705245  3.323020  0.456873    0.225175  \n",
       "4  8.67  4.698661  2.710913  3.714304  3.329916  0.210627    0.435802  "
      ]
     },
     "execution_count": 36,
     "metadata": {},
     "output_type": "execute_result"
    }
   ],
   "source": [
    "mp_data = pd.read_excel(filename, skiprows=2)\n",
    "mp_data.head(5)"
   ]
  },
  {
   "cell_type": "markdown",
   "metadata": {},
   "source": [
    "**Dropping columns:** The first three columns after \"DATES\" are not needed and contain only missing values (denoted by `NaN` (not-a-number)), so we will drop those. \n",
    "\n",
    "**Note:** `df.drop()` is a function that the data frame object applies to itself. Hence, no return value is used.  "
   ]
  },
  {
   "cell_type": "code",
   "execution_count": 37,
   "metadata": {},
   "outputs": [
    {
     "name": "stdout",
     "output_type": "stream",
     "text": [
      "['Unnamed: 1', 'Unnamed: 2', 'Unnamed: 3']\n"
     ]
    },
    {
     "data": {
      "text/html": [
       "<div>\n",
       "<style scoped>\n",
       "    .dataframe tbody tr th:only-of-type {\n",
       "        vertical-align: middle;\n",
       "    }\n",
       "\n",
       "    .dataframe tbody tr th {\n",
       "        vertical-align: top;\n",
       "    }\n",
       "\n",
       "    .dataframe thead th {\n",
       "        text-align: right;\n",
       "    }\n",
       "</style>\n",
       "<table border=\"1\" class=\"dataframe\">\n",
       "  <thead>\n",
       "    <tr style=\"text-align: right;\">\n",
       "      <th></th>\n",
       "      <th>DATES</th>\n",
       "      <th>Unnamed: 4</th>\n",
       "      <th>UNEMP</th>\n",
       "      <th>LCPI</th>\n",
       "      <th>FFR</th>\n",
       "      <th>LPCOM</th>\n",
       "      <th>LRCDUR</th>\n",
       "      <th>LRCND</th>\n",
       "      <th>LRCSV</th>\n",
       "      <th>RRSHOCK</th>\n",
       "      <th>CUMRRSHOCK</th>\n",
       "    </tr>\n",
       "  </thead>\n",
       "  <tbody>\n",
       "    <tr>\n",
       "      <th>0</th>\n",
       "      <td>1969-01-01</td>\n",
       "      <td>3.676827</td>\n",
       "      <td>3.4</td>\n",
       "      <td>3.575151</td>\n",
       "      <td>6.30</td>\n",
       "      <td>4.633563</td>\n",
       "      <td>2.718265</td>\n",
       "      <td>3.699028</td>\n",
       "      <td>3.312912</td>\n",
       "      <td>0.000000</td>\n",
       "      <td>0.000000</td>\n",
       "    </tr>\n",
       "    <tr>\n",
       "      <th>1</th>\n",
       "      <td>1969-02-01</td>\n",
       "      <td>3.683206</td>\n",
       "      <td>3.4</td>\n",
       "      <td>3.577948</td>\n",
       "      <td>6.61</td>\n",
       "      <td>4.655388</td>\n",
       "      <td>2.721427</td>\n",
       "      <td>3.707922</td>\n",
       "      <td>3.318468</td>\n",
       "      <td>0.000000</td>\n",
       "      <td>0.000000</td>\n",
       "    </tr>\n",
       "    <tr>\n",
       "      <th>2</th>\n",
       "      <td>1969-03-01</td>\n",
       "      <td>3.691017</td>\n",
       "      <td>3.4</td>\n",
       "      <td>3.586293</td>\n",
       "      <td>6.79</td>\n",
       "      <td>4.665607</td>\n",
       "      <td>2.698471</td>\n",
       "      <td>3.706793</td>\n",
       "      <td>3.317526</td>\n",
       "      <td>-0.231698</td>\n",
       "      <td>-0.231698</td>\n",
       "    </tr>\n",
       "    <tr>\n",
       "      <th>3</th>\n",
       "      <td>1969-04-01</td>\n",
       "      <td>3.687328</td>\n",
       "      <td>3.4</td>\n",
       "      <td>3.591818</td>\n",
       "      <td>7.41</td>\n",
       "      <td>4.680092</td>\n",
       "      <td>2.710713</td>\n",
       "      <td>3.705245</td>\n",
       "      <td>3.323020</td>\n",
       "      <td>0.456873</td>\n",
       "      <td>0.225175</td>\n",
       "    </tr>\n",
       "    <tr>\n",
       "      <th>4</th>\n",
       "      <td>1969-05-01</td>\n",
       "      <td>3.683543</td>\n",
       "      <td>3.4</td>\n",
       "      <td>3.594569</td>\n",
       "      <td>8.67</td>\n",
       "      <td>4.698661</td>\n",
       "      <td>2.710913</td>\n",
       "      <td>3.714304</td>\n",
       "      <td>3.329916</td>\n",
       "      <td>0.210627</td>\n",
       "      <td>0.435802</td>\n",
       "    </tr>\n",
       "  </tbody>\n",
       "</table>\n",
       "</div>"
      ],
      "text/plain": [
       "       DATES  Unnamed: 4  UNEMP      LCPI   FFR     LPCOM    LRCDUR     LRCND  \\\n",
       "0 1969-01-01    3.676827    3.4  3.575151  6.30  4.633563  2.718265  3.699028   \n",
       "1 1969-02-01    3.683206    3.4  3.577948  6.61  4.655388  2.721427  3.707922   \n",
       "2 1969-03-01    3.691017    3.4  3.586293  6.79  4.665607  2.698471  3.706793   \n",
       "3 1969-04-01    3.687328    3.4  3.591818  7.41  4.680092  2.710713  3.705245   \n",
       "4 1969-05-01    3.683543    3.4  3.594569  8.67  4.698661  2.710913  3.714304   \n",
       "\n",
       "      LRCSV   RRSHOCK  CUMRRSHOCK  \n",
       "0  3.312912  0.000000    0.000000  \n",
       "1  3.318468  0.000000    0.000000  \n",
       "2  3.317526 -0.231698   -0.231698  \n",
       "3  3.323020  0.456873    0.225175  \n",
       "4  3.329916  0.210627    0.435802  "
      ]
     },
     "execution_count": 37,
     "metadata": {},
     "output_type": "execute_result"
    }
   ],
   "source": [
    "# These columns have to go: 'Unnamed: 0' 'Unnamed: 1' 'Unnamed: 2' 'Unnamed: 3'\n",
    "drop_these = ['Unnamed: ' + str(num) for num in range(1,4)] # use list comprehension to create list of columns\n",
    "print(drop_these)\n",
    "\n",
    "mp_data.drop(drop_these, axis=1, inplace=True) # axis = 1 -> columns, inplace=True -> changed, no copy made\n",
    "mp_data.head(5)"
   ]
  },
  {
   "cell_type": "markdown",
   "metadata": {},
   "source": [
    "> **Alternative:** Use `del empl['Unnamed: 0'], empl['Unnamed: 1']..`.  \n",
    "\n",
    "**But!** that borders on code repetition.. Would give you 4 places to make code changes rather than 2 as with the list comprehension above, in case data changed. "
   ]
  },
  {
   "cell_type": "markdown",
   "metadata": {},
   "source": [
    "## <a id='toc2_3_'></a>[Renaming variables](#toc0_)"
   ]
  },
  {
   "cell_type": "markdown",
   "metadata": {},
   "source": [
    "We are not happy with the column comprising the log of industrial production, which is currently called `Unnamed: 4`.   \n",
    "\n",
    "We rename using `df.rename(columns=dict)`, where dict must be a Python *dictionary*. Why a dictionary? It is simply the most practical solution if you are renaming several columns at once. "
   ]
  },
  {
   "cell_type": "code",
   "execution_count": 38,
   "metadata": {},
   "outputs": [
    {
     "data": {
      "text/html": [
       "<div>\n",
       "<style scoped>\n",
       "    .dataframe tbody tr th:only-of-type {\n",
       "        vertical-align: middle;\n",
       "    }\n",
       "\n",
       "    .dataframe tbody tr th {\n",
       "        vertical-align: top;\n",
       "    }\n",
       "\n",
       "    .dataframe thead th {\n",
       "        text-align: right;\n",
       "    }\n",
       "</style>\n",
       "<table border=\"1\" class=\"dataframe\">\n",
       "  <thead>\n",
       "    <tr style=\"text-align: right;\">\n",
       "      <th></th>\n",
       "      <th>DATES</th>\n",
       "      <th>LIP</th>\n",
       "      <th>UNEMP</th>\n",
       "      <th>LCPI</th>\n",
       "      <th>FFR</th>\n",
       "      <th>LPCOM</th>\n",
       "      <th>LRCDUR</th>\n",
       "      <th>LRCND</th>\n",
       "      <th>LRCSV</th>\n",
       "      <th>RRSHOCK</th>\n",
       "      <th>CUMRRSHOCK</th>\n",
       "    </tr>\n",
       "  </thead>\n",
       "  <tbody>\n",
       "    <tr>\n",
       "      <th>0</th>\n",
       "      <td>1969-01-01</td>\n",
       "      <td>3.676827</td>\n",
       "      <td>3.4</td>\n",
       "      <td>3.575151</td>\n",
       "      <td>6.30</td>\n",
       "      <td>4.633563</td>\n",
       "      <td>2.718265</td>\n",
       "      <td>3.699028</td>\n",
       "      <td>3.312912</td>\n",
       "      <td>0.000000</td>\n",
       "      <td>0.000000</td>\n",
       "    </tr>\n",
       "    <tr>\n",
       "      <th>1</th>\n",
       "      <td>1969-02-01</td>\n",
       "      <td>3.683206</td>\n",
       "      <td>3.4</td>\n",
       "      <td>3.577948</td>\n",
       "      <td>6.61</td>\n",
       "      <td>4.655388</td>\n",
       "      <td>2.721427</td>\n",
       "      <td>3.707922</td>\n",
       "      <td>3.318468</td>\n",
       "      <td>0.000000</td>\n",
       "      <td>0.000000</td>\n",
       "    </tr>\n",
       "    <tr>\n",
       "      <th>2</th>\n",
       "      <td>1969-03-01</td>\n",
       "      <td>3.691017</td>\n",
       "      <td>3.4</td>\n",
       "      <td>3.586293</td>\n",
       "      <td>6.79</td>\n",
       "      <td>4.665607</td>\n",
       "      <td>2.698471</td>\n",
       "      <td>3.706793</td>\n",
       "      <td>3.317526</td>\n",
       "      <td>-0.231698</td>\n",
       "      <td>-0.231698</td>\n",
       "    </tr>\n",
       "    <tr>\n",
       "      <th>3</th>\n",
       "      <td>1969-04-01</td>\n",
       "      <td>3.687328</td>\n",
       "      <td>3.4</td>\n",
       "      <td>3.591818</td>\n",
       "      <td>7.41</td>\n",
       "      <td>4.680092</td>\n",
       "      <td>2.710713</td>\n",
       "      <td>3.705245</td>\n",
       "      <td>3.323020</td>\n",
       "      <td>0.456873</td>\n",
       "      <td>0.225175</td>\n",
       "    </tr>\n",
       "    <tr>\n",
       "      <th>4</th>\n",
       "      <td>1969-05-01</td>\n",
       "      <td>3.683543</td>\n",
       "      <td>3.4</td>\n",
       "      <td>3.594569</td>\n",
       "      <td>8.67</td>\n",
       "      <td>4.698661</td>\n",
       "      <td>2.710913</td>\n",
       "      <td>3.714304</td>\n",
       "      <td>3.329916</td>\n",
       "      <td>0.210627</td>\n",
       "      <td>0.435802</td>\n",
       "    </tr>\n",
       "  </tbody>\n",
       "</table>\n",
       "</div>"
      ],
      "text/plain": [
       "       DATES       LIP  UNEMP      LCPI   FFR     LPCOM    LRCDUR     LRCND  \\\n",
       "0 1969-01-01  3.676827    3.4  3.575151  6.30  4.633563  2.718265  3.699028   \n",
       "1 1969-02-01  3.683206    3.4  3.577948  6.61  4.655388  2.721427  3.707922   \n",
       "2 1969-03-01  3.691017    3.4  3.586293  6.79  4.665607  2.698471  3.706793   \n",
       "3 1969-04-01  3.687328    3.4  3.591818  7.41  4.680092  2.710713  3.705245   \n",
       "4 1969-05-01  3.683543    3.4  3.594569  8.67  4.698661  2.710913  3.714304   \n",
       "\n",
       "      LRCSV   RRSHOCK  CUMRRSHOCK  \n",
       "0  3.312912  0.000000    0.000000  \n",
       "1  3.318468  0.000000    0.000000  \n",
       "2  3.317526 -0.231698   -0.231698  \n",
       "3  3.323020  0.456873    0.225175  \n",
       "4  3.329916  0.210627    0.435802  "
      ]
     },
     "execution_count": 38,
     "metadata": {},
     "output_type": "execute_result"
    }
   ],
   "source": [
    "mp_data.rename(columns = {'Unnamed: 4':'LIP'}, inplace=True)\n",
    "mp_data.head(5)"
   ]
  },
  {
   "cell_type": "markdown",
   "metadata": {},
   "source": [
    "**A big NO-NO!!** is to put *white spaces* in column names. You can theoretically have a column such as empl['e 2017'] in a pandas df, but this is *very likely* to get messy. And you can no longer use `.`notation. "
   ]
  },
  {
   "cell_type": "markdown",
   "metadata": {},
   "source": [
    "**Extract:** Now we can find the unemployment rate in December of 1970: "
   ]
  },
  {
   "cell_type": "code",
   "execution_count": 39,
   "metadata": {},
   "outputs": [
    {
     "data": {
      "text/plain": [
       "190    7.2\n",
       "Name: UNEMP, dtype: float64"
      ]
     },
     "execution_count": 39,
     "metadata": {},
     "output_type": "execute_result"
    }
   ],
   "source": [
    "mp_data.UNEMP.loc[mp_data.DATES ==  pd.to_datetime('1984-11-1')]"
   ]
  },
  {
   "cell_type": "markdown",
   "metadata": {},
   "source": [
    "## <a id='toc2_4_'></a>[Summary statistics](#toc0_)\n",
    "\n",
    "To get an overview of employments across municipalities we can use the function `df.describe()`."
   ]
  },
  {
   "cell_type": "code",
   "execution_count": 40,
   "metadata": {},
   "outputs": [
    {
     "data": {
      "text/html": [
       "<div>\n",
       "<style scoped>\n",
       "    .dataframe tbody tr th:only-of-type {\n",
       "        vertical-align: middle;\n",
       "    }\n",
       "\n",
       "    .dataframe tbody tr th {\n",
       "        vertical-align: top;\n",
       "    }\n",
       "\n",
       "    .dataframe thead th {\n",
       "        text-align: right;\n",
       "    }\n",
       "</style>\n",
       "<table border=\"1\" class=\"dataframe\">\n",
       "  <thead>\n",
       "    <tr style=\"text-align: right;\">\n",
       "      <th></th>\n",
       "      <th>DATES</th>\n",
       "      <th>LIP</th>\n",
       "      <th>UNEMP</th>\n",
       "      <th>LCPI</th>\n",
       "      <th>FFR</th>\n",
       "      <th>LPCOM</th>\n",
       "      <th>LRCDUR</th>\n",
       "      <th>LRCND</th>\n",
       "      <th>LRCSV</th>\n",
       "      <th>RRSHOCK</th>\n",
       "      <th>CUMRRSHOCK</th>\n",
       "    </tr>\n",
       "  </thead>\n",
       "  <tbody>\n",
       "    <tr>\n",
       "      <th>count</th>\n",
       "      <td>468</td>\n",
       "      <td>468.000000</td>\n",
       "      <td>468.000000</td>\n",
       "      <td>468.000000</td>\n",
       "      <td>468.000000</td>\n",
       "      <td>468.000000</td>\n",
       "      <td>468.000000</td>\n",
       "      <td>468.000000</td>\n",
       "      <td>468.000000</td>\n",
       "      <td>4.680000e+02</td>\n",
       "      <td>468.000000</td>\n",
       "    </tr>\n",
       "    <tr>\n",
       "      <th>mean</th>\n",
       "      <td>1988-06-16 01:50:46.153846144</td>\n",
       "      <td>4.148517</td>\n",
       "      <td>6.060256</td>\n",
       "      <td>4.650666</td>\n",
       "      <td>6.610385</td>\n",
       "      <td>5.452904</td>\n",
       "      <td>3.612288</td>\n",
       "      <td>4.137169</td>\n",
       "      <td>4.004456</td>\n",
       "      <td>4.273504e-10</td>\n",
       "      <td>-2.539778</td>\n",
       "    </tr>\n",
       "    <tr>\n",
       "      <th>min</th>\n",
       "      <td>1969-01-01 00:00:00</td>\n",
       "      <td>3.628575</td>\n",
       "      <td>3.400000</td>\n",
       "      <td>3.575151</td>\n",
       "      <td>0.980000</td>\n",
       "      <td>4.633563</td>\n",
       "      <td>2.608451</td>\n",
       "      <td>3.699028</td>\n",
       "      <td>3.312912</td>\n",
       "      <td>-3.250249e+00</td>\n",
       "      <td>-8.613419</td>\n",
       "    </tr>\n",
       "    <tr>\n",
       "      <th>25%</th>\n",
       "      <td>1978-09-23 12:00:00</td>\n",
       "      <td>3.912534</td>\n",
       "      <td>5.100000</td>\n",
       "      <td>4.203939</td>\n",
       "      <td>4.755000</td>\n",
       "      <td>5.397031</td>\n",
       "      <td>3.102252</td>\n",
       "      <td>3.913666</td>\n",
       "      <td>3.701481</td>\n",
       "      <td>-9.281740e-02</td>\n",
       "      <td>-4.465086</td>\n",
       "    </tr>\n",
       "    <tr>\n",
       "      <th>50%</th>\n",
       "      <td>1988-06-16 00:00:00</td>\n",
       "      <td>4.141902</td>\n",
       "      <td>5.800000</td>\n",
       "      <td>4.772799</td>\n",
       "      <td>5.835000</td>\n",
       "      <td>5.512723</td>\n",
       "      <td>3.608415</td>\n",
       "      <td>4.133411</td>\n",
       "      <td>4.035094</td>\n",
       "      <td>0.000000e+00</td>\n",
       "      <td>-2.712219</td>\n",
       "    </tr>\n",
       "    <tr>\n",
       "      <th>75%</th>\n",
       "      <td>1998-03-08 18:00:00</td>\n",
       "      <td>4.470279</td>\n",
       "      <td>7.100000</td>\n",
       "      <td>5.087905</td>\n",
       "      <td>8.460000</td>\n",
       "      <td>5.631239</td>\n",
       "      <td>4.048087</td>\n",
       "      <td>4.358697</td>\n",
       "      <td>4.335145</td>\n",
       "      <td>6.834065e-02</td>\n",
       "      <td>-0.073113</td>\n",
       "    </tr>\n",
       "    <tr>\n",
       "      <th>max</th>\n",
       "      <td>2007-12-01 00:00:00</td>\n",
       "      <td>4.655465</td>\n",
       "      <td>10.800000</td>\n",
       "      <td>5.353965</td>\n",
       "      <td>19.100000</td>\n",
       "      <td>6.026132</td>\n",
       "      <td>4.734812</td>\n",
       "      <td>4.640788</td>\n",
       "      <td>4.611510</td>\n",
       "      <td>1.875421e+00</td>\n",
       "      <td>1.061123</td>\n",
       "    </tr>\n",
       "    <tr>\n",
       "      <th>std</th>\n",
       "      <td>NaN</td>\n",
       "      <td>0.301406</td>\n",
       "      <td>1.438519</td>\n",
       "      <td>0.527932</td>\n",
       "      <td>3.383201</td>\n",
       "      <td>0.290041</td>\n",
       "      <td>0.597815</td>\n",
       "      <td>0.274538</td>\n",
       "      <td>0.380311</td>\n",
       "      <td>2.963192e-01</td>\n",
       "      <td>2.421871</td>\n",
       "    </tr>\n",
       "  </tbody>\n",
       "</table>\n",
       "</div>"
      ],
      "text/plain": [
       "                               DATES         LIP       UNEMP        LCPI  \\\n",
       "count                            468  468.000000  468.000000  468.000000   \n",
       "mean   1988-06-16 01:50:46.153846144    4.148517    6.060256    4.650666   \n",
       "min              1969-01-01 00:00:00    3.628575    3.400000    3.575151   \n",
       "25%              1978-09-23 12:00:00    3.912534    5.100000    4.203939   \n",
       "50%              1988-06-16 00:00:00    4.141902    5.800000    4.772799   \n",
       "75%              1998-03-08 18:00:00    4.470279    7.100000    5.087905   \n",
       "max              2007-12-01 00:00:00    4.655465   10.800000    5.353965   \n",
       "std                              NaN    0.301406    1.438519    0.527932   \n",
       "\n",
       "              FFR       LPCOM      LRCDUR       LRCND       LRCSV  \\\n",
       "count  468.000000  468.000000  468.000000  468.000000  468.000000   \n",
       "mean     6.610385    5.452904    3.612288    4.137169    4.004456   \n",
       "min      0.980000    4.633563    2.608451    3.699028    3.312912   \n",
       "25%      4.755000    5.397031    3.102252    3.913666    3.701481   \n",
       "50%      5.835000    5.512723    3.608415    4.133411    4.035094   \n",
       "75%      8.460000    5.631239    4.048087    4.358697    4.335145   \n",
       "max     19.100000    6.026132    4.734812    4.640788    4.611510   \n",
       "std      3.383201    0.290041    0.597815    0.274538    0.380311   \n",
       "\n",
       "            RRSHOCK  CUMRRSHOCK  \n",
       "count  4.680000e+02  468.000000  \n",
       "mean   4.273504e-10   -2.539778  \n",
       "min   -3.250249e+00   -8.613419  \n",
       "25%   -9.281740e-02   -4.465086  \n",
       "50%    0.000000e+00   -2.712219  \n",
       "75%    6.834065e-02   -0.073113  \n",
       "max    1.875421e+00    1.061123  \n",
       "std    2.963192e-01    2.421871  "
      ]
     },
     "execution_count": 40,
     "metadata": {},
     "output_type": "execute_result"
    }
   ],
   "source": [
    "mp_data.describe()"
   ]
  },
  {
   "cell_type": "markdown",
   "metadata": {},
   "source": [
    "**Single descriptive statistic:** We can also just get the mean for each year (on rows indicated by axis=0):"
   ]
  },
  {
   "cell_type": "code",
   "execution_count": 41,
   "metadata": {},
   "outputs": [
    {
     "data": {
      "text/plain": [
       "LIP           4.148517e+00\n",
       "UNEMP         6.060256e+00\n",
       "LCPI          4.650666e+00\n",
       "FFR           6.610385e+00\n",
       "LPCOM         5.452904e+00\n",
       "LRCDUR        3.612288e+00\n",
       "LRCND         4.137169e+00\n",
       "LRCSV         4.004456e+00\n",
       "RRSHOCK       4.273504e-10\n",
       "CUMRRSHOCK   -2.539778e+00\n",
       "dtype: float64"
      ]
     },
     "execution_count": 41,
     "metadata": {},
     "output_type": "execute_result"
    }
   ],
   "source": [
    "mp_data.iloc[:,1:].mean(axis=0)"
   ]
  },
  {
   "cell_type": "markdown",
   "metadata": {},
   "source": [
    "As with reading in data, we have the corresponding functions for **writing data**:\n",
    "\n",
    "* CSV: `pd.to_csv()`\n",
    "* Excel: `pd.to_excel()`\n",
    "* Stata: `pd.to_stata()`"
   ]
  },
  {
   "cell_type": "markdown",
   "metadata": {},
   "source": [
    "Let's **save our dataset to CSV form**. We will set `index=False` to avoid saving the index (which does not mean anything here but can in other contexts be an annoying thing). "
   ]
  },
  {
   "cell_type": "code",
   "execution_count": 42,
   "metadata": {},
   "outputs": [],
   "source": [
    "mp_data.to_csv('data/ramey_data_clean.csv', index=False)"
   ]
  },
  {
   "cell_type": "markdown",
   "metadata": {},
   "source": [
    "# <a id='toc3_'></a>[Fetching data](#toc0_)"
   ]
  },
  {
   "cell_type": "markdown",
   "metadata": {},
   "source": [
    "You can also get data directly from databases using APIs (**Application Programming Interface**). An API is an interface through which we can directly ask for and **receive data from an online source**. Fetching data from an API requires an **internet connection** and works directly without saving data to your harddisk (unless you ask Python to do so afterwards). You can use it to automate tasks such as fetching the most recent data, doing some calculations and outputting it in the same manner. An in-depth explanation of how to do this goes beyond the scope of this course. However, if you work a lot with data, this is something you might eventually need to look into.\n",
    "\n",
    "Here, we will only show a couple of examples that might be of your interest for your Bachelor Thesis. In particular, we will only be using a Python package called `pandas_datareader`, which allow to get online data from some useful sources.\n",
    "\n",
    "Two examples\n",
    "- FRED\n",
    "- World Bank"
   ]
  },
  {
   "cell_type": "code",
   "execution_count": 43,
   "metadata": {},
   "outputs": [],
   "source": [
    "import numpy as np\n",
    "import pandas as pd\n",
    "import datetime\n",
    "\n",
    "import pandas_datareader # install with `conda install -c anaconda pandas-datareader` or `pip install pandas-datareader` if you use base python"
   ]
  },
  {
   "cell_type": "markdown",
   "metadata": {},
   "source": [
    "## <a id='toc3_1_'></a>[FRED (Federal Reserve Economic Data)](#toc0_)"
   ]
  },
  {
   "cell_type": "markdown",
   "metadata": {},
   "source": [
    "We'll be using the [pandas_datareader](https://pandas-datareader.readthedocs.io/en/latest/index.html) package."
   ]
  },
  {
   "cell_type": "markdown",
   "metadata": {},
   "source": [
    "**GDP data** for the US"
   ]
  },
  {
   "cell_type": "code",
   "execution_count": 44,
   "metadata": {},
   "outputs": [
    {
     "name": "stdout",
     "output_type": "stream",
     "text": [
      "total number of days: 4383\n"
     ]
    }
   ],
   "source": [
    "# Need first to encode dates in a python friendly to specify the length of the desired time period. \n",
    "# Use the datetime module - it is the general way to handle dates in python. \n",
    "start = datetime.datetime(2005,1,1)\n",
    "end = datetime.datetime(2017,1,1)\n",
    "timespan = end - start # We can investigate the precise time span by just subtracting to time variables.\n",
    "print('total number of days:', timespan.days) # The timespan object has a days attribute."
   ]
  },
  {
   "cell_type": "code",
   "execution_count": 45,
   "metadata": {},
   "outputs": [
    {
     "data": {
      "text/html": [
       "<div>\n",
       "<style scoped>\n",
       "    .dataframe tbody tr th:only-of-type {\n",
       "        vertical-align: middle;\n",
       "    }\n",
       "\n",
       "    .dataframe tbody tr th {\n",
       "        vertical-align: top;\n",
       "    }\n",
       "\n",
       "    .dataframe thead th {\n",
       "        text-align: right;\n",
       "    }\n",
       "</style>\n",
       "<table border=\"1\" class=\"dataframe\">\n",
       "  <thead>\n",
       "    <tr style=\"text-align: right;\">\n",
       "      <th></th>\n",
       "      <th>GDP</th>\n",
       "    </tr>\n",
       "    <tr>\n",
       "      <th>DATE</th>\n",
       "      <th></th>\n",
       "    </tr>\n",
       "  </thead>\n",
       "  <tbody>\n",
       "    <tr>\n",
       "      <th>2005-01-01</th>\n",
       "      <td>12767.286</td>\n",
       "    </tr>\n",
       "    <tr>\n",
       "      <th>2005-04-01</th>\n",
       "      <td>12922.656</td>\n",
       "    </tr>\n",
       "    <tr>\n",
       "      <th>2005-07-01</th>\n",
       "      <td>13142.642</td>\n",
       "    </tr>\n",
       "    <tr>\n",
       "      <th>2005-10-01</th>\n",
       "      <td>13324.204</td>\n",
       "    </tr>\n",
       "    <tr>\n",
       "      <th>2006-01-01</th>\n",
       "      <td>13599.160</td>\n",
       "    </tr>\n",
       "    <tr>\n",
       "      <th>2006-04-01</th>\n",
       "      <td>13753.424</td>\n",
       "    </tr>\n",
       "    <tr>\n",
       "      <th>2006-07-01</th>\n",
       "      <td>13870.188</td>\n",
       "    </tr>\n",
       "    <tr>\n",
       "      <th>2006-10-01</th>\n",
       "      <td>14039.560</td>\n",
       "    </tr>\n",
       "    <tr>\n",
       "      <th>2007-01-01</th>\n",
       "      <td>14215.651</td>\n",
       "    </tr>\n",
       "    <tr>\n",
       "      <th>2007-04-01</th>\n",
       "      <td>14402.082</td>\n",
       "    </tr>\n",
       "  </tbody>\n",
       "</table>\n",
       "</div>"
      ],
      "text/plain": [
       "                  GDP\n",
       "DATE                 \n",
       "2005-01-01  12767.286\n",
       "2005-04-01  12922.656\n",
       "2005-07-01  13142.642\n",
       "2005-10-01  13324.204\n",
       "2006-01-01  13599.160\n",
       "2006-04-01  13753.424\n",
       "2006-07-01  13870.188\n",
       "2006-10-01  14039.560\n",
       "2007-01-01  14215.651\n",
       "2007-04-01  14402.082"
      ]
     },
     "execution_count": 45,
     "metadata": {},
     "output_type": "execute_result"
    }
   ],
   "source": [
    "# Call the FRED api using pandas_datareader \n",
    "gdp = pandas_datareader.data.DataReader('GDP', 'fred', start, end)\n",
    "gdp.head(10)"
   ]
  },
  {
   "cell_type": "markdown",
   "metadata": {},
   "source": [
    "**Finding data:**\n",
    "\n",
    "1. go to https://fred.stlouisfed.org \n",
    "2. search for data in main bar, e.g. employment and unemployment\n",
    "3. click the first links\n",
    "4. table name is next to header "
   ]
  },
  {
   "cell_type": "markdown",
   "metadata": {},
   "source": [
    "We now want to pull down data on aggregate employment (PAYEMS) and unemployment (UNEMPLOY) levels and then plot the development. \n",
    "\n",
    "**Pulling the data:**"
   ]
  },
  {
   "cell_type": "code",
   "execution_count": 46,
   "metadata": {},
   "outputs": [],
   "source": [
    "start = datetime.datetime(1939,1,1)\n",
    "end = datetime.datetime(2021,12,1)\n",
    "\n",
    "# We can pull from multiple sources in one go. Just combine them in a list.\n",
    "empl_us = pandas_datareader.data.DataReader(['PAYEMS', 'UNEMPLOY'], 'fred', start, end)"
   ]
  },
  {
   "cell_type": "markdown",
   "metadata": {},
   "source": [
    "# <a id='toc4_'></a>[Combining data](#toc0_)\n",
    "\n",
    "Often, you have data in different dataframes that you want to combine.\n",
    "\n",
    "The most common operations are is `.concat([df1, df2], axis=0)` which appends rows (axis=0) or columns (axis=1) of DataFrames\n",
    "\n",
    "\n"
   ]
  },
  {
   "cell_type": "code",
   "execution_count": 47,
   "metadata": {},
   "outputs": [],
   "source": [
    "start = datetime.datetime(1939,1,1)\n",
    "end = datetime.datetime(2021,12,1)\n",
    "\n",
    "# We can pull from multiple sources in one go. Just combine them in a list.\n",
    "empl_us = pandas_datareader.data.DataReader(['PAYEMS', 'UNEMPLOY'], 'fred', start, end)\n",
    "gdp_us = pandas_datareader.data.DataReader('GDP', 'fred', start, end)\n",
    "\n",
    "df_combined = pd.concat([empl_us, gdp_us], axis=1)"
   ]
  },
  {
   "cell_type": "markdown",
   "metadata": {},
   "source": [
    "Often, you want to reshape your data based on some criteria. Consider the following example, where you have some panel data for real GDP per capita.\n"
   ]
  },
  {
   "cell_type": "code",
   "execution_count": 48,
   "metadata": {},
   "outputs": [
    {
     "data": {
      "text/html": [
       "<div>\n",
       "<style scoped>\n",
       "    .dataframe tbody tr th:only-of-type {\n",
       "        vertical-align: middle;\n",
       "    }\n",
       "\n",
       "    .dataframe tbody tr th {\n",
       "        vertical-align: top;\n",
       "    }\n",
       "\n",
       "    .dataframe thead th {\n",
       "        text-align: right;\n",
       "    }\n",
       "</style>\n",
       "<table border=\"1\" class=\"dataframe\">\n",
       "  <thead>\n",
       "    <tr style=\"text-align: right;\">\n",
       "      <th></th>\n",
       "      <th>RGDP_FR</th>\n",
       "      <th>RGDP_DE</th>\n",
       "    </tr>\n",
       "    <tr>\n",
       "      <th>DATE</th>\n",
       "      <th></th>\n",
       "      <th></th>\n",
       "    </tr>\n",
       "  </thead>\n",
       "  <tbody>\n",
       "    <tr>\n",
       "      <th>1991-01-01</th>\n",
       "      <td>354340.9</td>\n",
       "      <td>517733.8</td>\n",
       "    </tr>\n",
       "    <tr>\n",
       "      <th>1991-04-01</th>\n",
       "      <td>355649.4</td>\n",
       "      <td>515466.2</td>\n",
       "    </tr>\n",
       "    <tr>\n",
       "      <th>1991-07-01</th>\n",
       "      <td>357091.2</td>\n",
       "      <td>514515.3</td>\n",
       "    </tr>\n",
       "    <tr>\n",
       "      <th>1991-10-01</th>\n",
       "      <td>358814.4</td>\n",
       "      <td>521756.9</td>\n",
       "    </tr>\n",
       "    <tr>\n",
       "      <th>1992-01-01</th>\n",
       "      <td>361380.8</td>\n",
       "      <td>529126.3</td>\n",
       "    </tr>\n",
       "  </tbody>\n",
       "</table>\n",
       "</div>"
      ],
      "text/plain": [
       "             RGDP_FR   RGDP_DE\n",
       "DATE                          \n",
       "1991-01-01  354340.9  517733.8\n",
       "1991-04-01  355649.4  515466.2\n",
       "1991-07-01  357091.2  514515.3\n",
       "1991-10-01  358814.4  521756.9\n",
       "1992-01-01  361380.8  529126.3"
      ]
     },
     "execution_count": 48,
     "metadata": {},
     "output_type": "execute_result"
    }
   ],
   "source": [
    "start = datetime.datetime(1991,1,1)\n",
    "real_gdp_france = pandas_datareader.data.DataReader('CLVMNACSCAB1GQFR', 'fred', start, end).rename(columns = {'CLVMNACSCAB1GQFR': 'RGDP_FR'})\n",
    "real_gdp_germany = pandas_datareader.data.DataReader('CLVMNACSCAB1GQDE', 'fred', start, end).rename(columns = {'CLVMNACSCAB1GQDE': 'RGDP_DE'})\n",
    "\n",
    "df = pd.concat([real_gdp_france, real_gdp_germany], axis=1)\n",
    "df.head(5)"
   ]
  },
  {
   "cell_type": "markdown",
   "metadata": {},
   "source": [
    "If you want to combine your data for real GDP, you could `.melt()` the data."
   ]
  },
  {
   "cell_type": "code",
   "execution_count": 49,
   "metadata": {},
   "outputs": [
    {
     "data": {
      "text/html": [
       "<div>\n",
       "<style scoped>\n",
       "    .dataframe tbody tr th:only-of-type {\n",
       "        vertical-align: middle;\n",
       "    }\n",
       "\n",
       "    .dataframe tbody tr th {\n",
       "        vertical-align: top;\n",
       "    }\n",
       "\n",
       "    .dataframe thead th {\n",
       "        text-align: right;\n",
       "    }\n",
       "</style>\n",
       "<table border=\"1\" class=\"dataframe\">\n",
       "  <thead>\n",
       "    <tr style=\"text-align: right;\">\n",
       "      <th></th>\n",
       "      <th>variable</th>\n",
       "      <th>value</th>\n",
       "    </tr>\n",
       "  </thead>\n",
       "  <tbody>\n",
       "    <tr>\n",
       "      <th>0</th>\n",
       "      <td>RGDP_FR</td>\n",
       "      <td>354340.9</td>\n",
       "    </tr>\n",
       "    <tr>\n",
       "      <th>1</th>\n",
       "      <td>RGDP_FR</td>\n",
       "      <td>355649.4</td>\n",
       "    </tr>\n",
       "    <tr>\n",
       "      <th>2</th>\n",
       "      <td>RGDP_FR</td>\n",
       "      <td>357091.2</td>\n",
       "    </tr>\n",
       "    <tr>\n",
       "      <th>3</th>\n",
       "      <td>RGDP_FR</td>\n",
       "      <td>358814.4</td>\n",
       "    </tr>\n",
       "    <tr>\n",
       "      <th>4</th>\n",
       "      <td>RGDP_FR</td>\n",
       "      <td>361380.8</td>\n",
       "    </tr>\n",
       "    <tr>\n",
       "      <th>...</th>\n",
       "      <td>...</td>\n",
       "      <td>...</td>\n",
       "    </tr>\n",
       "    <tr>\n",
       "      <th>243</th>\n",
       "      <td>RGDP_DE</td>\n",
       "      <td>749298.1</td>\n",
       "    </tr>\n",
       "    <tr>\n",
       "      <th>244</th>\n",
       "      <td>RGDP_DE</td>\n",
       "      <td>740960.2</td>\n",
       "    </tr>\n",
       "    <tr>\n",
       "      <th>245</th>\n",
       "      <td>RGDP_DE</td>\n",
       "      <td>759831.7</td>\n",
       "    </tr>\n",
       "    <tr>\n",
       "      <th>246</th>\n",
       "      <td>RGDP_DE</td>\n",
       "      <td>760124.3</td>\n",
       "    </tr>\n",
       "    <tr>\n",
       "      <th>247</th>\n",
       "      <td>RGDP_DE</td>\n",
       "      <td>764805.6</td>\n",
       "    </tr>\n",
       "  </tbody>\n",
       "</table>\n",
       "<p>248 rows × 2 columns</p>\n",
       "</div>"
      ],
      "text/plain": [
       "    variable     value\n",
       "0    RGDP_FR  354340.9\n",
       "1    RGDP_FR  355649.4\n",
       "2    RGDP_FR  357091.2\n",
       "3    RGDP_FR  358814.4\n",
       "4    RGDP_FR  361380.8\n",
       "..       ...       ...\n",
       "243  RGDP_DE  749298.1\n",
       "244  RGDP_DE  740960.2\n",
       "245  RGDP_DE  759831.7\n",
       "246  RGDP_DE  760124.3\n",
       "247  RGDP_DE  764805.6\n",
       "\n",
       "[248 rows x 2 columns]"
      ]
     },
     "execution_count": 49,
     "metadata": {},
     "output_type": "execute_result"
    }
   ],
   "source": [
    "df2 = pd.melt(df)\n",
    "df2"
   ]
  },
  {
   "cell_type": "code",
   "execution_count": 50,
   "metadata": {},
   "outputs": [
    {
     "data": {
      "text/html": [
       "<div>\n",
       "<style scoped>\n",
       "    .dataframe tbody tr th:only-of-type {\n",
       "        vertical-align: middle;\n",
       "    }\n",
       "\n",
       "    .dataframe tbody tr th {\n",
       "        vertical-align: top;\n",
       "    }\n",
       "\n",
       "    .dataframe thead th {\n",
       "        text-align: right;\n",
       "    }\n",
       "</style>\n",
       "<table border=\"1\" class=\"dataframe\">\n",
       "  <thead>\n",
       "    <tr style=\"text-align: right;\">\n",
       "      <th></th>\n",
       "      <th>Country</th>\n",
       "      <th>RGDP</th>\n",
       "    </tr>\n",
       "  </thead>\n",
       "  <tbody>\n",
       "    <tr>\n",
       "      <th>0</th>\n",
       "      <td>FR</td>\n",
       "      <td>354340.9</td>\n",
       "    </tr>\n",
       "    <tr>\n",
       "      <th>1</th>\n",
       "      <td>FR</td>\n",
       "      <td>355649.4</td>\n",
       "    </tr>\n",
       "    <tr>\n",
       "      <th>2</th>\n",
       "      <td>FR</td>\n",
       "      <td>357091.2</td>\n",
       "    </tr>\n",
       "    <tr>\n",
       "      <th>3</th>\n",
       "      <td>FR</td>\n",
       "      <td>358814.4</td>\n",
       "    </tr>\n",
       "    <tr>\n",
       "      <th>4</th>\n",
       "      <td>FR</td>\n",
       "      <td>361380.8</td>\n",
       "    </tr>\n",
       "    <tr>\n",
       "      <th>...</th>\n",
       "      <td>...</td>\n",
       "      <td>...</td>\n",
       "    </tr>\n",
       "    <tr>\n",
       "      <th>243</th>\n",
       "      <td>DE</td>\n",
       "      <td>749298.1</td>\n",
       "    </tr>\n",
       "    <tr>\n",
       "      <th>244</th>\n",
       "      <td>DE</td>\n",
       "      <td>740960.2</td>\n",
       "    </tr>\n",
       "    <tr>\n",
       "      <th>245</th>\n",
       "      <td>DE</td>\n",
       "      <td>759831.7</td>\n",
       "    </tr>\n",
       "    <tr>\n",
       "      <th>246</th>\n",
       "      <td>DE</td>\n",
       "      <td>760124.3</td>\n",
       "    </tr>\n",
       "    <tr>\n",
       "      <th>247</th>\n",
       "      <td>DE</td>\n",
       "      <td>764805.6</td>\n",
       "    </tr>\n",
       "  </tbody>\n",
       "</table>\n",
       "<p>248 rows × 2 columns</p>\n",
       "</div>"
      ],
      "text/plain": [
       "    Country      RGDP\n",
       "0        FR  354340.9\n",
       "1        FR  355649.4\n",
       "2        FR  357091.2\n",
       "3        FR  358814.4\n",
       "4        FR  361380.8\n",
       "..      ...       ...\n",
       "243      DE  749298.1\n",
       "244      DE  740960.2\n",
       "245      DE  759831.7\n",
       "246      DE  760124.3\n",
       "247      DE  764805.6\n",
       "\n",
       "[248 rows x 2 columns]"
      ]
     },
     "execution_count": 50,
     "metadata": {},
     "output_type": "execute_result"
    }
   ],
   "source": [
    "# cleanup\n",
    "df2.rename(columns = {'variable': 'Country', 'value': 'RGDP'}, inplace=True)\n",
    "df2.Country = df2.Country.str.replace('RGDP_', '')\n",
    "df2"
   ]
  },
  {
   "cell_type": "markdown",
   "metadata": {},
   "source": [
    "# <a id='toc5_'></a>[Plotting data](#toc0_)\n",
    "\n",
    "You want to visualize your data for a better understanding or to present it to others. \n",
    "One of the most common packages for plotting in Python is **matplotlib**. We will use the `pyplot` module from matplotlib. For a longer tutorial see this [link](https://matplotlib.org/stable/tutorials/pyplot.html)."
   ]
  },
  {
   "cell_type": "code",
   "execution_count": 51,
   "metadata": {},
   "outputs": [],
   "source": [
    "import matplotlib.pyplot as plt\n",
    "# update some standard values\n",
    "plt.rcParams.update({\"axes.grid\":True,\"grid.color\":\"black\",\"grid.alpha\":\"0.25\",\"grid.linestyle\":\"--\"})\n",
    "plt.rcParams.update({'font.size': 14})"
   ]
  },
  {
   "cell_type": "markdown",
   "metadata": {},
   "source": [
    "**Constructing a plot-object in matplotlib**\n",
    "1. `fig` is the figure object. You can think of it at a top-level container that holds all the objects you will use to construct a plot.\n",
    "2. `ax` is a reference to a specific subplot on the canvas\n",
    "3. Use the `ax` reference to put a diagram into the empty subplot"
   ]
  },
  {
   "cell_type": "code",
   "execution_count": 52,
   "metadata": {},
   "outputs": [
    {
     "data": {
      "text/plain": [
       "<matplotlib.legend.Legend at 0x1ee6e940c20>"
      ]
     },
     "execution_count": 52,
     "metadata": {},
     "output_type": "execute_result"
    },
    {
     "data": {
      "image/png": "[encoded data removed]",
      "text/plain": [
       "<Figure size 640x480 with 1 Axes>"
      ]
     },
     "metadata": {},
     "output_type": "display_data"
    }
   ],
   "source": [
    "# a. create the figure\n",
    "fig = plt.figure()\n",
    "\n",
    "# b. plot\n",
    "ax = fig.add_subplot(1,1,1)\n",
    "\n",
    "ax.plot(mp_data.DATES,mp_data.UNEMP, label='Unemployment rate', color='green', linestyle='--', linewidth=2)\n",
    "\n",
    "ax.set_title('Dataseries')\n",
    "ax.set_xlabel('year')\n",
    "ax.set_ylabel('%')\n",
    "ax.legend(loc='upper right')\n"
   ]
  },
  {
   "cell_type": "code",
   "execution_count": 53,
   "metadata": {},
   "outputs": [
    {
     "data": {
      "image/png": "[encoded data removed]",
      "text/plain": [
       "<Figure size 640x480 with 1 Axes>"
      ]
     },
     "execution_count": 53,
     "metadata": {},
     "output_type": "execute_result"
    }
   ],
   "source": [
    "# You can have multiple series on the same axis\n",
    "ax.plot(mp_data.DATES,mp_data.FFR, label='Federal funds rate')\n",
    "ax.legend()\n",
    "fig"
   ]
  },
  {
   "cell_type": "code",
   "execution_count": 54,
   "metadata": {},
   "outputs": [],
   "source": [
    "# Save the figure\n",
    "fig.savefig('fig1.png')"
   ]
  },
  {
   "cell_type": "markdown",
   "metadata": {},
   "source": [
    "If you want to create a grid of subplots:"
   ]
  },
  {
   "cell_type": "code",
   "execution_count": 55,
   "metadata": {},
   "outputs": [
    {
     "data": {
      "image/png": "[encoded data removed]",
      "text/plain": [
       "<Figure size 640x480 with 2 Axes>"
      ]
     },
     "metadata": {},
     "output_type": "display_data"
    }
   ],
   "source": [
    "fig = plt.figure()  # Create a new figure\n",
    "\n",
    "# Add a subplot for 'FFR'\n",
    "ax1 = fig.add_subplot(2, 1, 1)  # 2 rows, 1 column, first plot\n",
    "ax1.plot(mp_data.DATES, mp_data.FFR)\n",
    "ax1.set_title('FFR')\n",
    "\n",
    "# Add a subplot for 'UNEMP'\n",
    "ax2 = fig.add_subplot(2, 1, 2)  # 2 rows, 1 column, second plot\n",
    "ax2.plot(mp_data.DATES, mp_data.UNEMP)\n",
    "ax2.set_title('UNEMP')\n",
    "\n",
    "# Set the x-label for both plots in one line\n",
    "for ax in [ax1, ax2]:\n",
    "    ax.set_xlabel('Time')\n",
    "    ax.set_ylabel('%')\n",
    "\n",
    "plt.tight_layout()  # Adjusts subplot params so that subplots fit into the figure area\n",
    "plt.show()"
   ]
  },
  {
   "cell_type": "markdown",
   "metadata": {},
   "source": [
    "Alternatively, you can plot from pandas directly."
   ]
  },
  {
   "cell_type": "code",
   "execution_count": 56,
   "metadata": {},
   "outputs": [
    {
     "data": {
      "text/plain": [
       "Text(0, 0.5, 'employment (US)')"
      ]
     },
     "execution_count": 56,
     "metadata": {},
     "output_type": "execute_result"
    },
    {
     "data": {
      "image/png": "[encoded data removed]",
      "text/plain": [
       "<Figure size 640x480 with 1 Axes>"
      ]
     },
     "metadata": {},
     "output_type": "display_data"
    }
   ],
   "source": [
    "fig = plt.figure()\n",
    "ax = fig.add_subplot(1,1,1)\n",
    "\n",
    "# Now we are just plotting directly from the pandas dataframe. Still using matplotlib under the hood.\n",
    "empl_us.UNEMPLOY.plot(ax=ax, color='blue')\n",
    "\n",
    "ax.legend(frameon=True)\n",
    "ax.set_xlabel('')\n",
    "ax.set_ylabel('employment (US)')"
   ]
  },
  {
   "cell_type": "markdown",
   "metadata": {},
   "source": [
    "**This was just a brief introduction to Pandas and how to work with data in Python. There are many more topics that an advanced user should know. For that, I recommend you to look at Pandas documentation as well as the following links:**\n",
    "\n",
    "1. Official [tutorials](https://pandas.pydata.org/pandas-docs/stable/getting_started/tutorials.html)\n",
    "2. DataCamp's [pandas' cheat sheet](https://www.datacamp.com/community/blog/python-pandas-cheat-sheet)"
   ]
  },
  {
   "cell_type": "markdown",
   "metadata": {},
   "source": [
    "# <a id='toc6_'></a>[List of some useful data sources](#toc0_)\n",
    "\n",
    "* European-centric sources:\n",
    "    \n",
    "    - Eurostat: official source for statistical data on the European Union, member states and sub-state regions\n",
    "        \n",
    "    - ECB Statistical Data Warehouse: Data on Euro area monetary policy, financial stability and the activities of the European System of Central Banks (ESCB), with aggregate series based on observations from national central banks, credit institutions and inter- national data sources.\n",
    "        \n",
    "    - Data Europa EU (the former European Data Portal) provides access to over a million public datasets from 36 countries (European Union member states, the EEA, Switzer- land and countries in the EU Neighbourhood Policy programme). Data resources are indexed by the European Commission from national, regional, local and domain-specific public data providers.\n",
    "        \n",
    "* US-centric sources:\n",
    "    \n",
    "    - FRED database: User-friendly database of U.S. and international time series data maintained by the Federal Reserve Bank of St. Louis\n",
    "\n",
    "    - Federal Reserve Board: provides data on bank structure, assets and liabilities, financial accounts, household finance, exchange rates among other (e.g. Distributional Financial Accounts)\n",
    "        \n",
    "    - Bureau of Labor Statistics (BLS): publishes data on unemployment and consumer prices, as well as a host of data related to the U.S. labor force\n",
    "        \n",
    "    - Bureau of Economic Analysis (BEA): compiles extensive data on gross domestic product (GDP), personal income, and corporate profits (e.g. NIPA)\n",
    "        \n",
    "    - National Bureau of Economic Research (NBER): hosts data covering the U.S. economy, industry, and international trade\n",
    "        \n",
    "    - Congressional Budget Office: data on federal spending and revenue, projections of future spending and deficits, and forecasts\n",
    "\n",
    "    - IRS: data on taxes\n",
    "\n",
    "    - NBER Public Use Data Archive: contains a myriad of different datasets (e.g. TAXSIM, Macrohistory Database, etc.)\n",
    "        \n",
    "* Worldwide:\n",
    "    -  Central or national banks maintain many macroeconomic statistics\n",
    "\n",
    "    -  World Bank maintains many large datasets across most countries, including the World Development Indicators (WDI) database and the Global Financial Development Database (GFDD). While they maintain an extensive set of data series with expansive country coverage, there are some missing data issues in many of the series.    \n",
    "\n",
    "    -  Bank for International Settlements: datasets on international banking, debt securities, credit, global liquidity, derivatives, foreign exchange, property prices,\n",
    "\n",
    "    -  United Nations maintains numerous databases, tables, and glossaries containing over 60 million data points covering international economic, health, education, and development data.    \n",
    "\n",
    "    -  OECD.Stat includes data and metadata for OECD countries and selected non-member economies.\n",
    "\n",
    "* Others/Data aggregator \n",
    "    - Our World in Data \n",
    "\n",
    "    - DB NOMICS\n",
    "    \n",
    "    - Datastream and EIKON\n"
   ]
  },
  {
   "cell_type": "markdown",
   "metadata": {},
   "source": [
    "## <a id='toc6_1_'></a>[World Bank indicator example](#toc0_)"
   ]
  },
  {
   "cell_type": "markdown",
   "metadata": {},
   "source": [
    "[Documentation](https://pandas-datareader.readthedocs.io/en/latest/readers/world-bank.html)"
   ]
  },
  {
   "cell_type": "markdown",
   "metadata": {},
   "source": [
    "**Finding data:**\n",
    "\n",
    "1. go to https://data.worldbank.org/indicator/\n",
    "2. search for GDP \n",
    "3. variable name (\"NY.GDP.PCAP.KD\") is in the URL"
   ]
  },
  {
   "cell_type": "markdown",
   "metadata": {},
   "source": [
    "**Pull GDP numbers:**"
   ]
  },
  {
   "cell_type": "code",
   "execution_count": 57,
   "metadata": {},
   "outputs": [],
   "source": [
    "# Need a different module than in the FRED case\n",
    "from pandas_datareader import wb"
   ]
  },
  {
   "cell_type": "code",
   "execution_count": 58,
   "metadata": {},
   "outputs": [
    {
     "name": "stderr",
     "output_type": "stream",
     "text": [
      "C:\\Users\\Admin2\\AppData\\Local\\Temp\\ipykernel_38716\\2958643297.py:1: FutureWarning: errors='ignore' is deprecated and will raise in a future version. Use to_numeric without passing `errors` and catch exceptions explicitly instead\n",
      "  wb_gdp = wb.download(indicator='NY.GDP.PCAP.KD', country=['DE','US','ES'], start=1990, end=2017)\n"
     ]
    },
    {
     "data": {
      "text/html": [
       "<div>\n",
       "<style scoped>\n",
       "    .dataframe tbody tr th:only-of-type {\n",
       "        vertical-align: middle;\n",
       "    }\n",
       "\n",
       "    .dataframe tbody tr th {\n",
       "        vertical-align: top;\n",
       "    }\n",
       "\n",
       "    .dataframe thead th {\n",
       "        text-align: right;\n",
       "    }\n",
       "</style>\n",
       "<table border=\"1\" class=\"dataframe\">\n",
       "  <thead>\n",
       "    <tr style=\"text-align: right;\">\n",
       "      <th></th>\n",
       "      <th>country</th>\n",
       "      <th>year</th>\n",
       "      <th>GDP</th>\n",
       "    </tr>\n",
       "  </thead>\n",
       "  <tbody>\n",
       "    <tr>\n",
       "      <th>39</th>\n",
       "      <td>Spain</td>\n",
       "      <td>2006</td>\n",
       "      <td>26899.092151</td>\n",
       "    </tr>\n",
       "    <tr>\n",
       "      <th>78</th>\n",
       "      <td>United States</td>\n",
       "      <td>1995</td>\n",
       "      <td>41710.820725</td>\n",
       "    </tr>\n",
       "    <tr>\n",
       "      <th>45</th>\n",
       "      <td>Spain</td>\n",
       "      <td>2000</td>\n",
       "      <td>24106.881844</td>\n",
       "    </tr>\n",
       "    <tr>\n",
       "      <th>7</th>\n",
       "      <td>Germany</td>\n",
       "      <td>2010</td>\n",
       "      <td>38517.439786</td>\n",
       "    </tr>\n",
       "    <tr>\n",
       "      <th>57</th>\n",
       "      <td>United States</td>\n",
       "      <td>2016</td>\n",
       "      <td>57658.670883</td>\n",
       "    </tr>\n",
       "  </tbody>\n",
       "</table>\n",
       "</div>"
      ],
      "text/plain": [
       "          country  year           GDP\n",
       "39          Spain  2006  26899.092151\n",
       "78  United States  1995  41710.820725\n",
       "45          Spain  2000  24106.881844\n",
       "7         Germany  2010  38517.439786\n",
       "57  United States  2016  57658.670883"
      ]
     },
     "execution_count": 58,
     "metadata": {},
     "output_type": "execute_result"
    }
   ],
   "source": [
    "wb_gdp = wb.download(indicator='NY.GDP.PCAP.KD', country=['DE','US','ES'], start=1990, end=2017)\n",
    "\n",
    "wb_gdp = wb_gdp.rename(columns = {'NY.GDP.PCAP.KD':'GDP'})\n",
    "wb_gdp = wb_gdp.reset_index()\n",
    "wb_gdp.sample(5)"
   ]
  },
  {
   "cell_type": "code",
   "execution_count": 59,
   "metadata": {},
   "outputs": [
    {
     "name": "stdout",
     "output_type": "stream",
     "text": [
      "<class 'pandas.core.frame.DataFrame'>\n",
      "RangeIndex: 84 entries, 0 to 83\n",
      "Data columns (total 3 columns):\n",
      " #   Column   Non-Null Count  Dtype  \n",
      "---  ------   --------------  -----  \n",
      " 0   country  84 non-null     object \n",
      " 1   year     84 non-null     object \n",
      " 2   GDP      84 non-null     float64\n",
      "dtypes: float64(1), object(2)\n",
      "memory usage: 2.1+ KB\n"
     ]
    }
   ],
   "source": [
    "wb_gdp.info()"
   ]
  },
  {
   "cell_type": "markdown",
   "metadata": {},
   "source": [
    "**Problems:** \n",
    "* It turns out that the dataframe has stored the variable *year* as an \"object\", meaning in practice that it is a string. This must be converted to an int, as we want to use it as a number. \n",
    "* *country* is in fact a text variable, so it is acceptable to have it as an object type. But pandas has implemented a string type on its own. It is called 'string', while the text type of object that you normally encounter is of type 'str'. Yes, confusing!!  But you want to get it right, because an object variable can also contain numbers in addition to text. Which is bad. \n",
    "* Fortunately, GDP Growth is a float (i.e. a number). "
   ]
  },
  {
   "cell_type": "code",
   "execution_count": 60,
   "metadata": {},
   "outputs": [
    {
     "name": "stdout",
     "output_type": "stream",
     "text": [
      "<class 'pandas.core.frame.DataFrame'>\n",
      "RangeIndex: 84 entries, 0 to 83\n",
      "Data columns (total 3 columns):\n",
      " #   Column   Non-Null Count  Dtype  \n",
      "---  ------   --------------  -----  \n",
      " 0   country  84 non-null     string \n",
      " 1   year     84 non-null     int64  \n",
      " 2   GDP      84 non-null     float64\n",
      "dtypes: float64(1), int64(1), string(1)\n",
      "memory usage: 2.1 KB\n"
     ]
    }
   ],
   "source": [
    "wb_gdp.year = wb_gdp.year.astype(int) # convert year\n",
    "wb_gdp.country = wb_gdp.country.astype('string') # convert country to the special pandas string type\n",
    "wb_gdp.info()"
   ]
  },
  {
   "cell_type": "markdown",
   "metadata": {},
   "source": [
    "* About strings and the `object` type in pandas, see [here](https://towardsdatascience.com/why-we-need-to-use-pandas-new-string-dtype-instead-of-object-for-textual-data-6fd419842e24) and [here](https://pandas.pydata.org/docs/user_guide/text.html)."
   ]
  },
  {
   "cell_type": "markdown",
   "metadata": {},
   "source": [
    "**Fetch employment-to-population ratio:**"
   ]
  },
  {
   "cell_type": "code",
   "execution_count": 61,
   "metadata": {},
   "outputs": [
    {
     "name": "stderr",
     "output_type": "stream",
     "text": [
      "C:\\Users\\Admin2\\AppData\\Local\\Temp\\ipykernel_38716\\3749591259.py:1: FutureWarning: errors='ignore' is deprecated and will raise in a future version. Use to_numeric without passing `errors` and catch exceptions explicitly instead\n",
      "  wb_empl = wb.download(indicator='SL.EMP.TOTL.SP.ZS', country=['DE','US','ES'], start=1990, end=2017) # don't need the special datetime here.\n"
     ]
    },
    {
     "data": {
      "text/html": [
       "<div>\n",
       "<style scoped>\n",
       "    .dataframe tbody tr th:only-of-type {\n",
       "        vertical-align: middle;\n",
       "    }\n",
       "\n",
       "    .dataframe tbody tr th {\n",
       "        vertical-align: top;\n",
       "    }\n",
       "\n",
       "    .dataframe thead th {\n",
       "        text-align: right;\n",
       "    }\n",
       "</style>\n",
       "<table border=\"1\" class=\"dataframe\">\n",
       "  <thead>\n",
       "    <tr style=\"text-align: right;\">\n",
       "      <th></th>\n",
       "      <th>country</th>\n",
       "      <th>year</th>\n",
       "      <th>employment_to_pop</th>\n",
       "    </tr>\n",
       "  </thead>\n",
       "  <tbody>\n",
       "    <tr>\n",
       "      <th>57</th>\n",
       "      <td>United States</td>\n",
       "      <td>2016</td>\n",
       "      <td>59.391</td>\n",
       "    </tr>\n",
       "    <tr>\n",
       "      <th>67</th>\n",
       "      <td>United States</td>\n",
       "      <td>2006</td>\n",
       "      <td>62.162</td>\n",
       "    </tr>\n",
       "    <tr>\n",
       "      <th>45</th>\n",
       "      <td>Spain</td>\n",
       "      <td>2000</td>\n",
       "      <td>45.599</td>\n",
       "    </tr>\n",
       "  </tbody>\n",
       "</table>\n",
       "</div>"
      ],
      "text/plain": [
       "          country  year  employment_to_pop\n",
       "57  United States  2016             59.391\n",
       "67  United States  2006             62.162\n",
       "45          Spain  2000             45.599"
      ]
     },
     "execution_count": 61,
     "metadata": {},
     "output_type": "execute_result"
    }
   ],
   "source": [
    "wb_empl = wb.download(indicator='SL.EMP.TOTL.SP.ZS', country=['DE','US','ES'], start=1990, end=2017) # don't need the special datetime here.\n",
    "wb_empl.rename(columns = {'SL.EMP.TOTL.SP.ZS':'employment_to_pop'}, inplace=True) # Better col name\n",
    "wb_empl.reset_index(inplace = True)\n",
    "wb_empl.year = wb_empl.year.astype(int)\n",
    "wb_empl.sample(3)"
   ]
  },
  {
   "cell_type": "markdown",
   "metadata": {},
   "source": [
    "**Merge:**"
   ]
  },
  {
   "cell_type": "code",
   "execution_count": 62,
   "metadata": {},
   "outputs": [
    {
     "data": {
      "text/html": [
       "<div>\n",
       "<style scoped>\n",
       "    .dataframe tbody tr th:only-of-type {\n",
       "        vertical-align: middle;\n",
       "    }\n",
       "\n",
       "    .dataframe tbody tr th {\n",
       "        vertical-align: top;\n",
       "    }\n",
       "\n",
       "    .dataframe thead th {\n",
       "        text-align: right;\n",
       "    }\n",
       "</style>\n",
       "<table border=\"1\" class=\"dataframe\">\n",
       "  <thead>\n",
       "    <tr style=\"text-align: right;\">\n",
       "      <th></th>\n",
       "      <th>country</th>\n",
       "      <th>year</th>\n",
       "      <th>GDP</th>\n",
       "      <th>employment_to_pop</th>\n",
       "    </tr>\n",
       "  </thead>\n",
       "  <tbody>\n",
       "    <tr>\n",
       "      <th>0</th>\n",
       "      <td>Germany</td>\n",
       "      <td>1990</td>\n",
       "      <td>29747.690941</td>\n",
       "      <td>NaN</td>\n",
       "    </tr>\n",
       "    <tr>\n",
       "      <th>1</th>\n",
       "      <td>Germany</td>\n",
       "      <td>1991</td>\n",
       "      <td>31040.293563</td>\n",
       "      <td>56.430</td>\n",
       "    </tr>\n",
       "    <tr>\n",
       "      <th>2</th>\n",
       "      <td>Germany</td>\n",
       "      <td>1992</td>\n",
       "      <td>31425.647608</td>\n",
       "      <td>55.340</td>\n",
       "    </tr>\n",
       "    <tr>\n",
       "      <th>3</th>\n",
       "      <td>Germany</td>\n",
       "      <td>1993</td>\n",
       "      <td>30915.872885</td>\n",
       "      <td>54.055</td>\n",
       "    </tr>\n",
       "    <tr>\n",
       "      <th>4</th>\n",
       "      <td>Germany</td>\n",
       "      <td>1994</td>\n",
       "      <td>31609.110286</td>\n",
       "      <td>53.562</td>\n",
       "    </tr>\n",
       "  </tbody>\n",
       "</table>\n",
       "</div>"
      ],
      "text/plain": [
       "   country  year           GDP  employment_to_pop\n",
       "0  Germany  1990  29747.690941                NaN\n",
       "1  Germany  1991  31040.293563             56.430\n",
       "2  Germany  1992  31425.647608             55.340\n",
       "3  Germany  1993  30915.872885             54.055\n",
       "4  Germany  1994  31609.110286             53.562"
      ]
     },
     "execution_count": 62,
     "metadata": {},
     "output_type": "execute_result"
    }
   ],
   "source": [
    "wb = pd.merge(wb_gdp, wb_empl, how = 'outer', on = ['country','year']);\n",
    "wb.head(5)"
   ]
  },
  {
   "cell_type": "code",
   "execution_count": 63,
   "metadata": {},
   "outputs": [
    {
     "data": {
      "text/plain": [
       "(84, 4)"
      ]
     },
     "execution_count": 63,
     "metadata": {},
     "output_type": "execute_result"
    }
   ],
   "source": [
    "wb.shape"
   ]
  },
  {
   "cell_type": "markdown",
   "metadata": {},
   "source": [
    "# <a id='toc7_'></a>[More on pandas](#toc0_)\n",
    "\n",
    "This [Cheat Sheet](https://pandas.pydata.org/Pandas_Cheat_Sheet.pdf) gives you a quick overview over the most important operations."
   ]
  }
 ],
 "metadata": {
  "kernelspec": {
   "display_name": "E383",
   "language": "python",
   "name": "python3"
  },
  "language_info": {
   "codemirror_mode": {
    "name": "ipython",
    "version": 3
   },
   "file_extension": ".py",
   "mimetype": "text/x-python",
   "name": "python",
   "nbconvert_exporter": "python",
   "pygments_lexer": "ipython3",
   "version": "3.12.9"
  },
  "orig_nbformat": 4
 },
 "nbformat": 4,
 "nbformat_minor": 2
}
