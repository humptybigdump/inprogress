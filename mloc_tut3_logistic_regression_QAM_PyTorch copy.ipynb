{
 "cells": [
  {
   "cell_type": "markdown",
   "metadata": {
    "pycharm": {}
   },
   "source": [
    "# Logistic Regression for QAM Demodulation in AWGN Channels\n",
    "\n",
    "This code is provided as supplementary material of the lecture Machine Learning and Optimization in Communications (MLOC).<br>\n",
    "\n",
    "This code serves as:\n",
    "* an exercise to demodulate QAM symbols using multiclass logistic regression"
   ]
  },
  {
   "cell_type": "code",
   "execution_count": null,
   "metadata": {
    "pycharm": {}
   },
   "outputs": [],
   "source": [
    "import numpy as np\n",
    "import torch\n",
    "import torch.nn as nn\n",
    "import torch.optim as optim\n",
    "    \n",
    "import matplotlib.pyplot as plt\n",
    "from matplotlib import animation, rc\n",
    "from matplotlib.animation import PillowWriter # Disable if you don't want to save any GIFs.\n",
    "from ipywidgets import interactive\n",
    "import ipywidgets as widgets\n",
    "%matplotlib inline \n",
    "\n",
    "# use pytorch device\n",
    "device = 'cuda' if torch.cuda.is_available() else 'cpu'\n",
    "print(\"We are using the following device for learning:\",device)"
   ]
  },
  {
   "cell_type": "markdown",
   "metadata": {},
   "source": [
    "Here we use a simple AWGN model and normalize the constellations to unit energy"
   ]
  },
  {
   "cell_type": "code",
   "execution_count": null,
   "metadata": {},
   "outputs": [],
   "source": [
    "constellations = {'16-QAM': np.array([-3,-3,-3,-3,-1,-1,-1,-1,1,1,1,1,3,3,3,3]) + 1j*np.array([-3,-1,1,3,-3,-1,1,3,-3,-1,1,3,-3,-1,1,3]), \\\n",
    "                  '16-APSK': np.array([1,-1,0,0,1.4,1.4,-1.4,-1.4,3,-3,0,0,5,-5,0,0]) + 1j*np.array([0,0,1,-1,1.4,-1.4,1.4,-1.4,0,0,4,-4,0,0,6,-6]), \\\n",
    "                  '4-test' : np.array([-1,2,0,4]) + 1j*np.array([0,0,3,0])}\n",
    "\n",
    "# permute constellations so that it is visually more appealing with the chosen colormap\n",
    "# also normalize constellation\n",
    "for cname in constellations.keys():\n",
    "    norm_factor = 1 / np.sqrt(np.mean(np.abs(constellations[cname])**2))\n",
    "    constellations[cname] = constellations[cname][np.random.permutation(len(constellations[cname]))] * norm_factor\n",
    "    \n",
    "\n",
    "constellation = constellations['16-QAM']\n",
    "n = len(constellation)"
   ]
  },
  {
   "cell_type": "markdown",
   "metadata": {},
   "source": [
    "Simple AWGN channel"
   ]
  },
  {
   "cell_type": "code",
   "execution_count": null,
   "metadata": {},
   "outputs": [],
   "source": [
    "def simulate_channel(x, SNR):  \n",
    "    # noise variance per step    \n",
    "    sigma = np.sqrt( 0.5 * (10**(-SNR/10.0)) )\n",
    "\n",
    "    return x + sigma*(np.random.randn(len(x)) + 1j*np.random.randn(len(x)))    "
   ]
  },
  {
   "cell_type": "code",
   "execution_count": null,
   "metadata": {},
   "outputs": [],
   "source": [
    "length = 10000\n",
    "\n",
    "def plot_constellation(SNR):\n",
    "    ti = np.random.randint(len(constellation),size=length)\n",
    "    t = constellation[ti]\n",
    "    r = simulate_channel(t, SNR)\n",
    "\n",
    "    plt.figure(figsize=(6,6))\n",
    "    font = {'size'   : 14}\n",
    "    plt.rc('font', **font)\n",
    "    plt.rc('text', usetex=True)\n",
    "    plt.scatter(np.real(r), np.imag(r), c=ti, cmap='tab20')\n",
    "    plt.xlabel(r'$\\Re\\{r\\}$',fontsize=14)\n",
    "    plt.ylabel(r'$\\Im\\{r\\}$',fontsize=14)\n",
    "    plt.axis('equal')\n",
    "    plt.title('Received constellation (SNR = $%1.2f$\\,dBm)' % (SNR))    \n",
    "    \n",
    "interactive_update = interactive(plot_constellation, SNR = widgets.FloatSlider(min=0.0,max=30.0,step=0.1,value=15, continuous_update=False, description='SNR (dB)', style={'description_width': 'initial'}, layout=widgets.Layout(width='50%')))\n",
    "\n",
    "\n",
    "output = interactive_update.children[-1]\n",
    "output.layout.height = '500px'\n",
    "interactive_update"
   ]
  },
  {
   "cell_type": "markdown",
   "metadata": {},
   "source": [
    "Carry out gradient descent. Please insert the relevant code for yourself."
   ]
  },
  {
   "cell_type": "code",
   "execution_count": null,
   "metadata": {},
   "outputs": [],
   "source": [
    "class logistic_regression_bias(nn.Module):\n",
    "    def __init__(self, logits):\n",
    "        # TODO: implement initialization\n",
    "        \n",
    "    def forward(self, x):\n",
    "        # TODO implement forward mapping"
   ]
  },
  {
   "cell_type": "markdown",
   "metadata": {},
   "source": [
    "Main program loop, carry out 1000 iterations of gradient descent for finding the weights"
   ]
  },
  {
   "cell_type": "code",
   "execution_count": null,
   "metadata": {
    "pycharm": {}
   },
   "outputs": [],
   "source": [
    "# initialize model and copy to target device\n",
    "model = logistic_regression_bias(len(constellation))\n",
    "model.to(device)\n",
    "\n",
    "\n",
    "# Negative Log-Likelihood Loss function, attention, requires LogSoftmax to compute logarithmic softmax outputs\n",
    "# TODO implement loss function\n",
    "loss_fn = \n",
    "\n",
    "# Adam Optimizer\n",
    "# TODO specify optimizer\n",
    "optimizer = \n",
    "\n",
    "# Build dataset\n",
    "SNR = 19 #dB\n",
    "\n",
    "# Transmit data (bits)\n",
    "ti = np.random.randint(len(constellation),size=length)\n",
    "t = constellation[ti]\n",
    "# Channel output\n",
    "r = simulate_channel(t, SNR)\n",
    "inputs = np.column_stack((np.real(r), np.imag(r)))\n",
    "\n",
    "# convert input vector to pytorch\n",
    "# TODO fill out vectors\n",
    "inputs_torch = \n",
    "labels_torch = \n",
    "\n",
    "n = len(constellation)\n",
    "\n",
    "\n",
    "# main gradient descent loop\n",
    "for i in range(10000):            \n",
    "    outputs = model(inputs_torch)\n",
    "    loss = loss_fn(outputs, labels_torch)\n",
    "    \n",
    "    # compute gradient\n",
    "    # TODO compute gradient\n",
    "    \n",
    "    # optimize\n",
    "    # TODO run optimizer\n",
    "    \n",
    "    # reset gradients\n",
    "    # TODO reset gradient\n",
    "    \n",
    "    if i % 500 == 0:\n",
    "        preds = np.argmax(model(inputs_torch).detach().cpu().numpy(), axis=1)        \n",
    "        error_rate = np.mean(preds != ti)\n",
    "        print('Step',i,' : ',error_rate,' error_rate with loss ',loss)"
   ]
  },
  {
   "cell_type": "code",
   "execution_count": null,
   "metadata": {},
   "outputs": [],
   "source": [
    "ext_x = max(abs(np.real(r)))\n",
    "ext_y = max(abs(np.imag(r)))\n",
    "ext_max = max(ext_x,ext_y)*1.2\n",
    "\n",
    "mgx,mgy = np.meshgrid(np.linspace(-ext_max,ext_max,200), np.linspace(-ext_max,ext_max,200))\n",
    "meshgrid = torch.from_numpy( np.column_stack((np.reshape(mgx,(-1,1)),np.reshape(mgy,(-1,1)))) ).float().to(device)\n",
    "\n",
    "decision_region = np.argmax(model(meshgrid).detach().cpu().numpy(), axis=1) / 16\n",
    "\n",
    "plt.figure(figsize=(8,8))\n",
    "#plt.contourf(mgx,mgy,decision_region.reshape(mgy.shape),cmap='tab20',vmin=0,vmax=1)\n",
    "plt.scatter(meshgrid[:,0],meshgrid[:,1],c = decision_region,cmap='tab20', s=5, alpha=0.7)\n",
    "plt.scatter(np.real(r), np.imag(r), c=ti, cmap='tab20')\n",
    "\n",
    "plt.axis('scaled')\n",
    "plt.xlim((-ext_max,+ext_max))\n",
    "plt.ylim((-ext_max,+ext_max))\n",
    "plt.xlabel(r'$\\Re\\{r\\}$',fontsize=16)\n",
    "plt.ylabel(r'$\\Im\\{r\\}$',fontsize=16)\n",
    "plt.title('Decision regision',fontsize=16) "
   ]
  },
  {
   "cell_type": "markdown",
   "metadata": {},
   "source": [
    "Try a more _Deep-Learning_ soft of doing things with mini-batches and directly using the cross-entropy loss function"
   ]
  },
  {
   "cell_type": "code",
   "execution_count": null,
   "metadata": {},
   "outputs": [],
   "source": [
    "class logistic_regression_nosoftmax_bias(nn.Module):\n",
    "    def __init__(self, logits):\n",
    "        # TODO implement\n",
    "                   \n",
    "    def forward(self, x):\n",
    "        # Linear function, first layer\n",
    "        # TODO implement"
   ]
  },
  {
   "cell_type": "code",
   "execution_count": null,
   "metadata": {},
   "outputs": [],
   "source": [
    "# initialize model\n",
    "model = logistic_regression_nosoftmax_bias(len(constellation))\n",
    "model.to(device)\n",
    "\n",
    "# TODO select loss function\n",
    "loss_fn_cn = \n",
    "\n",
    "# TODO select Adam optimizer\n",
    "optimizer = \n",
    "\n",
    "# Build dataset\n",
    "SNR = 19 #dB\n",
    "\n",
    "\n",
    "dataset_length = np.linspace(100,length, 10000)\n",
    "\n",
    "# main gradient descent loop\n",
    "for i in range(10000):       \n",
    "    \n",
    "    # Transmit data (bits)\n",
    "    ti = np.random.randint(len(constellation),size=int(dataset_length[i]))\n",
    "    t = constellation[ti]\n",
    "    # Channel output\n",
    "    r = simulate_channel(t, SNR)\n",
    "    \n",
    "    # generate classifier input\n",
    "    inputs = np.column_stack((np.real(r), np.imag(r)))\n",
    "\n",
    "    # convert input vector to pytorch\n",
    "    # TODO implement\n",
    "    inputs_torch = \n",
    "    labels_torch = \n",
    "\n",
    "    n = len(constellation)\n",
    "\n",
    "\n",
    "    outputs = model(inputs_torch)\n",
    "    loss = loss_fn_cn(outputs, labels_torch)\n",
    "    \n",
    "    # compute gradient\n",
    "    # TODO implement\n",
    "    \n",
    "    # optimize\n",
    "    # TODO implement\n",
    "    \n",
    "    # reset gradients\n",
    "    # TODO implement\n",
    "    \n",
    "    if i % 500 == 0:\n",
    "        preds = np.argmax(model(inputs_torch).detach().cpu().numpy(), axis=1)        \n",
    "        error_rate = np.mean(preds != ti)\n",
    "        print('Step',i,' : ',error_rate,' error_rate with loss ',loss)"
   ]
  },
  {
   "cell_type": "code",
   "execution_count": null,
   "metadata": {},
   "outputs": [],
   "source": [
    "ext_x = max(abs(np.real(r)))\n",
    "ext_y = max(abs(np.imag(r)))\n",
    "ext_max = max(ext_x,ext_y)*1.2\n",
    "\n",
    "mgx,mgy = np.meshgrid(np.linspace(-ext_max,ext_max,200), np.linspace(-ext_max,ext_max,200))\n",
    "meshgrid = torch.from_numpy( np.column_stack((np.reshape(mgx,(-1,1)),np.reshape(mgy,(-1,1)))) ).float().to(device)\n",
    "\n",
    "decision_region = np.argmax(model(meshgrid).detach().cpu().numpy(), axis=1) / 16\n",
    "\n",
    "plt.figure(figsize=(8,8))\n",
    "#plt.contourf(mgx,mgy,decision_region.reshape(mgy.shape),cmap='tab20',vmin=0,vmax=1)\n",
    "plt.scatter(meshgrid[:,0],meshgrid[:,1],c = decision_region,cmap='tab20', s=5, alpha=0.7)\n",
    "plt.scatter(np.real(r), np.imag(r), c=ti, cmap='tab20')\n",
    "\n",
    "plt.axis('scaled')\n",
    "plt.xlim((-ext_max,+ext_max))\n",
    "plt.ylim((-ext_max,+ext_max))\n",
    "plt.xlabel(r'$\\Re\\{r\\}$',fontsize=16)\n",
    "plt.ylabel(r'$\\Im\\{r\\}$',fontsize=16)\n",
    "plt.title('Decision regision',fontsize=16)"
   ]
  },
  {
   "cell_type": "code",
   "execution_count": null,
   "metadata": {},
   "outputs": [],
   "source": []
  }
 ],
 "metadata": {
  "kernelspec": {
   "display_name": "Python 3",
   "language": "python",
   "name": "python3"
  },
  "language_info": {
   "codemirror_mode": {
    "name": "ipython",
    "version": 3
   },
   "file_extension": ".py",
   "mimetype": "text/x-python",
   "name": "python",
   "nbconvert_exporter": "python",
   "pygments_lexer": "ipython3",
   "version": "3.7.6"
  }
 },
 "nbformat": 4,
 "nbformat_minor": 2
}
