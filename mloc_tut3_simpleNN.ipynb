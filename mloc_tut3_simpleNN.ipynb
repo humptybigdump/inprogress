{
 "cells": [
  {
   "cell_type": "markdown",
   "metadata": {},
   "source": [
    "# Function Approximation with a Multilayer Perceptron\n",
    "\n",
    "This code is provided as supplementary material of the lecture Machine Learning and Optimization in Communications (MLOC).<br>\n",
    "\n",
    "This code illustrates:\n",
    "* Approximation of 1D functions using a simple neural network (NN)"
   ]
  },
  {
   "cell_type": "code",
   "execution_count": null,
   "metadata": {},
   "outputs": [],
   "source": [
    "import numpy as np\n",
    "import torch\n",
    "import torch.nn as nn\n",
    "import torch.optim as optim\n",
    "import matplotlib.pyplot as plt\n",
    "from mpl_toolkits.mplot3d import Axes3D\n",
    "from sklearn.preprocessing import MinMaxScaler\n",
    "%matplotlib inline\n",
    "\n",
    "device = 'cuda' if torch.cuda.is_available() else 'cpu'\n",
    "print(\"We are using the following device for learning:\",device)"
   ]
  },
  {
   "cell_type": "markdown",
   "metadata": {},
   "source": [
    "Create a **neural network** as required by the exercise"
   ]
  },
  {
   "cell_type": "code",
   "execution_count": null,
   "metadata": {},
   "outputs": [],
   "source": [
    "class simple_NN(nn.Module):\n",
    "    def __init__(self):\n",
    "        super(simple_NN, self).__init__()\n",
    "       \n",
    "        # TODO: implement\n",
    "        \n",
    "    def forward(self, x):\n",
    "        # TODO: implement        "
   ]
  },
  {
   "cell_type": "markdown",
   "metadata": {},
   "source": [
    "Compute output for the given input values and the given weights"
   ]
  },
  {
   "cell_type": "code",
   "execution_count": null,
   "metadata": {},
   "outputs": [],
   "source": [
    "model = simple_NN()\n",
    "model.to(device)\n",
    "\n",
    "x = torch.Tensor([0,1])\n",
    "out = model(x)\n",
    "print(out)"
   ]
  },
  {
   "cell_type": "code",
   "execution_count": null,
   "metadata": {},
   "outputs": [],
   "source": [
    "# initialize model\n",
    "model = simple_NN()\n",
    "model.to(device)\n",
    "\n",
    "# TODO select loss function\n",
    "loss_fn = \n",
    "\n",
    "# TODO select optimizer\n",
    "optimizer = \n",
    "#optimizer = \n",
    "\n",
    "# Build dataset\n",
    "x_train = torch.Tensor([-3.0, -2.0, -1.5, -1.0, -0.5, 0.0, 0.5, 1.0, 1.5, 2.0, 3.0])\n",
    "y_train = torch.Tensor([0.7312, 0.7339, 0.7438, 0.7832, 0.8903, 0.9820, 0.8114, 0.5937, 0.5219, 0.5049, 0.5002])\n",
    "\n",
    "\n",
    "# main gradient descent loop\n",
    "for i in range(100000):       \n",
    "    x_hat = model(x_train)\n",
    "    loss = loss_fn(x_hat, y_train)\n",
    "    \n",
    "    # compute gradient\n",
    "    loss.backward()\n",
    "    \n",
    "    # optimize\n",
    "    optimizer.step()\n",
    "    \n",
    "    # reset gradients\n",
    "    optimizer.zero_grad()\n",
    "    \n",
    "    if i % 1000 == 0:\n",
    "        print('Iteration',i,' : Loss = ', loss)"
   ]
  },
  {
   "cell_type": "code",
   "execution_count": null,
   "metadata": {},
   "outputs": [],
   "source": [
    "print(model.weights)"
   ]
  },
  {
   "cell_type": "code",
   "execution_count": null,
   "metadata": {},
   "outputs": [],
   "source": [
    "print(x_hat)"
   ]
  },
  {
   "cell_type": "code",
   "execution_count": null,
   "metadata": {
    "pycharm": {
     "is_executing": false,
     "name": "#%%\n"
    }
   },
   "outputs": [],
   "source": [
    "fig = plt.figure(1, figsize=(8,6))\n",
    "\n",
    "x_eval = np.linspace(-5,5,100)\n",
    "x_hat = model(torch.from_numpy(x_eval))\n",
    "\n",
    "plt.plot(x_eval, x_hat.detach().cpu().numpy(), '-', color='darkorange', linewidth=1.0)   \n",
    "plt.plot(x_train, y_train, '.', color='royalblue')\n",
    "plt.legend(['NN output', 'Training Data'])\n",
    "plt.grid(which='both');\n",
    "plt.rcParams.update({'font.size': 14})\n",
    "plt.xlabel('x');\n",
    "plt.ylabel('y')"
   ]
  }
 ],
 "metadata": {
  "kernelspec": {
   "display_name": "Python 3",
   "language": "python",
   "name": "python3"
  },
  "language_info": {
   "codemirror_mode": {
    "name": "ipython",
    "version": 3
   },
   "file_extension": ".py",
   "mimetype": "text/x-python",
   "name": "python",
   "nbconvert_exporter": "python",
   "pygments_lexer": "ipython3",
   "version": "3.7.6"
  },
  "pycharm": {
   "stem_cell": {
    "cell_type": "raw",
    "metadata": {
     "collapsed": false
    },
    "source": []
   }
  }
 },
 "nbformat": 4,
 "nbformat_minor": 2
}
