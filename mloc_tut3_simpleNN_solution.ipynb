{
 "cells": [
  {
   "cell_type": "markdown",
   "metadata": {},
   "source": [
    "# Function Approximation with a Simple Neural Network\n",
    "\n",
    "This code is provided as supplementary material of the lecture Machine Learning and Optimization in Communications (MLOC).<br>\n",
    "\n",
    "This code illustrates:\n",
    "* Approximation of 1D functions using a simple neural network (NN)"
   ]
  },
  {
   "cell_type": "code",
   "execution_count": 1,
   "metadata": {},
   "outputs": [
    {
     "name": "stdout",
     "output_type": "stream",
     "text": [
      "We are using the following device for learning: cpu\n"
     ]
    }
   ],
   "source": [
    "import numpy as np\n",
    "import torch\n",
    "import torch.nn as nn\n",
    "import torch.optim as optim\n",
    "import matplotlib.pyplot as plt\n",
    "from mpl_toolkits.mplot3d import Axes3D\n",
    "from sklearn.preprocessing import MinMaxScaler\n",
    "%matplotlib inline\n",
    "\n",
    "device = 'cuda' if torch.cuda.is_available() else 'cpu'\n",
    "print(\"We are using the following device for learning:\",device)"
   ]
  },
  {
   "cell_type": "markdown",
   "metadata": {},
   "source": [
    "Create a **neural network** as required by the exercise"
   ]
  },
  {
   "cell_type": "code",
   "execution_count": 45,
   "metadata": {},
   "outputs": [],
   "source": [
    "class simple_NN(nn.Module):\n",
    "    def __init__(self):\n",
    "        super(simple_NN, self).__init__()\n",
    "       \n",
    "        # initialize weights\n",
    "        weight_init = np.array([2.0, -10.0, 1.0, -3.0, -4.0, -1.0, 1.0])               \n",
    "        self.weights = torch.nn.Parameter(torch.from_numpy(weight_init))\n",
    "        \n",
    "        # random weights\n",
    "        #self.weights = torch.nn.Parameter(torch.randn(7))\n",
    "        \n",
    "        # Non-linearity via softmax\n",
    "        self.sigmoid = nn.Sigmoid()\n",
    "        self.ReLU = nn.ReLU()\n",
    "        \n",
    "    def forward(self, x):\n",
    "        a1 = self.sigmoid(self.weights[0]*x)\n",
    "        a2 = self.sigmoid(self.weights[1]*x)\n",
    "        a3 = self.ReLU(self.weights[2]*a1 + self.weights[3]*a2)\n",
    "        out = self.sigmoid(self.weights[4]*a1 + self.weights[5]*a2 + self.weights[6]*a3)\n",
    "        \n",
    "        return out"
   ]
  },
  {
   "cell_type": "markdown",
   "metadata": {},
   "source": [
    "Compute output for the given input values and the given weights"
   ]
  },
  {
   "cell_type": "code",
   "execution_count": 47,
   "metadata": {},
   "outputs": [
    {
     "name": "stdout",
     "output_type": "stream",
     "text": [
      "tensor([0.0759, 0.0664], grad_fn=<SigmoidBackward>)\n"
     ]
    }
   ],
   "source": [
    "model = simple_NN()\n",
    "model.to(device)\n",
    "\n",
    "x = torch.Tensor([0,1])\n",
    "out = model(x)\n",
    "print(out)"
   ]
  },
  {
   "cell_type": "code",
   "execution_count": 52,
   "metadata": {},
   "outputs": [
    {
     "name": "stdout",
     "output_type": "stream",
     "text": [
      "Iteration 0  : Loss =  tensor(0.3551, grad_fn=<MseLossBackward>)\n",
      "Iteration 1000  : Loss =  tensor(0.2001, grad_fn=<MseLossBackward>)\n",
      "Iteration 2000  : Loss =  tensor(0.0828, grad_fn=<MseLossBackward>)\n",
      "Iteration 3000  : Loss =  tensor(0.0621, grad_fn=<MseLossBackward>)\n",
      "Iteration 4000  : Loss =  tensor(0.0529, grad_fn=<MseLossBackward>)\n",
      "Iteration 5000  : Loss =  tensor(0.0477, grad_fn=<MseLossBackward>)\n",
      "Iteration 6000  : Loss =  tensor(0.0442, grad_fn=<MseLossBackward>)\n",
      "Iteration 7000  : Loss =  tensor(0.0415, grad_fn=<MseLossBackward>)\n",
      "Iteration 8000  : Loss =  tensor(0.0394, grad_fn=<MseLossBackward>)\n",
      "Iteration 9000  : Loss =  tensor(0.0377, grad_fn=<MseLossBackward>)\n",
      "Iteration 10000  : Loss =  tensor(0.0362, grad_fn=<MseLossBackward>)\n",
      "Iteration 11000  : Loss =  tensor(0.0349, grad_fn=<MseLossBackward>)\n",
      "Iteration 12000  : Loss =  tensor(0.0337, grad_fn=<MseLossBackward>)\n",
      "Iteration 13000  : Loss =  tensor(0.0327, grad_fn=<MseLossBackward>)\n",
      "Iteration 14000  : Loss =  tensor(0.0318, grad_fn=<MseLossBackward>)\n",
      "Iteration 15000  : Loss =  tensor(0.0309, grad_fn=<MseLossBackward>)\n",
      "Iteration 16000  : Loss =  tensor(0.0302, grad_fn=<MseLossBackward>)\n",
      "Iteration 17000  : Loss =  tensor(0.0294, grad_fn=<MseLossBackward>)\n",
      "Iteration 18000  : Loss =  tensor(0.0288, grad_fn=<MseLossBackward>)\n",
      "Iteration 19000  : Loss =  tensor(0.0282, grad_fn=<MseLossBackward>)\n",
      "Iteration 20000  : Loss =  tensor(0.0276, grad_fn=<MseLossBackward>)\n",
      "Iteration 21000  : Loss =  tensor(0.0270, grad_fn=<MseLossBackward>)\n",
      "Iteration 22000  : Loss =  tensor(0.0265, grad_fn=<MseLossBackward>)\n",
      "Iteration 23000  : Loss =  tensor(0.0260, grad_fn=<MseLossBackward>)\n",
      "Iteration 24000  : Loss =  tensor(0.0255, grad_fn=<MseLossBackward>)\n",
      "Iteration 25000  : Loss =  tensor(0.0250, grad_fn=<MseLossBackward>)\n",
      "Iteration 26000  : Loss =  tensor(0.0246, grad_fn=<MseLossBackward>)\n",
      "Iteration 27000  : Loss =  tensor(0.0242, grad_fn=<MseLossBackward>)\n",
      "Iteration 28000  : Loss =  tensor(0.0238, grad_fn=<MseLossBackward>)\n",
      "Iteration 29000  : Loss =  tensor(0.0234, grad_fn=<MseLossBackward>)\n",
      "Iteration 30000  : Loss =  tensor(0.0230, grad_fn=<MseLossBackward>)\n",
      "Iteration 31000  : Loss =  tensor(0.0226, grad_fn=<MseLossBackward>)\n",
      "Iteration 32000  : Loss =  tensor(0.0222, grad_fn=<MseLossBackward>)\n",
      "Iteration 33000  : Loss =  tensor(0.0219, grad_fn=<MseLossBackward>)\n",
      "Iteration 34000  : Loss =  tensor(0.0215, grad_fn=<MseLossBackward>)\n",
      "Iteration 35000  : Loss =  tensor(0.0212, grad_fn=<MseLossBackward>)\n",
      "Iteration 36000  : Loss =  tensor(0.0209, grad_fn=<MseLossBackward>)\n",
      "Iteration 37000  : Loss =  tensor(0.0206, grad_fn=<MseLossBackward>)\n",
      "Iteration 38000  : Loss =  tensor(0.0203, grad_fn=<MseLossBackward>)\n",
      "Iteration 39000  : Loss =  tensor(0.0200, grad_fn=<MseLossBackward>)\n",
      "Iteration 40000  : Loss =  tensor(0.0198, grad_fn=<MseLossBackward>)\n",
      "Iteration 41000  : Loss =  tensor(0.0195, grad_fn=<MseLossBackward>)\n",
      "Iteration 42000  : Loss =  tensor(0.0192, grad_fn=<MseLossBackward>)\n",
      "Iteration 43000  : Loss =  tensor(0.0190, grad_fn=<MseLossBackward>)\n",
      "Iteration 44000  : Loss =  tensor(0.0188, grad_fn=<MseLossBackward>)\n",
      "Iteration 45000  : Loss =  tensor(0.0186, grad_fn=<MseLossBackward>)\n",
      "Iteration 46000  : Loss =  tensor(0.0184, grad_fn=<MseLossBackward>)\n",
      "Iteration 47000  : Loss =  tensor(0.0182, grad_fn=<MseLossBackward>)\n",
      "Iteration 48000  : Loss =  tensor(0.0180, grad_fn=<MseLossBackward>)\n",
      "Iteration 49000  : Loss =  tensor(0.0178, grad_fn=<MseLossBackward>)\n",
      "Iteration 50000  : Loss =  tensor(0.0176, grad_fn=<MseLossBackward>)\n",
      "Iteration 51000  : Loss =  tensor(0.0175, grad_fn=<MseLossBackward>)\n",
      "Iteration 52000  : Loss =  tensor(0.0173, grad_fn=<MseLossBackward>)\n",
      "Iteration 53000  : Loss =  tensor(0.0172, grad_fn=<MseLossBackward>)\n",
      "Iteration 54000  : Loss =  tensor(0.0170, grad_fn=<MseLossBackward>)\n",
      "Iteration 55000  : Loss =  tensor(0.0169, grad_fn=<MseLossBackward>)\n",
      "Iteration 56000  : Loss =  tensor(0.0168, grad_fn=<MseLossBackward>)\n",
      "Iteration 57000  : Loss =  tensor(0.0167, grad_fn=<MseLossBackward>)\n",
      "Iteration 58000  : Loss =  tensor(0.0166, grad_fn=<MseLossBackward>)\n",
      "Iteration 59000  : Loss =  tensor(0.0165, grad_fn=<MseLossBackward>)\n",
      "Iteration 60000  : Loss =  tensor(0.0164, grad_fn=<MseLossBackward>)\n",
      "Iteration 61000  : Loss =  tensor(0.0163, grad_fn=<MseLossBackward>)\n",
      "Iteration 62000  : Loss =  tensor(0.0162, grad_fn=<MseLossBackward>)\n",
      "Iteration 63000  : Loss =  tensor(0.0161, grad_fn=<MseLossBackward>)\n",
      "Iteration 64000  : Loss =  tensor(0.0160, grad_fn=<MseLossBackward>)\n",
      "Iteration 65000  : Loss =  tensor(0.0159, grad_fn=<MseLossBackward>)\n",
      "Iteration 66000  : Loss =  tensor(0.0158, grad_fn=<MseLossBackward>)\n",
      "Iteration 67000  : Loss =  tensor(0.0158, grad_fn=<MseLossBackward>)\n",
      "Iteration 68000  : Loss =  tensor(0.0157, grad_fn=<MseLossBackward>)\n",
      "Iteration 69000  : Loss =  tensor(0.0156, grad_fn=<MseLossBackward>)\n",
      "Iteration 70000  : Loss =  tensor(0.0156, grad_fn=<MseLossBackward>)\n",
      "Iteration 71000  : Loss =  tensor(0.0155, grad_fn=<MseLossBackward>)\n",
      "Iteration 72000  : Loss =  tensor(0.0154, grad_fn=<MseLossBackward>)\n",
      "Iteration 73000  : Loss =  tensor(0.0154, grad_fn=<MseLossBackward>)\n",
      "Iteration 74000  : Loss =  tensor(0.0153, grad_fn=<MseLossBackward>)\n",
      "Iteration 75000  : Loss =  tensor(0.0152, grad_fn=<MseLossBackward>)\n",
      "Iteration 76000  : Loss =  tensor(0.0152, grad_fn=<MseLossBackward>)\n",
      "Iteration 77000  : Loss =  tensor(0.0151, grad_fn=<MseLossBackward>)\n",
      "Iteration 78000  : Loss =  tensor(0.0150, grad_fn=<MseLossBackward>)\n",
      "Iteration 79000  : Loss =  tensor(0.0150, grad_fn=<MseLossBackward>)\n",
      "Iteration 80000  : Loss =  tensor(0.0149, grad_fn=<MseLossBackward>)\n",
      "Iteration 81000  : Loss =  tensor(0.0148, grad_fn=<MseLossBackward>)\n",
      "Iteration 82000  : Loss =  tensor(0.0147, grad_fn=<MseLossBackward>)\n",
      "Iteration 83000  : Loss =  tensor(0.0147, grad_fn=<MseLossBackward>)\n",
      "Iteration 84000  : Loss =  tensor(0.0146, grad_fn=<MseLossBackward>)\n",
      "Iteration 85000  : Loss =  tensor(0.0145, grad_fn=<MseLossBackward>)\n",
      "Iteration 86000  : Loss =  tensor(0.0144, grad_fn=<MseLossBackward>)\n",
      "Iteration 87000  : Loss =  tensor(0.0143, grad_fn=<MseLossBackward>)\n",
      "Iteration 88000  : Loss =  tensor(0.0142, grad_fn=<MseLossBackward>)\n",
      "Iteration 89000  : Loss =  tensor(0.0142, grad_fn=<MseLossBackward>)\n",
      "Iteration 90000  : Loss =  tensor(0.0141, grad_fn=<MseLossBackward>)\n",
      "Iteration 91000  : Loss =  tensor(0.0140, grad_fn=<MseLossBackward>)\n",
      "Iteration 92000  : Loss =  tensor(0.0139, grad_fn=<MseLossBackward>)\n",
      "Iteration 93000  : Loss =  tensor(0.0138, grad_fn=<MseLossBackward>)\n",
      "Iteration 94000  : Loss =  tensor(0.0137, grad_fn=<MseLossBackward>)\n",
      "Iteration 95000  : Loss =  tensor(0.0136, grad_fn=<MseLossBackward>)\n",
      "Iteration 96000  : Loss =  tensor(0.0135, grad_fn=<MseLossBackward>)\n",
      "Iteration 97000  : Loss =  tensor(0.0134, grad_fn=<MseLossBackward>)\n",
      "Iteration 98000  : Loss =  tensor(0.0133, grad_fn=<MseLossBackward>)\n",
      "Iteration 99000  : Loss =  tensor(0.0132, grad_fn=<MseLossBackward>)\n"
     ]
    }
   ],
   "source": [
    "# initialize model\n",
    "model = simple_NN()\n",
    "model.to(device)\n",
    "\n",
    "# TODO select loss function\n",
    "loss_fn = nn.MSELoss()\n",
    "\n",
    "# TODO select Adam optimizer\n",
    "optimizer = optim.SGD(model.parameters(), lr=0.01)  \n",
    "#optimizer = optim.Adam(model.parameters())\n",
    "\n",
    "# Build dataset\n",
    "x_train = torch.Tensor([-3.0, -2.0, -1.5, -1.0, -0.5, 0.0, 0.5, 1.0, 1.5, 2.0, 3.0])\n",
    "y_train = torch.Tensor([0.7312, 0.7339, 0.7438, 0.7832, 0.8903, 0.9820, 0.8114, 0.5937, 0.5219, 0.5049, 0.5002])\n",
    "\n",
    "\n",
    "# main gradient descent loop\n",
    "for i in range(100000):       \n",
    "    x_hat = model(x_train)\n",
    "    loss = loss_fn(x_hat, y_train)\n",
    "    \n",
    "    # compute gradient\n",
    "    loss.backward()\n",
    "    \n",
    "    # optimize\n",
    "    optimizer.step()\n",
    "    \n",
    "    # reset gradients\n",
    "    optimizer.zero_grad()\n",
    "    \n",
    "    if i % 1000 == 0:\n",
    "        print('Iteration',i,' : Loss = ', loss)"
   ]
  },
  {
   "cell_type": "code",
   "execution_count": 53,
   "metadata": {},
   "outputs": [
    {
     "name": "stdout",
     "output_type": "stream",
     "text": [
      "Parameter containing:\n",
      "tensor([  2.6254, -10.0122,   0.7824,  -2.9615,   0.8522,   1.3668,  -0.6186],\n",
      "       dtype=torch.float64, requires_grad=True)\n"
     ]
    }
   ],
   "source": [
    "print(model.weights)"
   ]
  },
  {
   "cell_type": "code",
   "execution_count": 54,
   "metadata": {},
   "outputs": [
    {
     "name": "stdout",
     "output_type": "stream",
     "text": [
      "tensor([0.7969, 0.7976, 0.7995, 0.8060, 0.8232, 0.7520, 0.5772, 0.5850, 0.5893,\n",
      "        0.5906, 0.5910], grad_fn=<SigmoidBackward>)\n"
     ]
    }
   ],
   "source": [
    "print(x_hat)"
   ]
  },
  {
   "cell_type": "code",
   "execution_count": 55,
   "metadata": {
    "pycharm": {
     "is_executing": false,
     "name": "#%%\n"
    }
   },
   "outputs": [
    {
     "data": {
      "text/plain": [
       "Text(0, 0.5, 'y')"
      ]
     },
     "execution_count": 55,
     "metadata": {},
     "output_type": "execute_result"
    },
    {
     "data": {
      "image/png": "[encoded data removed]",
      "text/plain": [
       "<Figure size 576x432 with 1 Axes>"
      ]
     },
     "metadata": {
      "needs_background": "light"
     },
     "output_type": "display_data"
    }
   ],
   "source": [
    "fig = plt.figure(1, figsize=(8,6))\n",
    "\n",
    "x_eval = np.linspace(-5,5,100)\n",
    "x_hat = model(torch.from_numpy(x_eval))\n",
    "\n",
    "plt.plot(x_eval, x_hat.detach().cpu().numpy(), '-', color='darkorange', linewidth=1.0)   \n",
    "plt.plot(x_train, y_train, '.', color='royalblue')\n",
    "plt.legend(['NN output', 'Training Data'])\n",
    "plt.grid(which='both');\n",
    "plt.rcParams.update({'font.size': 14})\n",
    "plt.xlabel('x');\n",
    "plt.ylabel('y')"
   ]
  }
 ],
 "metadata": {
  "kernelspec": {
   "display_name": "Python 3",
   "language": "python",
   "name": "python3"
  },
  "language_info": {
   "codemirror_mode": {
    "name": "ipython",
    "version": 3
   },
   "file_extension": ".py",
   "mimetype": "text/x-python",
   "name": "python",
   "nbconvert_exporter": "python",
   "pygments_lexer": "ipython3",
   "version": "3.7.6"
  },
  "pycharm": {
   "stem_cell": {
    "cell_type": "raw",
    "metadata": {
     "collapsed": false
    },
    "source": []
   }
  }
 },
 "nbformat": 4,
 "nbformat_minor": 2
}
